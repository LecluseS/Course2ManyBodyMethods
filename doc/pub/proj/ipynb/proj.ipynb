{
 "cells": [
  {
   "cell_type": "markdown",
   "metadata": {},
   "source": [
    "<!-- Slides for many-body text -->\n",
    "<!-- dom:TITLE: Projects and how to develop a numerical project -->\n",
    "# Projects and how to develop a numerical project\n",
    "<!-- dom:AUTHOR: Carlo Barbieri, Wim Dickhoff, Gaute Hagen, Morten Hjorth-Jensen, and Artur Polls -->\n",
    "<!-- Author: --> **Carlo Barbieri, Wim Dickhoff, Gaute Hagen, Morten Hjorth-Jensen, and Artur Polls**\n",
    "\n",
    "Date: **July 6-24, Ganil, Caen, France**\n",
    "\n",
    "## Plan for the Talent course\n",
    "An essential element of the Talent courses is to develop a large project(s) which allows you to study and understand\n",
    "theoretical concepts in nuclear physics.\n",
    "These concepts will in turn allow you to interpret results from experiments and understand the pertinent physics in terms of the underlying forces and laws of motion.\n",
    "\n",
    "Together with the regular lectures in the morning, the hope is that\n",
    "during these three weeks you will be able to write and run a program\n",
    "which implements at least one of the methods discussed during the\n",
    "lectures.  The lectures will also cover additional material which aims\n",
    "at giving you a broader view on what can be achieved with the methods\n",
    "to be discussed. Combined with the 'hands-on' afternoon sessions, the\n",
    "hope is that the lectures and the computational projects will together\n",
    "allow you to achieve these goals. For those of you who would like to\n",
    "get credits to be transferred to your home university, the project(s)\n",
    "can be extended upon allowing you to include further elements to the\n",
    "many-body methods. The load of the final project is estimated to be\n",
    "80 hours. In total, attendence at the course and doing\n",
    "the final project amounts to seven ECTS. There is no credit transfer\n",
    "for Northern-American students.\n",
    "\n",
    "## Outline of the project(s)\n",
    "\n",
    "What is outlined here are several paths that will allow you to develop\n",
    "a program which can be used to study nuclear systems. In particular,\n",
    "we will focus on two widely used many-body methods, coupled cluster\n",
    "theory with its various approximations and Green's function theory.\n",
    "\n",
    "Before we begin, we would however like to present a warm-up problem which\n",
    "contains\n",
    "many of the basic elements of the many-body methods exposed in this course. Furthermore, the simple pairing\n",
    "model described below, provides us with  benchmark results to which we can compare\n",
    "the different many-body methods. The basic elements of the model (single-particle basis and Hamiltonian)\n",
    "can easily be (if structured properly in your program) extended to studies of more realistic systems, either\n",
    "finite systems like nuclei or infinite nuclear matter.\n",
    "\n",
    "The first part of the project is a traditional paper and pencil part, where the aim is to\n",
    "apply second quantization in order to set up the Hamiltonian matrix to be diagonalized.\n",
    "We will study this model the first two afternoons of the school.\n",
    "\n",
    "At most, with four particles in four doubly degenerate single particle states and no broken pairs,\n",
    "you will have a $6 \\times 6$ Hamiltonian matrix to diagonalize. Below, you will find a simple python program\n",
    "which performs the diagonalization and plots the eigenvalues. Parts of this warm-up exercise are solved below.\n",
    "These aspects will be discussed partly during the lectures but also during some of the afternoon sessions.\n",
    "Practical guidelines for code writing will also be discussed.\n",
    "\n",
    "\n",
    "This exercise will allow us to start writing our first skeleton for a coupled cluster theory program at the so-called doubles level of truncation. It will also, for those of you who will prefer  to study Green's functions, serve as a\n",
    "starting point for developing the skeleton of a program for this method. The aim is to finish this part of the program during the first week.\n",
    "\n",
    "With a program which then benchmarks the simple pairing model, we will turn our attention to more realistic systems.\n",
    "Here we propose the following  paths that can be studied with either coupled cluster theory or Green's function theory. Many of the technicalities will be discussed at the lectures and the afternoon sessions during the last two weeks.\n",
    "\n",
    "1. Studies of nuclear matter with a cartesian basis using coupled cluster theory at the level of doubles excitations\n",
    "\n",
    "  * During the three weeks of the course we will mainly focus on two-particle and two-hole excitations\n",
    "\n",
    "  * Focusing only on two-particle correlations in a finite cartesian basis, these can be compared with Brueckner-Hartree-Fock calculations in the infinite limit. The latter should represent exactly two-particle correlations to infinite order. A simple model for the nuclear force will be used.\n",
    "\n",
    "  * For the final project the code can be extended to include particle-hole correlations as well\n",
    "\n",
    "\n",
    "2. The two above paths can be performed using Green's function as well.\n",
    "\n",
    "  * Studies of infinite nuclear matter including two-particle and two-hole correlations using a cartesian basis.\n",
    "\n",
    "  * Comparison of two-particle correlations from Brueckner-Hartree-Fock calculations in the infinite limit\n",
    "\n",
    "\n",
    "If there is enough interest, we can also develop projects where Coupled Cluster theory and Green's function theories are applied to finite systems. In this case we would like to propose a simple system of neutrons in a harmonic oscillator trap since these calculations can be benchmarked agains [existing results](http://journals.aps.org/prc/abstract/10.1103/PhysRevC.84.044306).\n",
    "\n",
    "\n",
    "When working on the projects, we recommend strongly that you form teams of two to three participants. Every team\n",
    "**must** have a *github account* where we can monitor your progress and give you appropriate feedback.\n",
    "\n",
    "If you have not used version control before now, it is time to do so.\n",
    "Proper version control is central to a good ethical scientific conduct.\n",
    "We do require that you use some kind of version control software when working on the projects. We recommend strongly [github](https://github.com/). All lectures and additional material is available at the github [address of the course](http://nucleartalent.github.io/Course2ManyBodyMethods/doc/web/course.html)\n",
    "\n",
    "Furthermore, before coming to the course, we recommend that you refresh your knowledge on second quantization.\n",
    "If your background in second quantization is rudimentary and mentioning of Wick's leave you gazing at the stars,\n",
    "we recommend that you study the material at the course web site on [second quantization](http://nucleartalent.github.io/Course2ManyBodyMethods/doc/pub/secondquant/html/secondquant-bs.html). Try in particular to do some of the exercises.\n",
    "\n",
    "We will also ask  you to come with your own laptop and have installed either a\n",
    "* Fortran compiler or a\n",
    "\n",
    "* c++ compiler\n",
    "\n",
    "If you do not have your own laptop, there will be some PCs locally with the relevant compilers and software.\n",
    "\n",
    "You can use Python as programming language as well, but normally the efficiency of Python for the problems addressed in this course is lower than for codes written in Fortran or c++. We recommend however that use Python as a scripting language for running codes and making plots, as well as using the ipython notebooks provided by us.\n",
    "\n",
    "## Some basic ingredients for a successful numerical project\n",
    "\n",
    "When building up a numerical project there are several elements you should think of, amongst these we take the liberty of mentioning the following:\n",
    "  1. How to structure a code in terms of functions\n",
    "\n",
    "  2. How to make a module\n",
    "\n",
    "  3. How to read input data flexibly from the command line\n",
    "\n",
    "  4. How to create graphical/web user interfaces\n",
    "\n",
    "  5. How to write unit tests (test functions)\n",
    "\n",
    "  6. How to refactor code in terms of classes (instead of functions only), in our case you think of a system and a solver class\n",
    "\n",
    "  7. How to conduct and automate large-scale numerical experiments\n",
    "\n",
    "  8. How to write scientific reports in various formats (LaTeX, HTML)\n",
    "\n",
    "The conventions and techniques outlined here will save you a lot of time when you incrementally extend software over time from simpler to more complicated problems. In particular, you will benefit from many good habits:\n",
    "1. New code is added in a modular fashion to a library (modules)\n",
    "\n",
    "2. Programs are run through convenient user interfaces\n",
    "\n",
    "3. It takes one quick command to let all your code undergo heavy testing\n",
    "\n",
    "4. Tedious manual work with running programs is automated,\n",
    "\n",
    "5. Your scientific investigations are reproducible, scientific reports with top quality typesetting are produced both for paper and electronic devices.\n",
    "\n",
    "## The pairing model as warm-up problem\n",
    "\n",
    "We present a simplified Hamiltonian consisting of an unperturbed\n",
    "Hamiltonian and a so-called pairing interaction term. It is a model\n",
    "which to a large extent mimicks some central features of atomic\n",
    "nuclei, certain atoms and systems which exhibit superfluiditity or\n",
    "superconductivity.  To study this system, we will use a mix of\n",
    "many-body perturbation theory (MBPT), Hartree-Fock (HF) theory and full\n",
    "configuration interaction (FCI) theory. The latter will also provide us with\n",
    "the exact answer.  When setting up the Hamiltonian matrix you will\n",
    "need to solve an eigenvalue problem.\n",
    "\n",
    "We define first the Hamiltonian, with a definition of the model space\n",
    "and the single-particle basis. Thereafter, we present the various\n",
    "exercises (some of them are solved).\n",
    "\n",
    "\n",
    "The Hamiltonian acting in the complete Hilbert space (usually infinite\n",
    "dimensional) consists of an unperturbed one-body part, $\\hat{H}_0$,\n",
    "and a perturbation $\\hat{V}$.\n",
    "\n",
    "We limit ourselves to at most two-body interactions and our Hamiltonian\n",
    "is represented by the following operators"
   ]
  },
  {
   "cell_type": "markdown",
   "metadata": {},
   "source": [
    "$$\n",
    "\\hat{H} = \\sum_{\\alpha\\beta}\\langle \\alpha |h_0|\\beta\\rangle\n",
    "a_{\\alpha}^{\\dagger}a_{\\beta}+\\frac{1}{4}\\sum_{\\alpha\\beta\\gamma\\delta}\\langle \\alpha\\beta|\n",
    "V|\\gamma\\delta\\rangle a_{\\alpha}^{\\dagger}a_{\\beta}^{\\dagger}a_{\\delta}a_{\\gamma},\n",
    "$$"
   ]
  },
  {
   "cell_type": "markdown",
   "metadata": {},
   "source": [
    "where $a_{\\alpha}^{\\dagger}$ and $a_{\\alpha}$ etc. are standard\n",
    "fermion creation and annihilation operators, respectively, and\n",
    "$\\alpha\\beta\\gamma\\delta$ represent all possible single-particle\n",
    "quantum numbers.  The full single-particle space is defined by the\n",
    "completeness relation"
   ]
  },
  {
   "cell_type": "markdown",
   "metadata": {},
   "source": [
    "$$\n",
    "\\hat{{\\bf 1}} = \\sum_{\\alpha=1}^{\\infty}|\\alpha \\rangle \\langle \\alpha|.\n",
    "$$"
   ]
  },
  {
   "cell_type": "markdown",
   "metadata": {},
   "source": [
    "In our calculations\n",
    "we will let the single-particle states $|\\alpha\\rangle$ be\n",
    "eigenfunctions of the one-particle operator $\\hat{h}_0$. Note that the two-body part of the Hamiltonian\n",
    "contains anti-symmetrized matrix elements.\n",
    "\n",
    "\n",
    "The above Hamiltonian acts in turn on various many-body Slater\n",
    "determinants constructed from the single-basis defined by the one-body\n",
    "operator $\\hat{h}_0$.  As an example, the two-particle model space\n",
    "$\\mathcal{P}$ is defined by an operator"
   ]
  },
  {
   "cell_type": "markdown",
   "metadata": {},
   "source": [
    "$$\n",
    "\\hat{P} = \\sum_{\\alpha\\beta =1}^{m}|\\alpha\\beta \\rangle \\langle\n",
    "\\alpha\\beta|,\n",
    "$$"
   ]
  },
  {
   "cell_type": "markdown",
   "metadata": {},
   "source": [
    "where we assume that $m=\\dim(\\mathcal{P})$ and the full space is\n",
    "defined by"
   ]
  },
  {
   "cell_type": "markdown",
   "metadata": {},
   "source": [
    "$$\n",
    "\\hat{P}+\\hat{Q}=\\hat{{\\bf 1}},\n",
    "$$"
   ]
  },
  {
   "cell_type": "markdown",
   "metadata": {},
   "source": [
    "with the projection operator"
   ]
  },
  {
   "cell_type": "markdown",
   "metadata": {},
   "source": [
    "$$\n",
    "\\hat{Q} = \\sum_{\\alpha\\beta =m+1}^{\\infty}|\\alpha\\beta \\rangle \\langle\n",
    "\\alpha\\beta|,\n",
    "$$"
   ]
  },
  {
   "cell_type": "markdown",
   "metadata": {},
   "source": [
    "being the complement of $\\hat{P}$.\n",
    "\n",
    "\n",
    "Our specific model consists of $N$ doubly-degenerate and equally\n",
    "spaced single-particle levels labelled by $p=1,2,\\dots$ and spin\n",
    "$\\sigma=\\pm 1$.  These states are schematically portrayed in\n",
    "Fig. ref{fig:schematic}.  The first two single-particle levels define\n",
    "a possible model space, indicated by the label $\\mathcal{P}$.  The\n",
    "remaining states span the excluded space $\\mathcal{Q}$.\n",
    "\n",
    "We write the Hamiltonian as"
   ]
  },
  {
   "cell_type": "markdown",
   "metadata": {},
   "source": [
    "$$\n",
    "\\hat{H} = \\hat{H}_0 + \\hat{V} ,\n",
    "$$"
   ]
  },
  {
   "cell_type": "markdown",
   "metadata": {},
   "source": [
    "where"
   ]
  },
  {
   "cell_type": "markdown",
   "metadata": {},
   "source": [
    "$$\n",
    "\\hat{H}_0=\\xi\\sum_{p\\sigma}(p-1)a_{p\\sigma}^{\\dagger}a_{p\\sigma}\n",
    "$$"
   ]
  },
  {
   "cell_type": "markdown",
   "metadata": {},
   "source": [
    "and"
   ]
  },
  {
   "cell_type": "markdown",
   "metadata": {},
   "source": [
    "$$\n",
    "\\hat{V}=-\\frac{1}{2}g\\sum_{pq}a^{\\dagger}_{p+}\n",
    "a^{\\dagger}_{p-}a_{q-}a_{q+}.\n",
    "$$"
   ]
  },
  {
   "cell_type": "markdown",
   "metadata": {},
   "source": [
    "Here, $H_0$ is the unperturbed Hamiltonian with a spacing between\n",
    "successive single-particle states given by $\\xi$, which we will set to\n",
    "a constant value $\\xi=1$ without loss of generality. The two-body\n",
    "operator $\\hat{V}$ has one term only. It represents the pairing\n",
    "contribution and carries a constant strength $g$.\n",
    "\n",
    "The indices\n",
    "$\\sigma=\\pm$ represent the two possible spin values. The interaction\n",
    "can only couple pairs and excites therefore only two particles at the\n",
    "time, as indicated by the rightmost four-particle state in\n",
    "Fig. ref{fig:schematic}. There one of the pairs is excited to the\n",
    "state with $p=9$ and the other to the state $p=7$. The two middle\n",
    "possibilities are not possible with the present model.  We label\n",
    "single-particle states within the model space as hole-states. The\n",
    "single-particle states outside the model space are then particle\n",
    "states.\n",
    "\n",
    "In our model we have kept both the interaction strength and the\n",
    "single-particle level as constants.  In a realistic system like an\n",
    "atom or the atomic nucleus this is not the case.\n",
    "\n",
    "<!-- dom:FIGURE: [fig-proj/simplemodel.pdf, width=500 frac=0.7] Schematic plot of the possible single-particle levels with double degeneracy.  The filled circles indicate occupied particle  states while the empty circles represent vacant particle(hole)  states.  The spacing between each level $p$ is constant in this picture.  The first two single-particle levels define our possible  model space, indicated by the label $\\mathcal{P}$.  The remaining  states span the excluded space $\\mathcal{Q}$.  The first state to  the left represents a possible ground state representation for a  four-fermion system. In the second state to the left, one pair is   broken. This possibility is however not included in our  interaction. <div id=\"fig:schematic\"></div> -->\n",
    "<!-- begin figure -->\n",
    "<div id=\"fig:schematic\"></div>\n",
    "\n",
    "<p>Schematic plot of the possible single-particle levels with double degeneracy.  The filled circles indicate occupied particle  states while the empty circles represent vacant particle(hole)  states.  The spacing between each level $p$ is constant in this picture.  The first two single-particle levels define our possible  model space, indicated by the label $\\mathcal{P}$.  The remaining  states span the excluded space $\\mathcal{Q}$.  The first state to  the left represents a possible ground state representation for a  four-fermion system. In the second state to the left, one pair is   broken. This possibility is however not included in our  interaction.</p>\n",
    "<img src=\"fig-proj/simplemodel.pdf\" width=500>\n",
    "\n",
    "<!-- end figure -->\n",
    "\n",
    "\n",
    "\n",
    "\n",
    "<!-- --- begin exercise --- -->\n",
    "\n",
    "## Exercise 1: Pairing Hamiltonian\n",
    "\n",
    "\n",
    "**a)**\n",
    "Show that the unperturbed Hamiltonian $\\hat{H}_0$ and $\\hat{V}$\n",
    "  commute with both the spin projection $\\hat{S}_z$ and the total spin\n",
    "  $\\hat{S}^2$, given by"
   ]
  },
  {
   "cell_type": "markdown",
   "metadata": {},
   "source": [
    "$$\n",
    "\\hat{S}_z := \\frac{1}{2}\\sum_{p\\sigma} \\sigma\n",
    "  a^{\\dagger}_{p\\sigma}a_{p\\sigma}\n",
    "$$"
   ]
  },
  {
   "cell_type": "markdown",
   "metadata": {},
   "source": [
    "and"
   ]
  },
  {
   "cell_type": "markdown",
   "metadata": {},
   "source": [
    "$$\n",
    "\\hat{S}^2 := \\hat{S}_z^2 + \\frac{1}{2}(\\hat{S}_+\\hat{S}_- +\n",
    "  \\hat{S}_-\\hat{S}_+),\n",
    "$$"
   ]
  },
  {
   "cell_type": "markdown",
   "metadata": {},
   "source": [
    "where"
   ]
  },
  {
   "cell_type": "markdown",
   "metadata": {},
   "source": [
    "$$\n",
    "\\hat{S}_\\pm := \\sum_{p} a^{\\dagger}_{p\\pm} a_{p\\mp}.\n",
    "$$"
   ]
  },
  {
   "cell_type": "markdown",
   "metadata": {},
   "source": [
    "This is an important feature of our system that allows us to\n",
    "block-diagonalize the full Hamiltonian. We will focus on total spin\n",
    "$S=0$.  In this case, it is convenient to define the so-called pair\n",
    "creation and pair annihilation operators"
   ]
  },
  {
   "cell_type": "markdown",
   "metadata": {},
   "source": [
    "$$\n",
    "\\hat{P}^{+}_p = a^{\\dagger}_{p+}a^{\\dagger}_{p-},\n",
    "$$"
   ]
  },
  {
   "cell_type": "markdown",
   "metadata": {},
   "source": [
    "and"
   ]
  },
  {
   "cell_type": "markdown",
   "metadata": {},
   "source": [
    "$$\n",
    "\\hat{P}^{-}_p = a_{p-}a_{p+},\n",
    "$$"
   ]
  },
  {
   "cell_type": "markdown",
   "metadata": {},
   "source": [
    "respectively.\n",
    "\n",
    "Show that you can rewrite the Hamiltonian (with $\\xi=1$) as"
   ]
  },
  {
   "cell_type": "markdown",
   "metadata": {},
   "source": [
    "$$\n",
    "\\hat{H}=\\sum_{p\\sigma}(p-1)a_{p\\sigma}^{\\dagger}a_{p\\sigma}\n",
    "-\\frac{1}{2}g\\sum_{pq}\\hat{P}^{+}_p\\hat{P}^{-}_q.\n",
    "$$"
   ]
  },
  {
   "cell_type": "markdown",
   "metadata": {},
   "source": [
    "Show also that Hamiltonian commutes with the product of the pair\n",
    "creation and annihilation operators.  This model corresponds to a\n",
    "system with no broken pairs. This means that the Hamiltonian can only\n",
    "link two-particle states in so-called spin-reversed states.\n",
    "\n",
    "\n",
    "**b)**\n",
    "Construct thereafter the Hamiltonian matrix for a system with no\n",
    "  broken pairs and total spin $S=0$ for the case of the four lowest\n",
    "  single-particle levels indicated in the\n",
    "  Fig. ref{fig:schematic}. Our system consists of four particles\n",
    "  only.  Our single-particle space consists of only the four lowest\n",
    "  levels $p=1,2,3,4$.  You need to set up all possible Slater\n",
    "  determinants.  Find all eigenvalues by diagonalizing the Hamiltonian\n",
    "  matrix.  Vary your results for values of $g\\in [-1,1]$.  We refer to\n",
    "  this as the exact calculation. Comment the behavior of the ground\n",
    "  state as function of $g$.\n",
    "\n",
    "\n",
    "<!-- --- begin solution of exercise --- -->\n",
    "**Solution.**\n",
    "We give first the final Hamiltonian matrix"
   ]
  },
  {
   "cell_type": "markdown",
   "metadata": {},
   "source": [
    "$$\n",
    "H = \\left (\n",
    "\\begin{array}{cccccc}\n",
    "2\\delta -g & -g/2 & -g/2 & -g/2 & -g/2 & 0 \\\\\n",
    " -g/2 & 4\\delta -g & -g/2 & -g/2 & -0 & -g/2 \\\\\n",
    "-g/2 & -g/2 & 6\\delta -g & 0 & -g/2 & -g/2 \\\\\n",
    " -g/2 & -g/2 & 0 & 6\\delta-g & -g/2 & -g/2 \\\\\n",
    " -g/2 & 0 & -g/2 & -g/2 & 8\\delta-g & -g/2 \\\\\n",
    "0 & -g/2 & -g/2 & -g/2 & -g/2 & 10\\delta -g\n",
    "\\end{array} \\right )\n",
    "$$"
   ]
  },
  {
   "cell_type": "markdown",
   "metadata": {},
   "source": [
    "The following python program diagonalizes the above Hamiltonian matrix for a given span of interaction strength values, performing both a full configuration interaction calculation and a truncated one. For the truncated case we leave out the $4p4h$ state. This means that in addition to the ground state we include the four possible $2p2h$ states. Such a calculation is normally called a configuration interaction calculation."
   ]
  },
  {
   "cell_type": "code",
   "execution_count": 2,
   "metadata": {
    "collapsed": false
   },
   "outputs": [
    {
     "name": "stdout",
     "output_type": "stream",
     "text": [
      "0\n",
      " -0.985   -0.135   -0.071   -0.071   -0.046 "
     ]
    },
    {
     "data": {
      "image/png": "[encoded data removed]",
      "text/plain": [
       "<matplotlib.figure.Figure at 0x1043d4d10>"
      ]
     },
     "metadata": {},
     "output_type": "display_data"
    },
    {
     "name": "stdout",
     "output_type": "stream",
     "text": [
      "\n"
     ]
    }
   ],
   "source": [
    "%matplotlib inline\n",
    "\n",
    "from numpy import *\n",
    "from sympy import *\n",
    "from matplotlib.pyplot import *\n",
    "\n",
    "g_array = linspace(-1, 1, 1001)\n",
    "e1_array = []\n",
    "e2_array = []\n",
    "\n",
    "for g in g_array:\n",
    "\tH1 = matrix([[2-g , -g/2.,  -g/2., -g/2., -g/2.,     0],\n",
    "\t\t        [-g/2.,   4-g,  -g/2., -g/2.,    0., -g/2.],\n",
    "\t\t        [-g/2., -g/2.,    6-g,     0, -g/2., -g/2.],\n",
    "\t\t\t\t[-g/2., -g/2.,      0,   6-g, -g/2., -g/2.],\n",
    "\t\t\t\t[-g/2.,     0,  -g/2., -g/2.,   8-g, -g/2.],\n",
    "\t\t\t\t[0    , -g/2.,  -g/2., -g/2., -g/2.,  10-g]])\n",
    "\n",
    "\tH2 = matrix([[2-g , -g/2.,  -g/2., -g/2., -g/2.],\n",
    "\t\t        [-g/2.,   4-g,  -g/2., -g/2.,    0.],\n",
    "\t\t        [-g/2., -g/2.,    6-g,     0, -g/2.],\n",
    "\t\t\t\t[-g/2., -g/2.,      0,   6-g, -g/2.],\n",
    "\t\t\t\t[-g/2.,     0,  -g/2., -g/2.,   8-g]])\n",
    "\n",
    "\n",
    "\n",
    "\tu1, v1 = linalg.eig(H1)\n",
    "\tu2, v2 = linalg.eig(H2)\n",
    "\n",
    "\tif g == 1./2:\n",
    "\t\tprint argmin(u1)\n",
    "\n",
    "\t\tfor i in range(5):\n",
    "\t\t\tprint \" %.3f \" % v2[i,0],\n",
    "\n",
    "\n",
    "\n",
    "\te1_array.append(min(u1))\n",
    "\te2_array.append(min(u2))\n",
    "\n",
    "\n",
    "plot(g_array, e1_array, linewidth=2.0)\n",
    "#plot(g_array, e2_array, linewidth=2.0)\n",
    "plot(g_array, (2-g_array), linewidth=2.0)\n",
    "grid()\n",
    "xlabel(r\"Strength of interaction, $g$\", fontsize=16)\n",
    "ylabel(r'Ground state energy', fontsize=16)\n",
    "#axis([-1,1,-0.4,0.05])\n",
    "legend(['FCI -- Exact', 'Reference energy'])\n",
    "savefig(\"pairing.pdf\")\n",
    "show()"
   ]
  },
  {
   "cell_type": "markdown",
   "metadata": {},
   "source": [
    "The eigenvalues and eigenvectors result from the diagonalization of the above Hamiltonian matrix.\n",
    "In the discussions below and in connection with the first stage of the numerical project, we will use these results to benchmark various approximative methods.\n",
    "The lowest eigenvalue corresponds to the ground state\n",
    "energy and we will refer to it as the *exact energy* when no truncations in the space of possible Slater determinants are made..\n",
    "\n",
    "From our results, we note some important differences between the full configuration interaction (FCI)\n",
    "calculation and the truncated configuration interaction calculation (CI).\n",
    "Full configuration interaction is an exact method, but is only\n",
    "possible if and only if we have a complete and finite SD basis for our\n",
    "system. In practice, we usually don't have this. Non-complete\n",
    "CI however, is always possible, but yiels   approximative\n",
    "results only. The method is however still variational however, meaning that we\n",
    "guaranteed that the approximation will be equal or bigger to the true\n",
    "result.\n",
    "Perturbation theory however, is non-variational and there is no guarantee that including higher orders in the\n",
    "perturbation gives an improved result, as we will see below.\n",
    "\n",
    "In an FCI case, we are including all possible exictations to infinite\n",
    "order, meaning we have all possible $1p1h$ , $2p2h$ etc configurations, up to $4p4h$\n",
    "excitations for our selected model. Due to the nature of the pairing interaction and our selection\n",
    "of specific quantum numbers for the many-body states, we do not have any $1p1h$ or $3p3h$ excitations.\n",
    "In the above CI case, we truncate those excitations somewhere.\n",
    "If we\n",
    "were to draw the diagrams of the interactions that contribute to this\n",
    "CI case, there would be an infinite number of them, as we can have\n",
    "arbitrarily long chains of operators that still only have at most 2p2h\n",
    "intermediate states.\n",
    "\n",
    "<!-- --- end solution of exercise --- -->\n",
    "\n",
    "**c)**\n",
    "We switch now to approximative methods, in our case Hartree-Fock\n",
    "  theory and many-body perturbation theory. Hereafter we will define\n",
    "  our model space to consist of the single-particle levels $p=1,2$.\n",
    "  The remaining levels $p=3,4$ define our excluded space.  This means\n",
    "  that our ground state Slater determinant consists of four particles\n",
    "  which can be placed in the doubly degenerate orbits $p=1$ and $p=2$.\n",
    "  Our first step is to perform a Hartree-Fock calculation with the\n",
    "  pairing Hamiltonian.  Write first the normal-ordered Hamiltonian\n",
    "  with respect to the above reference state given by four spin $1/2$\n",
    "  fermions in the single-particle levels $p=1,2$. Define what is meant\n",
    "  by a canonical Hartree-Fock case, a non-canonical case and a general\n",
    "  case.  For all three cases, write down the normal-ordered\n",
    "  Hamiltonian and draw the diagrammatic form of the Hamiltonian for all three cases.\n",
    "\n",
    "\n",
    "\n",
    "**d)**\n",
    "We will now set up the Hartree-Fock equations by varying the\n",
    "coefficients of the single-particle functions. The single-particle\n",
    "basis functions are defined as"
   ]
  },
  {
   "cell_type": "markdown",
   "metadata": {},
   "source": [
    "$$\n",
    "\\psi_p = \\sum_{\\lambda} C_{p\\lambda}\\psi_{\\lambda}.\n",
    "$$"
   ]
  },
  {
   "cell_type": "markdown",
   "metadata": {},
   "source": [
    "where in our case $p=1,2,3,4$ and $\\lambda=1,2,3,4$, that is the first\n",
    "four lowest single-particle orbits of Fig. ref{fig:schematic}.  Set\n",
    "up the Hartree-Fock equations for this system by varying the\n",
    "coefficients $C_{p\\lambda}$ and solve them for values of $g\\in\n",
    "[-1,1]$.  Comment your results and compare with the exact\n",
    "solution. Discuss also which diagrams in Fig. ref{fig:diagrams} that\n",
    "can be affected by a Hartree-Fock basis. Compute the total binding\n",
    "energy using a Hartree-Fock basis and comment your results.\n",
    "\n",
    "\n",
    "\n",
    "**e)**\n",
    "We will now study the system using non-degenerate\n",
    "Rayleigh-Schroedinger perturbation theory to third order in the\n",
    "interaction.  If we exclude the first order contribution, all possible\n",
    "diagrams (so-called anti-symmetric Goldstone diagrams) are\n",
    "shown in Fig. ref{fig:diagrams}.\n",
    "\n",
    "<!-- dom:FIGURE: [fig-proj/diagrams.pdf, width=500 frac=0.6] Diagrams to third order in the interaction, including also non-canonical Hartree-Fock diagrams. The first order term is excluded. All interaction vertices represent anti-symmetrized matrix elements. <div id=\"fig:diagrams\"></div> -->\n",
    "<!-- begin figure -->\n",
    "<div id=\"fig:diagrams\"></div>\n",
    "\n",
    "<p>Diagrams to third order in the interaction, including also non-canonical Hartree-Fock diagrams. The first order term is excluded. All interaction vertices represent anti-symmetrized matrix elements.</p>\n",
    "<img src=\"fig-proj/diagrams.pdf\" width=500>\n",
    "\n",
    "<!-- end figure -->\n",
    "\n",
    "\n",
    "Based on the form of the interaction, which diagrams contribute to the\n",
    "binding energy of the ground state?  Write down the expressions for\n",
    "the diagrams that contribute and find the contribution to the ground\n",
    "state energy as function $g\\in [-1,1]$. Comment your results.  Compare\n",
    "these results with those you obtained from the exact diagonalization with and without the $4p-4h$ state.\n",
    "Discuss your results for a canonical Hartree-Fock basis and a non-canonical Hartree-Fock basis.\n",
    "\n",
    "**f)**\n",
    "Diagram 1 in Fig. ref{fig:diagrams} represents a second-order contribution to the energy and a so-called $2p-2h$ contribution to the intermediate states. Write down the expression for the wave operator in this case and compare the possible contributions with the configuration interaction calculations without the $4p-4h$ Slater determinant. Comment your results for\n",
    "various values of $g\\in [-1,1]$.\n",
    "\n",
    "**g)**\n",
    "We limit now the discussion to the canonical Hartree-Fock case only. To fourth order in perturbation theory we can produce diagrams with $1p-1h$ intermediate excitations as shown in Fig. ref{fig:fourthorder1p1h}, $2p-2h$ excitations, see Fig. ref{fig:fourthorder2p2h}, $3p-3h$ excitations as shown in Fig. ref{fig:fourthorder3p3h} and finally so-called diagrams with intermediate four-particle-four-hole excitations, see Fig. ref{fig:fourthorder4p4h}.\n",
    "\n",
    "<!-- dom:FIGURE: [fig-proj/fourthorder1p1h.png, width=500 frac=0.6] One-particle-one-hole excitations to fourth order. <div id=\"fig:fourthorder1p1h\"></div> -->\n",
    "<!-- begin figure -->\n",
    "<div id=\"fig:fourthorder1p1h\"></div>\n",
    "\n",
    "<p>One-particle-one-hole excitations to fourth order.</p>\n",
    "<img src=\"fig-proj/fourthorder1p1h.png\" width=500>\n",
    "\n",
    "<!-- end figure -->\n",
    "\n",
    "\n",
    "<!-- dom:FIGURE: [fig-proj/fourthorder2p2h.png, width=500 frac=0.6] Two-particle-two-hole excitations to fourth order. <div id=\"fig:fourthorder2p2h\"></div> -->\n",
    "<!-- begin figure -->\n",
    "<div id=\"fig:fourthorder2p2h\"></div>\n",
    "\n",
    "<p>Two-particle-two-hole excitations to fourth order.</p>\n",
    "<img src=\"fig-proj/fourthorder2p2h.png\" width=500>\n",
    "\n",
    "<!-- end figure -->\n",
    "\n",
    "\n",
    "<!-- dom:FIGURE: [fig-proj/fourthorder3p3h.png, width=500 frac=0.6] Three-particle-three-hole excitations to fourth order. <div id=\"fig:fourthorder3p3h\"></div> -->\n",
    "<!-- begin figure -->\n",
    "<div id=\"fig:fourthorder3p3h\"></div>\n",
    "\n",
    "<p>Three-particle-three-hole excitations to fourth order.</p>\n",
    "<img src=\"fig-proj/fourthorder3p3h.png\" width=500>\n",
    "\n",
    "<!-- end figure -->\n",
    "\n",
    "\n",
    "<!-- dom:FIGURE: [fig-proj/fourthorder4p4h.png, width=500 frac=0.6] Four-particle-four-hole excitations to fourth order. <div id=\"fig:fourthorder4p4h\"></div> -->\n",
    "<!-- begin figure -->\n",
    "<div id=\"fig:fourthorder4p4h\"></div>\n",
    "\n",
    "<p>Four-particle-four-hole excitations to fourth order.</p>\n",
    "<img src=\"fig-proj/fourthorder4p4h.png\" width=500>\n",
    "\n",
    "<!-- end figure -->\n",
    "\n",
    "\n",
    "Define first linked and unlinked diagrams and explain briefly Goldstone's linked diagram theorem.\n",
    "Based on the linked diagram theorem and the form of the pairing Hamiltonian, which diagrams will contribute\n",
    "to fourth order?\n",
    "\n",
    "Calculate the energy to fourth order with a canonical Hartree-Fock basis for $g\\in [-1,1]$ and compare\n",
    "with the full diagonalization case in exercise b). Discuss the results.\n",
    "\n",
    "\n",
    "<!-- --- begin solution of exercise --- -->\n",
    "**Solution.**\n",
    "To fourth order in the interaction there are several diagrams to consider.\n",
    "Fortunately, due to the character of the pairing Hamiltonian, several of these contributions are\n",
    "zero. We limit our discussions also to include the\n",
    "canonical HF-case only.\n",
    "All of the diagrams in the canonical case are\n",
    "shown in figures 3, 4, 5 and 6 above.\n",
    "Using also the linked diagram theorem, where a\n",
    "diagram is called unlinked if and only if it has a disconnected part\n",
    "that is closed, we can eliminate some further  diagrams. Goldstones\n",
    "linked-diagram theorem states that all unliked diagrams will cancel\n",
    "against the renormalization terms in Rayleigh-Schroedinger perturbation theory,\n",
    "meaning that we can define\n",
    "the energy to each order as a sum of linked diagrams\n",
    "only. We can then disregard diagram 33 and 41.\n",
    "\n",
    "Let us now go through all the diagrams and find those that vanish due\n",
    "to having broken pairs, i.e., the diagrams that vanish due to our\n",
    "specific interaction. Take for example diagram 1, which vanishes due\n",
    "to having a term $\\langle ab\\vert \\hat{v} \\vert ci\\rangle$. From this\n",
    "argument, we see that all four diagrams from figure 3 vanish. Similar\n",
    "arguments shows that most diagrams in figure 4 also dissapear. Going\n",
    "through all the diagrams, we see that 5, 6, 14 and 15 are the ones\n",
    "that do not vanish in figure 4. For figure 5 we actually see that all\n",
    "diagrams vanish again. For figure 6 we already found that 33 and 41\n",
    "vanished due to being unlinked---the rest contribute to the perturbative expansion of the\n",
    "energy.\n",
    "The diagrams of figures 3 and 5 vanish since they involve $1p1h$ and $3p3h$ excitations, respectively.\n",
    "\n",
    "The expressions for these diagrams can easily be written in terms of a\n",
    "simple Python program. Note however that for every diagram we do\n",
    "actually perform loops over every single-particle state. As we will\n",
    "see later, this is extremely inefficient from a computational point\n",
    "of view. In our discussions of the projects below, we will rewrite the\n",
    "computations of most diagrams in terms of efficient matrix-matrix\n",
    "multiplications or matrix-vector multiplications.  The following\n",
    "Python program gives us the final results for perturbation theory to fourth\n",
    "order in the interaction. The resulting figures include also plots of the relative error in the\n",
    "correlation energy. That is, we compare the computed correlation in\n",
    "perturbation theory with the result from the exact diagonalization discussed above."
   ]
  },
  {
   "cell_type": "code",
   "execution_count": 4,
   "metadata": {
    "collapsed": false
   },
   "outputs": [
    {
     "name": "stdout",
     "output_type": "stream",
     "text": [
      "-0.291666666666667*g**2\n",
      "-0.0920138888888889*g**3\n",
      "-0.092013888888889*g**3\n",
      "0\n",
      "0\n"
     ]
    },
    {
     "data": {
      "image/png": "[encoded data removed]",
      "text/plain": [
       "<matplotlib.figure.Figure at 0x105530d90>"
      ]
     },
     "metadata": {},
     "output_type": "display_data"
    },
    {
     "name": "stdout",
     "output_type": "stream",
     "text": [
      "<type 'numpy.ndarray'>\n"
     ]
    },
    {
     "name": "stderr",
     "output_type": "stream",
     "text": [
      "/Applications/anaconda/lib/python2.7/site-packages/IPython/kernel/__main__.py:181: RuntimeWarning: divide by zero encountered in log10\n",
      "/Applications/anaconda/lib/python2.7/site-packages/IPython/kernel/__main__.py:182: RuntimeWarning: divide by zero encountered in log10\n",
      "/Applications/anaconda/lib/python2.7/site-packages/IPython/kernel/__main__.py:183: RuntimeWarning: divide by zero encountered in log10\n"
     ]
    },
    {
     "data": {
      "image/png": "[encoded data removed]",
      "text/plain": [
       "<matplotlib.figure.Figure at 0x106ea5bd0>"
      ]
     },
     "metadata": {},
     "output_type": "display_data"
    }
   ],
   "source": [
    "from sympy import *\n",
    "from pylab import *\n",
    "\n",
    "below_fermi = (0,1,2,3)\n",
    "above_fermi = (4,5,6,7)\n",
    "\n",
    "states = [(1,1),(1,-1),(2,1),(2,-1),(3,1),(3,-1),(4,1),(4,-1)]\n",
    "N = 8\n",
    "g = Symbol('g')\n",
    "\n",
    "\n",
    "\n",
    "def h0(p,q):\n",
    "\tif p == q:\n",
    "\t\tp1, s1 = states[p]\n",
    "\t\treturn (p1 - 1)\n",
    "\telse:\n",
    "\t\treturn 0\n",
    "\n",
    "def f(p,q):\n",
    "\tif p == q:\n",
    "\t\treturn 0\n",
    "\n",
    "\ts = h0(p,q)\n",
    "\tfor i in below_fermi:\n",
    "\t\ts += assym(p,i,q,i)\n",
    "\treturn s\n",
    "\n",
    "\n",
    "def assym(p,q,r,s):\n",
    "\tp1, s1 = states[p]\n",
    "\tp2, s2 = states[q]\n",
    "\tp3, s3 = states[r]\n",
    "\tp4, s4 = states[s]\n",
    "\n",
    "\tif p1 != p2 or p3 != p4:\n",
    "\t\treturn 0\n",
    "\tif s1 == s2 or s3 == s4:\n",
    "\t\treturn 0\n",
    "\tif s1 == s3 and s2 == s4:\n",
    "\t\treturn -g/2.\n",
    "\tif s1 == s4 and s2 == s3:\n",
    "\t\treturn g/2.\n",
    "\n",
    "def eps(holes, particles):\n",
    "\tE = 0\n",
    "\tfor h in holes:\n",
    "\t\tp, s = states[h]\n",
    "\t\tE += (p-1)\n",
    "\tfor p in particles:\n",
    "\t\tp, s = states[p]\n",
    "\t\tE -= (p-1)\n",
    "\treturn E\n",
    "\n",
    "\n",
    "# Diagram 3\n",
    "# s = 0\n",
    "# for a in above_fermi:\n",
    "# \tfor b in above_fermi:\n",
    "# \t\tfor c in above_fermi:\n",
    "# \t\t\tfor i in below_fermi:\n",
    "# \t\t\t\tfor j in below_fermi:\n",
    "# \t\t\t\t\tfor k in below_fermi:\n",
    "# \t\t\t\t\t\ts += assym(i,j,a,b)*assym(a,c,j,k)*assym(b,k,c,i)/eps((i,j),(a,b))/eps((k,j),(a,c))\n",
    "# print s\n",
    "\n",
    "\n",
    "# ga = linspace(-1,1,101)\n",
    "# corr2 = []\n",
    "# corr3 = []\n",
    "# corrx = []\n",
    "\n",
    "\n",
    "# Diagram 1\n",
    "s1 = 0\n",
    "for a in above_fermi:\n",
    "\tfor b in above_fermi:\n",
    "\t\tfor i in below_fermi:\n",
    "\t\t\tfor j in below_fermi:\n",
    "\t\t\t\ts1 += 0.25*assym(a,b,i,j)*assym(i,j,a,b)/eps((i,j),(a,b))\n",
    "\n",
    "# Diagram 4\n",
    "s4 = 0\n",
    "for a in above_fermi:\n",
    "\tfor b in above_fermi:\n",
    "\t\tfor c in above_fermi:\n",
    "\t\t\tfor d in above_fermi:\n",
    "\t\t\t\tfor i in below_fermi:\n",
    "\t\t\t\t\tfor j in below_fermi:\n",
    "\t\t\t\t\t\ts4 += 0.125*assym(i,j,a,b)*assym(a,b,c,d)*assym(c,d,i,j)/eps((i,j),(a,b))/eps((i,j),(c,d))\n",
    "\n",
    "# Diagram 5\n",
    "s5 = 0\n",
    "for a in above_fermi:\n",
    "\tfor b in above_fermi:\n",
    "\t\tfor i in below_fermi:\n",
    "\t\t\tfor j in below_fermi:\n",
    "\t\t\t\tfor k in below_fermi:\n",
    "\t\t\t\t\tfor l in below_fermi:\n",
    "\t\t\t\t\t\ts5 += 0.125*assym(i,j,a,b)*assym(k,l,i,j)*assym(a,b,k,l)/eps((i,j),(a,b))/eps((k,l),(a,b))\n",
    "\n",
    "# Diagram 8 (simplified)\n",
    "s8 = 0\n",
    "for a in above_fermi:\n",
    "\tfor b in above_fermi:\n",
    "\t\tfor i in below_fermi:\n",
    "\t\t\tfor j in below_fermi:\n",
    "\t\t\t\tfor k in below_fermi:\n",
    "\t\t\t\t\ts8 -= 0.5*assym(i,j,a,b)*assym(a,b,i,k)*f(k,j)/eps((i,j),(a,b))/eps((i,k),(a,b))\n",
    "\n",
    "# Diagram 9 (simplified)\n",
    "s9 = 0\n",
    "for a in above_fermi:\n",
    "\tfor b in above_fermi:\n",
    "\t\tfor c in above_fermi:\n",
    "\t\t\tfor i in below_fermi:\n",
    "\t\t\t\tfor j in below_fermi:\n",
    "\t\t\t\t\ts9 += 0.5*assym(i,j,a,b)*assym(a,c,i,j)*f(b,c)/eps((i,j),(a,b))/eps((i,j),(a,c))\n",
    "\n",
    "\n",
    "print s1\n",
    "print s4\n",
    "print s5\n",
    "print s8\n",
    "print s9\n",
    "\n",
    "s_5 =  -0.0291521990740741*g**4\n",
    "s14 =  -0.0308883101851853*g**4\n",
    "s34 =  0.0163049768518519*g**4\n",
    "s36 =  -0.0145760995370371*g**4\n",
    "s38 =  -0.0201099537037037*g**4\n",
    "s39 =  0.0176938657407407*g**4\n",
    "\n",
    "ga = linspace(-1,1,10001)\n",
    "e1 = []\n",
    "corr2 = []\n",
    "corr3 = []\n",
    "corr4 = []\n",
    "for g_val in ga:\n",
    "\tH1 = matrix([[2-g_val , -g_val/2.,  -g_val/2., -g_val/2., -g_val/2.,     0],\n",
    "\t\t        [-g_val/2.,   4-g_val,  -g_val/2., -g_val/2.,    0., -g_val/2.],\n",
    "\t\t        [-g_val/2., -g_val/2.,    6-g_val,     0, -g_val/2., -g_val/2.],\n",
    "\t\t\t\t[-g_val/2., -g_val/2.,      0,   6-g_val, -g_val/2., -g_val/2.],\n",
    "\t\t\t\t[-g_val/2.,     0,  -g_val/2., -g_val/2.,   8-g_val, -g_val/2.],\n",
    "\t\t\t\t[0    , -g_val/2.,  -g_val/2., -g_val/2., -g_val/2.,  10-g_val]])\n",
    "\n",
    "\tu1, v1 = linalg.eig(H1)\n",
    "\te1.append(min(u1))\n",
    "\n",
    "\tcorr2.append((s1).subs(g,g_val))\n",
    "\tcorr3.append((s1+s4+s5).subs(g,g_val))\n",
    "\tcorr4.append((s1+s4+s5+2*s_5+2*s14+2*s34+2*s36+s38+2*s39).subs(g,g_val))\n",
    "\n",
    "exact = e1 - (2-ga)\n",
    "\n",
    "plot(ga, exact, linewidth=2.0)\n",
    "plot(ga, corr2, linewidth=2.0)\n",
    "plot(ga, corr3, linewidth=2.0)\n",
    "plot(ga, corr4, linewidth=2.0)\n",
    "xlabel(r'Interaction strength, $g$', fontsize=16)\n",
    "ylabel(r'Correlation energy', fontsize=16)\n",
    "axis([-1,1,-0.5,0.05])\n",
    "grid()\n",
    "legend([\"Exact\", \"2. order MPBT\", \"3. order MPBT\", \"4. order MPBT\"], 'lower left')\n",
    "savefig(\"perturbationtheory.pdf\")\n",
    "show()\n",
    "error1 = zeros(len(exact))\n",
    "error2 = zeros(len(exact))\n",
    "error3 = zeros(len(exact))\n",
    "\n",
    "for i in range(len(exact)):\n",
    "\terror1[i] = abs(float(exact[i]-corr2[i]))\n",
    "\terror2[i] = abs(float(exact[i]-corr3[i]))\n",
    "\terror3[i] = abs(float(exact[i]-corr4[i]))\n",
    "\n",
    "error1 = array(error1)\n",
    "error2 = array(error2)\n",
    "error3 = array(error3)\n",
    "print type(error1)\n",
    "\n",
    "plot(ga, log10(error1))\n",
    "plot(ga, log10(error2))\n",
    "plot(ga, log10(error3))\n",
    "xlabel(r\"Strength of interaction, $g$\", fontsize=16)\n",
    "ylabel(r\"Error, $\\log_{\\rm 10}({\\rm abs}({\\rm error})$\", fontsize=16)\n",
    "legend([\"2. order MPBT\", \"3. order MPBT\", \"4. order MPBT\"], 'lower left')\n",
    "grid()\n",
    "savefig(\"logerror.pdf\")\n",
    "show()"
   ]
  },
  {
   "cell_type": "markdown",
   "metadata": {},
   "source": [
    "Running the Python program shows us that\n",
    "the approximation to both second and third order are very\n",
    "good when the interaction strength is small and contained in the interval\n",
    "$g\\in[-0.5,0.5]$, but as the\n",
    "interaction gets stronger the approximation worsens. We also\n",
    "note that the third-order result is actually worse than the second order result\n",
    "for larger values of the interaction strength, indicating that there is no guarantee that higher orders\n",
    "in many-body perturbation theory may reduce the relative error in a systematic way.\n",
    "This is seen in particular for the results to fourth order. For negative interaction strengths\n",
    "fourth order gives a better result than second and third order, while for $g>0$ the relative error is\n",
    "worse.\n",
    "We note also the non-variational character of many-body perturbation theory, with results at different undershooting the true ground state correlation energy.\n",
    "\n",
    "<!-- --- end solution of exercise --- -->\n",
    "\n",
    "<!-- --- end exercise --- -->\n",
    "\n",
    "\n",
    "\n",
    "\n",
    "<!-- --- begin exercise --- -->\n",
    "\n",
    "## Project 2: Coupled cluster calculations with doubles excitations only for the pairing model\n",
    "\n",
    "This project serves as a continuation\n",
    "of the pairing model with the aim being to solve the same problem but\n",
    "now by developing a program that implements the coupled cluster method\n",
    "with double excitations only. In doing so you will find it convenient\n",
    "to write classes which define the single-particle basis and the\n",
    "Hamiltonian. Your functions that solve the coupled cluster equations\n",
    "will then just need to set up variables which point to interaction\n",
    "elements and single-particle states with their pertinent quantum\n",
    "numbers. Use for example the setup discussed in the FCI lectures for\n",
    "the pairing model.\n",
    "\n",
    "\n",
    "**a)**\n",
    "Explain why no single excitations are involved in this model.\n",
    "\n",
    "**b)**\n",
    "Set up the coupled cluster equations for doubles excitations and convince yourself about their\n",
    "meaning and correctness.\n",
    "\n",
    "**c)**\n",
    "Write a class which holds\n",
    "single-particle data like specific quantum numbers, single-particle\n",
    "Hamiltonian etc. Write also a class which sets up and stores two-body\n",
    "matrix elements defined by the single-particle states.  Write\n",
    "thereafter functions/classes which implement the coupled cluster\n",
    "method with doubles only.\n",
    "\n",
    "**d)**\n",
    "Compare your results with\n",
    "those from the exact diagonalization with and without the $4p4h$\n",
    "excitation. Compare also your results to perturbation theory at\n",
    "different orders, in particular to second order. Discuss your results.\n",
    "If other students are solving the same problem using Green's function\n",
    "theory, you can also compare your results with those obtained from\n",
    "Green's function theory. The aim is to finalize this part during the\n",
    "first week. The codes you will develop can be used as a starting point\n",
    "for the second part of the project.\n",
    "\n",
    "<!-- --- end exercise --- -->\n",
    "\n",
    "\n",
    "\n",
    "\n",
    "<!-- --- begin exercise --- -->\n",
    "\n",
    "## Project 3: Green's function calculations with a second order self-energy for the pairing model\n",
    "\n",
    "This project serves as a continuation of the pairing model with the aim being to solve the same problem but now by developing a program that implements the self-consistent Green's function method with a second order self energy. This is what is called the ADC(2) approximation scheme. In doing so you will find it convenient to write classes which define the single-particle basis and the Hamiltonian. One more, important, class will be needed to store the one-body propagator. Your functions that solve the ADC(3) will then just need to set up variables which point to interaction elements, single-particle states and Dyson states with their pertinent quantum numbers. Use for example the setup discussed in the FCI lectures for the pairing model.\n",
    "\n",
    "\n",
    "**a)**\n",
    "Write the diagrams for the self-energy at first and second order, using the Lehman representation for the latter and HF reference state. Write the first order diagrams also in terms of a fully dressed propagator.\n",
    "\n",
    "**b)**\n",
    "Set up the Dyson-ADC(2) equations and convince yourself about their meaning and correctness.\n",
    "\n",
    "**c)**\n",
    "Write a class that holds the one-body propagator in Lehman representation. In this, the Dyson orbits (or overlap functions) are expanded in terms of the basis exactly as for the HF equations above. However, you will need to handle\n",
    "a much larger number of orbits and their respective energies. You will also need to store particle and hole orbits separately.\n",
    " Using the results of your HF calculations above, build a simple HF propagator. This will be your reference state.\n",
    "\n",
    "**d)**\n",
    "Write a class which holds single-particle data like specific quantum numbers, single-particle Hamiltonian etc. Write also a class which sets up and stores two-body matrix elements defined by the single-particle states.\n",
    "\n",
    "**e)**\n",
    "Use the above classes to solve the ADC(2) euqatoions in the following three steps:\n",
    " * write the ADC(2) Dyson matrix\n",
    "\n",
    " * diagonalise it (with a Lapack or an eigensolver of your choice)\n",
    "\n",
    " * normalize the eigenvalues, separate them in hole and particle states, and store them in a new propagator object.\n",
    "\n",
    "**f)**\n",
    "Now you can use your ADC(2) code to have some fun:\n",
    "  * Plot the spectral functions for the HF (reference) propagator and the final (dressed) result. Compare them. This is the most fun part.  otherwise why should you write a SCGF code for?\n",
    "\n",
    "  * Use your solution (the dressed propagator) to recalculate the first order diagram and and implement a partial\n",
    "     self-consistency loop. See what changes.\n",
    "\n",
    "  * Use the Koltun sum rule to calculate the binding energy and compare your results with those from the exact diagonalization with and without the 4p4h excitation. Compare also your results to perturbation theory at different orders, in particular to second order. Discuss your results. If other students are solving the same problem using CCD theory, you can also compare your results with theirs.\n",
    "\n",
    "  * How do your results change by increasing the coupling $g$? When is ADC(2)  breaking down for this particular model?\n",
    "\n",
    " The aim is to finalize this part, up to point e), during the first week. The codes you will develop can be used as a starting point for the second part of the project. In the second part we will focus on infinite matter.\n",
    "\n",
    "\n",
    "<!-- --- end exercise --- -->\n",
    "\n",
    "\n",
    "\n",
    "\n",
    "<!-- --- begin exercise --- -->\n",
    "\n",
    "## Project 4: Coupled cluster calculations with doubles excitations only for infinite nuclear matter\n",
    "\n",
    "This project forms one possible final path for the remaining two weeks. It can also be extended in order to define the final project.  You should be able to use the program you developed in connection with the\n",
    "solution of the pairing model.\n",
    "\n",
    "\n",
    "**a)**\n",
    "Explain why we don't have single excitations in infinite matter.\n",
    "\n",
    "**b)**\n",
    "Set up the relavent quantum numbers for a cartesian basis with plane waves in three dimensions. Make the according changes to the code you developed in connection with the pairing model. Implement periodic boundary conditions.\n",
    "\n",
    "**c)**\n",
    "Replace the two-body interaction from the pairing model with the Minnesota potential model discussed during the [lectures](https://github.com/NuclearTalent/Course2ManyBodyMethods/blob/master/doc/pub/cc/pdf/Lectures1-2_TALENT_NuclearMatter_GH.pdf).\n",
    "\n",
    "**d)**\n",
    "Use the program you developed in connection with the pairing model to perform coupled cluster calculations in infinite matter with doubles excitations.\n",
    "Perform coupled cluster calculations for infinite nuclear matter with the Minnesota interaction for different particle numbers (to be inserted later).\n",
    "Limit yourself to two-particle and two-hole intermediate excitations only.\n",
    "\n",
    "**e)**\n",
    "Compare the two-particle only excitations with a finite number of particles with results obtained with Brueckner-Hartree-Fock calculations in the thermodynamic limit. Comment your results\n",
    "\n",
    "**f)**\n",
    "The final challenge is to include particle-hole excitations and\n",
    "compare the results with those from Diffusion Monte Carlo calculations\n",
    "discussed during the [lectures](https://github.com/NuclearTalent/Course2ManyBodyMethods/blob/master/doc/pub/cc/pdf/Lectures1-2_TALENT_NuclearMatter_GH.pdf).\n",
    "This part can be included in the final project.\n",
    "\n",
    "\n",
    "<!-- --- end exercise --- -->\n",
    "\n",
    "\n",
    "\n",
    "\n",
    "<!-- --- begin exercise --- -->\n",
    "\n",
    "## Project 5: Green's function calculations for finite nuclei and infinite nuclear matter\n",
    "\n",
    "The hard work in learning how to deal with SCGF was done in Project 2. Now, we make it fancy and extend it to some more real systems rather than a simple pairing model. This can be done very similarly either for finite nuclei or for infinite nuclear matter. However, you should choose only one this two paths and focus only on that: it is already a lot of work doing one. We will do this at the ADC(2) level and toward the end of the project we will consider an extended version of it to make useful comparison with the Brueckner-HF and CCD calculations done by others.\n",
    "\n",
    "Either of the two path of this project forms one possible final path for the remaining two weeks. It can also be extended in order to define the final project. You should be able to use the program you developed in connection with the solution of the pairing model.\n",
    "\n",
    "\n",
    "**a)**\n",
    "Explain why we don't have single excitations in infinite matter.\n",
    "\n",
    "**b)**\n",
    "Set up the relavent quantum numbers for your problem:\n",
    " 1. For FN:  use and harmonic oscillator basis in m-scheme\n",
    "\n",
    " 2. for INM: use a cartesian basis with plane waves in three dimensions and implement periodic boundary conditions.\n",
    "\n",
    "In both cases, make the according changes to the code you developed in connection with the pairing model.\n",
    "\n",
    "**c)**\n",
    "Replace the two-body interaction from the pairing model with the Minnesota potential model discussed during the lectures (functions for matrix elements in harmonic oscillator basis will be provided).\n",
    "\n",
    "**d)**\n",
    "Use the program you developed in connection with the pairing model to perform SCGF calculations at second order. Perform calculations with the Minnesota interaction as follows:\n",
    "\n",
    " 1. for finite nuclei chose closed shell systems (He4, C12, O16)\n",
    "\n",
    "  ofor infinite nuclear matter chose different particle numbers (to be inserted later).\n",
    "\n",
    "At this point, limit yourself to the ADC(2) scheme only.\n",
    "\n",
    "**e)**\n",
    "Add the two-particle interactions to the 2p1h sector of the Dyson-ADC(2) matrix and suppress the 2h1p sector: this\n",
    "should lead you to an approximation equivalent to the Brueckner-Hartree-Fock scheme. Compare your results obtained with\n",
    "those obetain in CCD with only twp-particle intermediate excitations. If you are doing infinite matter, compare to the  Brueckner-Hartree-Fock calculations in the thermodynamic limit (from project 6). Comment your results.\n",
    "\n",
    "**f)**\n",
    "The final challenge is to keep both the 2p1h and the 2h1p sectors and fill the ADC(n) matrix with all the two-particle, the two-hole, and the particle-hole interactions.  This last change results in the so called 'Extended ADC(2)' approximation scheme. Investigate the effects that pp, hh and ph correlations.\n",
    "This part can be included in the final project. And if you already got all the way to point e), this last part should be a relatively easy improvement to make!\n",
    "\n",
    "**g)**\n",
    "Are you felling particularly ambitious? One can further modify the code by adding the missing 3rd order terms to the couplings between the single particle sector and the 2p1h/2h1p sectors. This will give you a full blown ADC(3) calculation. Study the effects of this last change on the energy of the main quasiparticle peaks.  chemist need this to obtain correct ionization potentials and affinities.\n",
    "\n",
    "<!-- --- end exercise --- -->\n",
    "\n",
    "\n",
    "\n",
    "\n",
    "<!-- --- begin exercise --- -->\n",
    "\n",
    "## Project 6: Brueckner-Hartree-Fock calculations for infinite nuclear and neutron matter\n",
    "\n",
    "\n",
    "**a)**\n",
    "We will use  the simple Minnesota model discussed during the [lectures](https://github.com/NuclearTalent/Course2ManyBodyMethods/blob/master/doc/pub/cc/pdf/Lectures1-2_TALENT_NuclearMatter_GH.pdf). This will allow us to make detailed comparisons  with the Coupled cluster and the Green's function calculations. The first part deals with setting up the real and imaginary part of $T$-matrix in free space using a partial wave decomposition. You will need to define integration points and weights in momentum space and treat properly the poles which arise. With a working program, compute the relevant phase shifts. Extract also the scattering lengths for $s$ waves (orbital momentum $l=0$).\n",
    "\n",
    "\n",
    "<!-- --- begin solution of exercise --- -->\n",
    "**Solution.**\n",
    "For scattering states, the energy is positive, $E>0$.\n",
    "The Lippman-Schwinger equation (a rewrite of the Schroedinger equation)\n",
    "is an integral equation\n",
    "where we have to deal with the amplitude\n",
    "$R(k,k')$ (reaction matrix, which is the real part of  the full\n",
    "complex $T$-matrix)\n",
    "defined through the integral equation for one partial wave (no coupled-channels)"
   ]
  },
  {
   "cell_type": "markdown",
   "metadata": {},
   "source": [
    "<!-- Equation labels as ordinary links -->\n",
    "<div id=\"eq:ls1\"></div>\n",
    "\n",
    "$$\n",
    "\\begin{equation}\n",
    "    R_l(k,k') = V_l(k,k') +\\frac{2}{\\pi}{\\cal P}\n",
    "                \\int_0^{\\infty}dqq^2V_l(k,q)\\frac{1}{E-q^2/m}R_l(q,k').\n",
    "   \\label{eq:ls1} \\tag{1}\n",
    "\\end{equation}\n",
    "$$"
   ]
  },
  {
   "cell_type": "markdown",
   "metadata": {},
   "source": [
    "For negative energies (bound states) and intermediate states scattering states blocked\n",
    "by  occupied states below the Fermi level.\n",
    "\n",
    "The symbol ${\\cal P}$ indicates that Cauchy's principal-value prescription\n",
    "is used in order to avoid the singularity arising from the zero of the denominator.\n",
    "\n",
    "\n",
    "The total kinetic energy of the two\n",
    "incoming particles in the center-of-mass system\n",
    "is"
   ]
  },
  {
   "cell_type": "markdown",
   "metadata": {},
   "source": [
    "$$\n",
    "E=\\frac{k_0^2}{m_n}.\n",
    "$$"
   ]
  },
  {
   "cell_type": "markdown",
   "metadata": {},
   "source": [
    "The matrix $R_l(k,k')$ relates to the\n",
    "the  phase shifts through its diagonal elements as"
   ]
  },
  {
   "cell_type": "markdown",
   "metadata": {},
   "source": [
    "<!-- Equation labels as ordinary links -->\n",
    "<div id=\"eq:shifts\"></div>\n",
    "\n",
    "$$\n",
    "\\begin{equation}\n",
    "     R_l(k_0,k_0)=-\\frac{tan\\delta_l}{mk_0}.\n",
    "     \\label{eq:shifts} \\tag{2}\n",
    "\\end{equation}\n",
    "$$"
   ]
  },
  {
   "cell_type": "markdown",
   "metadata": {},
   "source": [
    "In order to solve the Lippman-Schwinger equation\n",
    "in momentum space, we need first to write\n",
    "a function which sets up the mesh points.\n",
    "We need to do that since we are going to approximate an integral\n",
    "through"
   ]
  },
  {
   "cell_type": "markdown",
   "metadata": {},
   "source": [
    "$$\n",
    "\\int_a^bf(x)dx\\approx\\sum_{i=1}^Nw_if(x_i),\n",
    "$$"
   ]
  },
  {
   "cell_type": "markdown",
   "metadata": {},
   "source": [
    "where we have fixed $N$ lattice points through the corresponding weights\n",
    "$w_i$ and points $x_i$. Typically obtained via methods like Gaussian quadrature.\n",
    "\n",
    "If you use Gauss-Legendre the points are determined for the interval $x_i\\in [-1,1]$\n",
    "You map these points over to the limits in your integral. You can then\n",
    "use the following mapping"
   ]
  },
  {
   "cell_type": "markdown",
   "metadata": {},
   "source": [
    "$$\n",
    "k_i=const\\times tan\\left\\{\\frac{\\pi}{4}(1+x_i)\\right\\},\n",
    "$$"
   ]
  },
  {
   "cell_type": "markdown",
   "metadata": {},
   "source": [
    "and"
   ]
  },
  {
   "cell_type": "markdown",
   "metadata": {},
   "source": [
    "$$\n",
    "\\omega_i= const\\frac{\\pi}{4}\\frac{w_i}{cos^2\\left(\\frac{\\pi}{4}(1+x_i)\\right)}.\n",
    "$$"
   ]
  },
  {
   "cell_type": "markdown",
   "metadata": {},
   "source": [
    "If you choose units fm$^{-1}$ for $k$, set $const=1$. If you choose to work\n",
    "with MeV, set $const\\sim 200$ ($\\hbar c=197$ MeVfm).\n",
    "\n",
    "The principal value integral is rather tricky\n",
    "to evaluate numerically, mainly since computers have limited\n",
    "precision. We will here use a subtraction trick often used\n",
    "when dealing with singular integrals in numerical calculations.\n",
    "We introduce first the calculus relation"
   ]
  },
  {
   "cell_type": "markdown",
   "metadata": {},
   "source": [
    "$$\n",
    "\\int_{-\\infty}^{\\infty} \\frac{dk}{k-k_0} =0.\n",
    "$$"
   ]
  },
  {
   "cell_type": "markdown",
   "metadata": {},
   "source": [
    "It means that the curve $1/(k-k_0)$ has equal and opposite\n",
    "areas on both sides of the singular point $k_0$. If we break\n",
    "the integral into one over positive $k$ and one over\n",
    "negative $k$, a change of variable $k\\rightarrow -k$\n",
    "allows us to rewrite the last equation as"
   ]
  },
  {
   "cell_type": "markdown",
   "metadata": {},
   "source": [
    "$$\n",
    "\\int_{0}^{\\infty} \\frac{dk}{k^2-k_0^2} =0.\n",
    "$$"
   ]
  },
  {
   "cell_type": "markdown",
   "metadata": {},
   "source": [
    "We can then express a principal values integral\n",
    "as"
   ]
  },
  {
   "cell_type": "markdown",
   "metadata": {},
   "source": [
    "<!-- Equation labels as ordinary links -->\n",
    "<div id=\"eq:trick\"></div>\n",
    "\n",
    "$$\n",
    "\\begin{equation}\n",
    "  {\\cal P}\\int_{0}^{\\infty} \\frac{f(k)dk}{k^2-k_0^2} =\n",
    "  \\int_{0}^{\\infty} \\frac{(f(k)-f(k_0))dk}{k^2-k_0^2},\n",
    "   \\label{eq:trick} \\tag{3}\n",
    "\\end{equation}\n",
    "$$"
   ]
  },
  {
   "cell_type": "markdown",
   "metadata": {},
   "source": [
    "where the right-hand side is no longer singular at\n",
    "$k=k_0$, it is proportional to the derivative $df/dk$,\n",
    "and can be evaluated numerically as any other integral.\n",
    "\n",
    "\n",
    "We can then use this trick to obtain"
   ]
  },
  {
   "cell_type": "markdown",
   "metadata": {},
   "source": [
    "<!-- Equation labels as ordinary links -->\n",
    "<div id=\"eq:ls2\"></div>\n",
    "\n",
    "$$\n",
    "\\begin{equation}\n",
    "    R(k,k') = V(k,k') +\\frac{2}{\\pi}\n",
    "                \\int_0^{\\infty}dq\n",
    "                \\frac{q^2V(k,q)R(q,k')-k_0^2V(k,k_0)R(k_0,k')  }\n",
    "                     {(k_0^2-q^2)/m}.\n",
    "   \\label{eq:ls2} \\tag{4}\n",
    "\\end{equation}\n",
    "$$"
   ]
  },
  {
   "cell_type": "markdown",
   "metadata": {},
   "source": [
    "This is the equation to solve numerically in order\n",
    "to calculate the phase shifts. We are interested in obtaining\n",
    "$R(k_0,k_0)$.\n",
    "\n",
    "How do we proceed?\n",
    "\n",
    "Using the mesh points $k_j$ and the weights $\\omega_j$, we reach"
   ]
  },
  {
   "cell_type": "markdown",
   "metadata": {},
   "source": [
    "$$\n",
    "R(k,k') = V(k,k') +\\frac{2}{\\pi}\n",
    "          \\sum_{j=1}^N\\frac{\\omega_jk_j^2V(k,k_j)R(k_j,k')}\n",
    "                           {(k_0^2-k_j^2)/m}\n",
    "           -\\frac{2}{\\pi}k_0^2V(k,k_0)R(k_0,k')\n",
    "          \\sum_{n=1}^N\\frac{\\omega_n}\n",
    "                           {(k_0^2-k_n^2)/m}.\n",
    "$$"
   ]
  },
  {
   "cell_type": "markdown",
   "metadata": {},
   "source": [
    "This equation contains now the unknowns $R(k_i,k_j)$\n",
    "(with dimension $N\\times N$) and $R(k_0,k_0)$.\n",
    "\n",
    "We can turn it into an equation\n",
    "with dimension $(N+1)\\times (N+1)$ with  a mesh\n",
    "which contains the original mesh points $k_j$ for $j=1,N$\n",
    "and the point which corresponds to the energy $k_0$.\n",
    "Consider the latter as the 'observable' point.\n",
    "The mesh points become then $k_j$ for $j=1,n$ and\n",
    "$k_{N+1}=k_0$.\n",
    "\n",
    "With these new mesh points we define the matrix"
   ]
  },
  {
   "cell_type": "markdown",
   "metadata": {},
   "source": [
    "<!-- Equation labels as ordinary links -->\n",
    "<div id=\"eq:aeq\"></div>\n",
    "\n",
    "$$\n",
    "\\begin{equation}\n",
    "      A_{i,j}=\\delta_{i,j}-V(k_i,k_j)u_j,\n",
    "      \\label{eq:aeq} \\tag{5}\n",
    "\\end{equation}\n",
    "$$"
   ]
  },
  {
   "cell_type": "markdown",
   "metadata": {},
   "source": [
    "where $\\delta$ is the Kronecker $\\delta$\n",
    "and"
   ]
  },
  {
   "cell_type": "markdown",
   "metadata": {},
   "source": [
    "$$\n",
    "u_j=\\frac{2}{\\pi}\\frac{\\omega_jk_j^2}{(k_0^2-k_j^2)/m}\\hspace{1cm} j=1,N\n",
    "$$"
   ]
  },
  {
   "cell_type": "markdown",
   "metadata": {},
   "source": [
    "and"
   ]
  },
  {
   "cell_type": "markdown",
   "metadata": {},
   "source": [
    "$$\n",
    "u_{N+1}=-\\frac{2}{\\pi}\\sum_{j=1}^N\\frac{k_0^2\\omega_j}{(k_0^2-k_j^2)/m}.\n",
    "$$"
   ]
  },
  {
   "cell_type": "markdown",
   "metadata": {},
   "source": [
    "The first task is then to\n",
    "set up the matrix $A$ for a given $k_0$. This is an\n",
    "$(N+1)\\times (N+1)$ matrix. It can be convenient\n",
    "to have an outer loop which runs over the chosen\n",
    "observable values for the energy $k_0^2/m$.\n",
    "*Note that all mesh points $k_j$ for $j=1,N$ must be different from $k_0$. Note also that $V(k_i,k_j)$ is an $(N+1)\\times (N+1)$ matrix*.\n",
    "\n",
    "With the matrix $A$ we can rewrite the problem as a matrix problem of dimension $(N+1)\\times (N+1)$.\n",
    "All matrices $R$, $A$ and $V$ have this dimension and we get"
   ]
  },
  {
   "cell_type": "markdown",
   "metadata": {},
   "source": [
    "$$\n",
    "A_{i,l}R_{l,j}=V_{i,j},\n",
    "$$"
   ]
  },
  {
   "cell_type": "markdown",
   "metadata": {},
   "source": [
    "or just"
   ]
  },
  {
   "cell_type": "markdown",
   "metadata": {},
   "source": [
    "$$\n",
    "AR=V.\n",
    "$$"
   ]
  },
  {
   "cell_type": "markdown",
   "metadata": {},
   "source": [
    "Since you already have defined $A$ and $V$\n",
    "(these are stored as $(N+1)\\times (N+1)$ matrices)\n",
    "The final equation involves only the unknown\n",
    "$R$. We obtain it by matrix inversion, i.e.,"
   ]
  },
  {
   "cell_type": "markdown",
   "metadata": {},
   "source": [
    "<!-- Equation labels as ordinary links -->\n",
    "<div id=\"eq:final2\"></div>\n",
    "\n",
    "$$\n",
    "\\begin{equation}\n",
    "    R=A^{-1}V.\n",
    "    \\label{eq:final2} \\tag{6}\n",
    "\\end{equation}\n",
    "$$"
   ]
  },
  {
   "cell_type": "markdown",
   "metadata": {},
   "source": [
    "Thus, to obtain $R$, you will need to set up the matrices\n",
    "$A$ and $V$ and invert the matrix $A$.\n",
    "With the inverse $A^{-1}$, perform\n",
    "a matrix multiplication with $V$ results in $R$.\n",
    "\n",
    "With $R$ you can then evaluate the phase shifts\n",
    "by noting that"
   ]
  },
  {
   "cell_type": "markdown",
   "metadata": {},
   "source": [
    "$$\n",
    "R(k_{N+1},k_{N+1})=R(k_0,k_0)=-\\frac{tan\\delta}{mk_0},\n",
    "$$"
   ]
  },
  {
   "cell_type": "markdown",
   "metadata": {},
   "source": [
    "where $\\delta$ are the phase shifts.\n",
    "\n",
    "<!-- --- end solution of exercise --- -->\n",
    "\n",
    "**b)**\n",
    "Our next step consists in modifying the above program in order to include medium effects.\n",
    "Rewrite the $T$-matrix program by introducing a so-called angle-average Pauli operator\n",
    "and corresponding energy denominators. This results in the so-called $G$-matrix.\n",
    "Allow for the inclusion of single-particle self-energy contributions in the $G$-matrix energy denominators. Compute both the real and imaginary parts of the $G$-matrix and set up the self-consistency problem and compute the ground state energy per particle in the thermodynamical limit.\n",
    "\n",
    "Compare your results with those obtained with Coupled Cluster theory\n",
    "and Green's function theory with a cartesian basis\n",
    "\n",
    "\n",
    "**c)**\n",
    "In the final part of this project we are going to extend the formalism to finite temperature.\n",
    "Use the normalization condition of the density from the Fermi-Dirac momentum distribution\n",
    "to calculate the chemical potential in the medium. Compute thereafter the equation of state\n",
    "as function of temperature and discuss thermodynamical self-consistency requirements.\n",
    "\n",
    "<!-- --- end exercise --- -->"
   ]
  }
 ],
 "metadata": {
  "kernelspec": {
   "display_name": "Python 2",
   "language": "python",
   "name": "python2"
  },
  "language_info": {
   "codemirror_mode": {
    "name": "ipython",
    "version": 2
   },
   "file_extension": ".py",
   "mimetype": "text/x-python",
   "name": "python",
   "nbconvert_exporter": "python",
   "pygments_lexer": "ipython2",
   "version": "2.7.10"
  }
 },
 "nbformat": 4,
 "nbformat_minor": 0
}
