{
 "cells": [
  {
   "cell_type": "markdown",
   "metadata": {},
   "source": [
    "<!-- Slides for many-body text -->\n",
    "<!-- dom:TITLE: Projects and how to develop a numerical project -->\n",
    "# Projects and how to develop a numerical project\n",
    "<!-- dom:AUTHOR: Carlo Barbieri, Wim Dickhoff, Gaute Hagen, Morten Hjorth-Jensen, and Artur Polls -->\n",
    "<!-- Author: --> **Carlo Barbieri, Wim Dickhoff, Gaute Hagen, Morten Hjorth-Jensen, and Artur Polls**\n",
    "\n",
    "Date: **July 6-24, Ganil, Caen, France**\n",
    "\n",
    "## Plan for the Talent course\n",
    "An essential element of the Talent courses is to develop a large project(s) which allows you to study and understand\n",
    "theoretical concepts in nuclear physics.\n",
    "These concepts will in turn allow you to interpret results from experiments and understand the pertinent physics in terms of the underlying forces and laws of motion.\n",
    "\n",
    "Together with the regular lectures in the morning, the hope is that\n",
    "during these three weeks you will be able to write and run a program\n",
    "which implements at least one of the methods discussed during the\n",
    "lectures.  The lectures will also cover additional material which aims\n",
    "at giving you a broader view on what can be achieved with the methods\n",
    "to be discussed. Combined with the 'hands-on' afternoon sessions, the\n",
    "hope is that the lectures and the computational projects will together\n",
    "allow you to achieve these goals. For those of you who would like to\n",
    "get credits to be transferred to your home university, the project(s)\n",
    "can be extended upon allowing you to include further elements to the\n",
    "many-body methods. The load of the final project is estimated to be\n",
    "80 hours. In total, attendence at the course and doing\n",
    "the final project amounts to seven ECTS. There is no credit transfer\n",
    "for Northern-American students.\n",
    "\n",
    "## Outline of the project(s)\n",
    "\n",
    "What is outlined here are several paths that will allow you to develop\n",
    "a program which can be used to study nuclear systems. In particular,\n",
    "we will focus on two widely used many-body methods, coupled cluster\n",
    "theory with its various approximations and Green's function theory.\n",
    "\n",
    "Before we begin, we would however like to present a warm-up problem which\n",
    "contains\n",
    "many of the basic elements of the many-body methods exposed in this course. Furthermore, the simple pairing\n",
    "model described below, provides us with  benchmark results to which we can compare\n",
    "the different many-body methods. The basic elements of the model (single-particle basis and Hamiltonian)\n",
    "can easily be (if structured properly in your program) extended to studies of more realistic systems, either\n",
    "finite systems like nuclei or infinite nuclear matter.\n",
    "\n",
    "The first part of the project is a traditional paper and pencil part, where the aim is to\n",
    "apply second quantization in order to set up the Hamiltonian matrix to be diagonalized.\n",
    "We will study this model the first two afternoons of the school.\n",
    "\n",
    "At most, with four particles in four doubly degenerate single particle states and no broken pairs,\n",
    "you will have a $6 \\times 6$ Hamiltonian matrix to diagonalize. Below, you will find a simple python program\n",
    "which performs the diagonalization and plots the eigenvalues. Parts of this warm-up exercise are solved below.\n",
    "These aspects will be discussed partly during the lectures but also during some of the afternoon sessions.\n",
    "Practical guidelines for code writing will also be discussed.\n",
    "\n",
    "\n",
    "This exercise will allow us to start writing our first skeleton for a coupled cluster theory program at the so-called doubles level of truncation. It will also, for those of you who will prefer  to study Green's functions, serve as a\n",
    "starting point for developing the skeleton of a program for this method. The aim is to finish this part of the program during the first week.\n",
    "\n",
    "With a program which then benchmarks the simple pairing model, we will turn our attention to more realistic systems.\n",
    "Here we propose the following  paths that can be studied with either coupled cluster theory or Green's function theory. Many of the technicalities will be discussed at the lectures and the afternoon sessions during the last two weeks.\n",
    "\n",
    "1. Studies of nuclear matter with a cartesian basis using coupled cluster theory at the level of doubles excitations\n",
    "\n",
    "  * During the three weeks of the course we will mainly focus on two-particle and two-hole excitations\n",
    "\n",
    "  * Focusing only on two-particle correlations in a finite cartesian basis, these can be compared with Brueckner-Hartree-Fock calculations in the infinite limit. The latter should represent exactly two-particle correlations to infinite order. A simple model for the nuclear force will be used.\n",
    "\n",
    "  * For the final project the code can be extended to include particle-hole correlations as well\n",
    "\n",
    "\n",
    "2. The two above paths can be performed using Green's function as well.\n",
    "\n",
    "  * Studies of infinite nuclear matter including two-particle and two-hole correlations using a cartesian basis.\n",
    "\n",
    "  * Comparison of two-particle correlations from Brueckner-Hartree-Fock calculations in the infinite limit\n",
    "\n",
    "\n",
    "If there is enough interest, we can also develop projects where Coupled Cluster theory and Green's function theories are applied to finite systems. In this case we would like to propose a simple system of neutrons in a harmonic oscillator trap since these calculations can be benchmarked agains [existing results](http://journals.aps.org/prc/abstract/10.1103/PhysRevC.84.044306).\n",
    "\n",
    "\n",
    "When working on the projects, we recommend strongly that you form teams of two to three participants. Every team\n",
    "**must** have a *github account* where we can monitor your progress and give you appropriate feedback.\n",
    "\n",
    "If you have not used version control before now, it is time to do so.\n",
    "Proper version control is central to a good ethical scientific conduct.\n",
    "We do require that you use some kind of version control software when working on the projects. We recommend strongly [github](https://github.com/). All lectures and additional material is available at the github [address of the course](http://nucleartalent.github.io/Course2ManyBodyMethods/doc/web/course.html)\n",
    "\n",
    "Furthermore, before coming to the course, we recommend that you refresh your knowledge on second quantization.\n",
    "If your background in second quantization is rudimentary and mentioning of Wick's leave you gazing at the stars,\n",
    "we recommend that you study the material at the course web site on [second quantization](http://nucleartalent.github.io/Course2ManyBodyMethods/doc/pub/secondquant/html/secondquant-bs.html). Try in particular to do some of the exercises.\n",
    "\n",
    "We will also ask  you to come with your own laptop and have installed either a\n",
    "* Fortran compiler or a\n",
    "\n",
    "* c++ compiler\n",
    "\n",
    "If you do not have your own laptop, there will be some PCs locally with the relevant compilers and software.\n",
    "\n",
    "You can use Python as programming language as well, but normally the efficiency of Python for the problems addressed in this course is lower than for codes written in Fortran or c++. We recommend however that use Python as a scripting language for running codes and making plots, as well as using the ipython notebooks provided by us.\n",
    "\n",
    "## Some basic ingredients for a successful numerical project\n",
    "\n",
    "When building up a numerical project there are several elements you should think of, amongst these we take the liberty of mentioning the following:\n",
    "  1. How to structure a code in terms of functions\n",
    "\n",
    "  2. How to make a module\n",
    "\n",
    "  3. How to read input data flexibly from the command line\n",
    "\n",
    "  4. How to create graphical/web user interfaces\n",
    "\n",
    "  5. How to write unit tests (test functions)\n",
    "\n",
    "  6. How to refactor code in terms of classes (instead of functions only), in our case you think of a system and a solver class\n",
    "\n",
    "  7. How to conduct and automate large-scale numerical experiments\n",
    "\n",
    "  8. How to write scientific reports in various formats (LaTeX, HTML)\n",
    "\n",
    "The conventions and techniques outlined here will save you a lot of time when you incrementally extend software over time from simpler to more complicated problems. In particular, you will benefit from many good habits:\n",
    "1. New code is added in a modular fashion to a library (modules)\n",
    "\n",
    "2. Programs are run through convenient user interfaces\n",
    "\n",
    "3. It takes one quick command to let all your code undergo heavy testing\n",
    "\n",
    "4. Tedious manual work with running programs is automated,\n",
    "\n",
    "5. Your scientific investigations are reproducible, scientific reports with top quality typesetting are produced both for paper and electronic devices.\n",
    "\n",
    "## The pairing model as warm-up problem\n",
    "\n",
    "We present a simplified Hamiltonian consisting of an unperturbed\n",
    "Hamiltonian and a so-called pairing interaction term. It is a model\n",
    "which to a large extent mimicks some central features of atomic\n",
    "nuclei, certain atoms and systems which exhibit superfluiditity or\n",
    "superconductivity.  To study this system, we will use a mix of\n",
    "many-body perturbation theory (MBPT), Hartree-Fock (HF) theory and full\n",
    "configuration interaction (FCI) theory. The latter will also provide us with\n",
    "the exact answer.  When setting up the Hamiltonian matrix you will\n",
    "need to solve an eigenvalue problem.\n",
    "\n",
    "We define first the Hamiltonian, with a definition of the model space\n",
    "and the single-particle basis. Thereafter, we present the various\n",
    "exercises (some of them are solved).\n",
    "\n",
    "\n",
    "The Hamiltonian acting in the complete Hilbert space (usually infinite\n",
    "dimensional) consists of an unperturbed one-body part, $\\hat{H}_0$,\n",
    "and a perturbation $\\hat{V}$.\n",
    "\n",
    "We limit ourselves to at most two-body interactions and our Hamiltonian\n",
    "is represented by the following operators"
   ]
  },
  {
   "cell_type": "markdown",
   "metadata": {},
   "source": [
    "$$\n",
    "\\hat{H} = \\sum_{\\alpha\\beta}\\langle \\alpha |h_0|\\beta\\rangle\n",
    "a_{\\alpha}^{\\dagger}a_{\\beta}+\\frac{1}{4}\\sum_{\\alpha\\beta\\gamma\\delta}\\langle \\alpha\\beta|\n",
    "V|\\gamma\\delta\\rangle a_{\\alpha}^{\\dagger}a_{\\beta}^{\\dagger}a_{\\delta}a_{\\gamma},\n",
    "$$"
   ]
  },
  {
   "cell_type": "markdown",
   "metadata": {},
   "source": [
    "where $a_{\\alpha}^{\\dagger}$ and $a_{\\alpha}$ etc. are standard\n",
    "fermion creation and annihilation operators, respectively, and\n",
    "$\\alpha\\beta\\gamma\\delta$ represent all possible single-particle\n",
    "quantum numbers.  The full single-particle space is defined by the\n",
    "completeness relation"
   ]
  },
  {
   "cell_type": "markdown",
   "metadata": {},
   "source": [
    "$$\n",
    "\\hat{{\\bf 1}} = \\sum_{\\alpha=1}^{\\infty}|\\alpha \\rangle \\langle \\alpha|.\n",
    "$$"
   ]
  },
  {
   "cell_type": "markdown",
   "metadata": {},
   "source": [
    "In our calculations\n",
    "we will let the single-particle states $|\\alpha\\rangle$ be\n",
    "eigenfunctions of the one-particle operator $\\hat{h}_0$. Note that the two-body part of the Hamiltonian\n",
    "contains anti-symmetrized matrix elements.\n",
    "\n",
    "\n",
    "The above Hamiltonian acts in turn on various many-body Slater\n",
    "determinants constructed from the single-basis defined by the one-body\n",
    "operator $\\hat{h}_0$.  As an example, the two-particle model space\n",
    "$\\mathcal{P}$ is defined by an operator"
   ]
  },
  {
   "cell_type": "markdown",
   "metadata": {},
   "source": [
    "$$\n",
    "\\hat{P} = \\sum_{\\alpha\\beta =1}^{m}|\\alpha\\beta \\rangle \\langle\n",
    "\\alpha\\beta|,\n",
    "$$"
   ]
  },
  {
   "cell_type": "markdown",
   "metadata": {},
   "source": [
    "where we assume that $m=\\dim(\\mathcal{P})$ and the full space is\n",
    "defined by"
   ]
  },
  {
   "cell_type": "markdown",
   "metadata": {},
   "source": [
    "$$\n",
    "\\hat{P}+\\hat{Q}=\\hat{{\\bf 1}},\n",
    "$$"
   ]
  },
  {
   "cell_type": "markdown",
   "metadata": {},
   "source": [
    "with the projection operator"
   ]
  },
  {
   "cell_type": "markdown",
   "metadata": {},
   "source": [
    "$$\n",
    "\\hat{Q} = \\sum_{\\alpha\\beta =m+1}^{\\infty}|\\alpha\\beta \\rangle \\langle\n",
    "\\alpha\\beta|,\n",
    "$$"
   ]
  },
  {
   "cell_type": "markdown",
   "metadata": {},
   "source": [
    "being the complement of $\\hat{P}$.\n",
    "\n",
    "\n",
    "Our specific model consists of $N$ doubly-degenerate and equally\n",
    "spaced single-particle levels labelled by $p=1,2,\\dots$ and spin\n",
    "$\\sigma=\\pm 1$.  These states are schematically portrayed in\n",
    "Fig. ref{fig:schematic}.  The first two single-particle levels define\n",
    "a possible model space, indicated by the label $\\mathcal{P}$.  The\n",
    "remaining states span the excluded space $\\mathcal{Q}$.\n",
    "\n",
    "We write the Hamiltonian as"
   ]
  },
  {
   "cell_type": "markdown",
   "metadata": {},
   "source": [
    "$$\n",
    "\\hat{H} = \\hat{H}_0 + \\hat{V} ,\n",
    "$$"
   ]
  },
  {
   "cell_type": "markdown",
   "metadata": {},
   "source": [
    "where"
   ]
  },
  {
   "cell_type": "markdown",
   "metadata": {},
   "source": [
    "$$\n",
    "\\hat{H}_0=\\xi\\sum_{p\\sigma}(p-1)a_{p\\sigma}^{\\dagger}a_{p\\sigma}\n",
    "$$"
   ]
  },
  {
   "cell_type": "markdown",
   "metadata": {},
   "source": [
    "and"
   ]
  },
  {
   "cell_type": "markdown",
   "metadata": {},
   "source": [
    "$$\n",
    "\\hat{V}=-\\frac{1}{2}g\\sum_{pq}a^{\\dagger}_{p+}\n",
    "a^{\\dagger}_{p-}a_{q-}a_{q+}.\n",
    "$$"
   ]
  },
  {
   "cell_type": "markdown",
   "metadata": {},
   "source": [
    "Here, $H_0$ is the unperturbed Hamiltonian with a spacing between\n",
    "successive single-particle states given by $\\xi$, which we will set to\n",
    "a constant value $\\xi=1$ without loss of generality. The two-body\n",
    "operator $\\hat{V}$ has one term only. It represents the pairing\n",
    "contribution and carries a constant strength $g$.\n",
    "\n",
    "The indices\n",
    "$\\sigma=\\pm$ represent the two possible spin values. The interaction\n",
    "can only couple pairs and excites therefore only two particles at the\n",
    "time, as indicated by the rightmost four-particle state in\n",
    "Fig. ref{fig:schematic}. There one of the pairs is excited to the\n",
    "state with $p=9$ and the other to the state $p=7$. The two middle\n",
    "possibilities are not possible with the present model.  We label\n",
    "single-particle states within the model space as hole-states. The\n",
    "single-particle states outside the model space are then particle\n",
    "states.\n",
    "\n",
    "In our model we have kept both the interaction strength and the\n",
    "single-particle level as constants.  In a realistic system like an\n",
    "atom or the atomic nucleus this is not the case.\n",
    "\n",
    "<!-- dom:FIGURE: [fig-proj/simplemodel.pdf, width=500 frac=0.7] Schematic plot of the possible single-particle levels with double degeneracy.  The filled circles indicate occupied particle  states while the empty circles represent vacant particle(hole)  states.  The spacing between each level $p$ is constant in this picture.  The first two single-particle levels define our possible  model space, indicated by the label $\\mathcal{P}$.  The remaining  states span the excluded space $\\mathcal{Q}$.  The first state to  the left represents a possible ground state representation for a  four-fermion system. In the second state to the left, one pair is   broken. This possibility is however not included in our  interaction. <div id=\"fig:schematic\"></div> -->\n",
    "<!-- begin figure -->\n",
    "<div id=\"fig:schematic\"></div>\n",
    "\n",
    "<p>Schematic plot of the possible single-particle levels with double degeneracy.  The filled circles indicate occupied particle  states while the empty circles represent vacant particle(hole)  states.  The spacing between each level $p$ is constant in this picture.  The first two single-particle levels define our possible  model space, indicated by the label $\\mathcal{P}$.  The remaining  states span the excluded space $\\mathcal{Q}$.  The first state to  the left represents a possible ground state representation for a  four-fermion system. In the second state to the left, one pair is   broken. This possibility is however not included in our  interaction.</p>\n",
    "<img src=\"fig-proj/simplemodel.pdf\" width=500>\n",
    "\n",
    "<!-- end figure -->\n",
    "\n",
    "\n",
    "\n",
    "\n",
    "<!-- --- begin exercise --- -->\n",
    "\n",
    "## Exercise 1: Pairing Hamiltonian\n",
    "\n",
    "\n",
    "**a)**\n",
    "Show that the unperturbed Hamiltonian $\\hat{H}_0$ and $\\hat{V}$\n",
    "  commute with both the spin projection $\\hat{S}_z$ and the total spin\n",
    "  $\\hat{S}^2$, given by"
   ]
  },
  {
   "cell_type": "markdown",
   "metadata": {},
   "source": [
    "$$\n",
    "\\hat{S}_z := \\frac{1}{2}\\sum_{p\\sigma} \\sigma\n",
    "  a^{\\dagger}_{p\\sigma}a_{p\\sigma}\n",
    "$$"
   ]
  },
  {
   "cell_type": "markdown",
   "metadata": {},
   "source": [
    "and"
   ]
  },
  {
   "cell_type": "markdown",
   "metadata": {},
   "source": [
    "$$\n",
    "\\hat{S}^2 := \\hat{S}_z^2 + \\frac{1}{2}(\\hat{S}_+\\hat{S}_- +\n",
    "  \\hat{S}_-\\hat{S}_+),\n",
    "$$"
   ]
  },
  {
   "cell_type": "markdown",
   "metadata": {},
   "source": [
    "where"
   ]
  },
  {
   "cell_type": "markdown",
   "metadata": {},
   "source": [
    "$$\n",
    "\\hat{S}_\\pm := \\sum_{p} a^{\\dagger}_{p\\pm} a_{p\\mp}.\n",
    "$$"
   ]
  },
  {
   "cell_type": "markdown",
   "metadata": {},
   "source": [
    "This is an important feature of our system that allows us to\n",
    "block-diagonalize the full Hamiltonian. We will focus on total spin\n",
    "$S=0$.  In this case, it is convenient to define the so-called pair\n",
    "creation and pair annihilation operators"
   ]
  },
  {
   "cell_type": "markdown",
   "metadata": {},
   "source": [
    "$$\n",
    "\\hat{P}^{+}_p = a^{\\dagger}_{p+}a^{\\dagger}_{p-},\n",
    "$$"
   ]
  },
  {
   "cell_type": "markdown",
   "metadata": {},
   "source": [
    "and"
   ]
  },
  {
   "cell_type": "markdown",
   "metadata": {},
   "source": [
    "$$\n",
    "\\hat{P}^{-}_p = a_{p-}a_{p+},\n",
    "$$"
   ]
  },
  {
   "cell_type": "markdown",
   "metadata": {},
   "source": [
    "respectively.\n",
    "\n",
    "Show that you can rewrite the Hamiltonian (with $\\xi=1$) as"
   ]
  },
  {
   "cell_type": "markdown",
   "metadata": {},
   "source": [
    "$$\n",
    "\\hat{H}=\\sum_{p\\sigma}(p-1)a_{p\\sigma}^{\\dagger}a_{p\\sigma}\n",
    "-\\frac{1}{2}g\\sum_{pq}\\hat{P}^{+}_p\\hat{P}^{-}_q.\n",
    "$$"
   ]
  },
  {
   "cell_type": "markdown",
   "metadata": {},
   "source": [
    "Show also that Hamiltonian commutes with the product of the pair\n",
    "creation and annihilation operators.  This model corresponds to a\n",
    "system with no broken pairs. This means that the Hamiltonian can only\n",
    "link two-particle states in so-called spin-reversed states.\n",
    "\n",
    "\n",
    "**b)**\n",
    "Construct thereafter the Hamiltonian matrix for a system with no\n",
    "  broken pairs and total spin $S=0$ for the case of the four lowest\n",
    "  single-particle levels indicated in the\n",
    "  Fig. ref{fig:schematic}. Our system consists of four particles\n",
    "  only.  Our single-particle space consists of only the four lowest\n",
    "  levels $p=1,2,3,4$.  You need to set up all possible Slater\n",
    "  determinants.  Find all eigenvalues by diagonalizing the Hamiltonian\n",
    "  matrix.  Vary your results for values of $g\\in [-1,1]$.  We refer to\n",
    "  this as the exact calculation. Comment the behavior of the ground\n",
    "  state as function of $g$.\n",
    "\n",
    "\n",
    "<!-- --- begin solution of exercise --- -->\n",
    "**Solution.**\n",
    "We give first the final Hamiltonian matrix"
   ]
  },
  {
   "cell_type": "markdown",
   "metadata": {},
   "source": [
    "$$\n",
    "H = \\left (\n",
    "\\begin{array}{cccccc}\n",
    "2\\delta -g & -g/2 & -g/2 & -g/2 & -g/2 & 0 \\\\\n",
    " -g/2 & 4\\delta -g & -g/2 & -g/2 & -0 & -g/2 \\\\\n",
    "-g/2 & -g/2 & 6\\delta -g & 0 & -g/2 & -g/2 \\\\\n",
    " -g/2 & -g/2 & 0 & 6\\delta-g & -g/2 & -g/2 \\\\\n",
    " -g/2 & 0 & -g/2 & -g/2 & 8\\delta-g & -g/2 \\\\\n",
    "0 & -g/2 & -g/2 & -g/2 & -g/2 & 10\\delta -g\n",
    "\\end{array} \\right )\n",
    "$$"
   ]
  },
  {
   "cell_type": "markdown",
   "metadata": {},
   "source": [
    "The following python program diagonalizes the above Hamiltonian matrix for a given span of interaction strength values, performing both a full configuration interaction calculation and a truncated one. For the truncated case we leave out the $4p4h$ state. This means that in addition to the ground state we include the four possible $2p2h$ states. Such a calculation is normally called a configuration interaction calculation."
   ]
  },
  {
   "cell_type": "code",
<<<<<<< Updated upstream
   "execution_count": 1,
=======
   "execution_count": 4,
>>>>>>> Stashed changes
   "metadata": {
    "collapsed": false
   },
   "outputs": [
    {
<<<<<<< Updated upstream
     "name": "stdout",
     "output_type": "stream",
     "text": [
      "0\n",
      " -0.985   -0.135   -0.071   -0.071   -0.046 "
     ]
    },
    {
     "name": "stderr",
     "output_type": "stream",
     "text": [
      "/Applications/anaconda/lib/python2.7/site-packages/numpy/core/numeric.py:462: ComplexWarning: Casting complex values to real discards the imaginary part\n",
      "  return array(a, dtype, copy=False, order=order)\n"
     ]
    },
    {
=======
>>>>>>> Stashed changes
     "data": {
      "image/png": "iVBORw0KGgoAAAANSUhEUgAAAYQAAAEYCAYAAABcGYHrAAAABHNCSVQICAgIfAhkiAAAAAlwSFlz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\nAPw/5tbqjvv3NYYAAAAASUVORK5CYII=\n",
      "text/plain": [
<<<<<<< Updated upstream
       "<matplotlib.figure.Figure at 0x106bec590>"
=======
       "<matplotlib.figure.Figure at 0x1042a8250>"
>>>>>>> Stashed changes
      ]
     },
     "metadata": {},
     "output_type": "display_data"
    }
   ],
   "source": [
    "%matplotlib inline\n",
    "\n",
    "from numpy import *\n",
    "from sympy import *\n",
    "from matplotlib.pyplot import *\n",
    "\n",
    "g_array = linspace(-2, 4, 1001)\n",
    "e1_array = []\n",
    "e2_array = []\n",
    "\n",
    "for g in g_array:\n",
    "\tH1 = matrix([[2-g , -g/2.,  -g/2., -g/2., -g/2.,     0],\n",
    "\t\t        [-g/2.,   4-g,  -g/2., -g/2.,    0., -g/2.],\n",
    "\t\t        [-g/2., -g/2.,    6-g,     0, -g/2., -g/2.],\n",
    "\t\t\t\t[-g/2., -g/2.,      0,   6-g, -g/2., -g/2.],\n",
    "\t\t\t\t[-g/2.,     0,  -g/2., -g/2.,   8-g, -g/2.],\n",
    "\t\t\t\t[0    , -g/2.,  -g/2., -g/2., -g/2.,  10-g]])\n",
    "\n",
    "\tH2 = matrix([[2-g , -g/2.,  -g/2., -g/2., -g/2.],\n",
    "\t\t        [-g/2.,   4-g,  -g/2., -g/2.,    0.],\n",
    "\t\t        [-g/2., -g/2.,    6-g,     0, -g/2.],\n",
    "\t\t\t\t[-g/2., -g/2.,      0,   6-g, -g/2.],\n",
    "\t\t\t\t[-g/2.,     0,  -g/2., -g/2.,   8-g]])\n",
    "\n",
    "\n",
    "\n",
    "\tu1, v1 = linalg.eig(H1)\n",
    "\tu2, v2 = linalg.eig(H2)\n",
    "\n",
    "\tif g == 1./2:\n",
    "\t\tprint argmin(u1)\n",
    "\n",
    "\t\tfor i in range(5):\n",
    "\t\t\tprint \" %.3f \" % v2[i,0],\n",
    "\n",
    "\n",
    "\n",
    "\te1_array.append(min(u1))\n",
    "\te2_array.append(min(u2))\n",
    "\n",
    "\n",
    "plot(g_array, e1_array, linewidth=2.0)\n",
    "#plot(g_array, e2_array, linewidth=2.0)\n",
    "plot(g_array, (2-g_array), linewidth=2.0)\n",
    "grid()\n",
    "xlabel(r\"Strength of interaction, $g$\", fontsize=16)\n",
    "ylabel(r'Ground state energy', fontsize=16)\n",
    "#axis([-1,1,-0.4,0.05])\n",
    "legend(['FCI -- Exact', 'Reference energy'])\n",
    "savefig(\"pairing.pdf\")\n",
    "show()"
   ]
  },
  {
   "cell_type": "markdown",
   "metadata": {},
   "source": [
    "The eigenvalues and eigenvectors result from the diagonalization of the above Hamiltonian matrix.\n",
    "In the discussions below and in connection with the first stage of the numerical project, we will use these results to benchmark various approximative methods.\n",
    "The lowest eigenvalue corresponds to the ground state\n",
    "energy and we will refer to it as the *exact energy* when no truncations in the space of possible Slater determinants are made..\n",
    "\n",
    "From our results, we note some important differences between the full configuration interaction (FCI)\n",
    "calculation and the truncated configuration interaction calculation (CI).\n",
    "Full configuration interaction is an exact method, but is only\n",
    "possible if and only if we have a complete and finite SD basis for our\n",
    "system. In practice, we usually don't have this. Non-complete\n",
    "CI however, is always possible, but yiels   approximative\n",
    "results only. The method is however still variational however, meaning that we\n",
    "guaranteed that the approximation will be equal or bigger to the true\n",
    "result.\n",
    "Perturbation theory however, is non-variational and there is no guarantee that including higher orders in the\n",
    "perturbation gives an improved result, as we will see below.\n",
    "\n",
    "In an FCI case, we are including all possible exictations to infinite\n",
    "order, meaning we have all possible $1p1h$ , $2p2h$ etc configurations, up to $4p4h$\n",
    "excitations for our selected model. Due to the nature of the pairing interaction and our selection\n",
    "of specific quantum numbers for the many-body states, we do not have any $1p1h$ or $3p3h$ excitations.\n",
    "In the above CI case, we truncate those excitations somewhere.\n",
    "If we\n",
    "were to draw the diagrams of the interactions that contribute to this\n",
    "CI case, there would be an infinite number of them, as we can have\n",
    "arbitrarily long chains of operators that still only have at most 2p2h\n",
    "intermediate states.\n",
    "\n",
    "<!-- --- end solution of exercise --- -->\n",
    "\n",
    "**c)**\n",
    "We switch now to approximative methods, in our case Hartree-Fock\n",
    "  theory and many-body perturbation theory. Hereafter we will define\n",
    "  our model space to consist of the single-particle levels $p=1,2$.\n",
    "  The remaining levels $p=3,4$ define our excluded space.  This means\n",
    "  that our ground state Slater determinant consists of four particles\n",
    "  which can be placed in the doubly degenerate orbits $p=1$ and $p=2$.\n",
    "  Our first step is to perform a Hartree-Fock calculation with the\n",
    "  pairing Hamiltonian.  Write first the normal-ordered Hamiltonian\n",
    "  with respect to the above reference state given by four spin $1/2$\n",
    "  fermions in the single-particle levels $p=1,2$. Define what is meant\n",
    "  by a canonical Hartree-Fock case, a non-canonical case and a general\n",
    "  case.  For all three cases, write down the normal-ordered\n",
    "  Hamiltonian and draw the diagrammatic form of the Hamiltonian for all three cases.\n",
    "\n",
    "\n",
    "\n",
    "**d)**\n",
    "We will now set up the Hartree-Fock equations by varying the\n",
    "coefficients of the single-particle functions. The single-particle\n",
    "basis functions are defined as"
   ]
  },
  {
   "cell_type": "markdown",
   "metadata": {},
   "source": [
    "$$\n",
    "\\psi_p = \\sum_{\\lambda} C_{p\\lambda}\\psi_{\\lambda}.\n",
    "$$"
   ]
  },
  {
   "cell_type": "markdown",
   "metadata": {},
   "source": [
    "where in our case $p=1,2,3,4$ and $\\lambda=1,2,3,4$, that is the first\n",
    "four lowest single-particle orbits of Fig. ref{fig:schematic}.  Set\n",
    "up the Hartree-Fock equations for this system by varying the\n",
    "coefficients $C_{p\\lambda}$ and solve them for values of $g\\in\n",
    "[-1,1]$.  Comment your results and compare with the exact\n",
    "solution. Discuss also which diagrams in Fig. ref{fig:diagrams} that\n",
    "can be affected by a Hartree-Fock basis. Compute the total binding\n",
    "energy using a Hartree-Fock basis and comment your results.\n",
    "\n",
    "\n",
    "\n",
    "**e)**\n",
    "We will now study the system using non-degenerate\n",
    "Rayleigh-Schroedinger perturbation theory to third order in the\n",
    "interaction.  If we exclude the first order contribution, all possible\n",
    "diagrams (so-called anti-symmetric Goldstone diagrams) are\n",
    "shown in Fig. ref{fig:diagrams}.\n",
    "\n",
    "<!-- dom:FIGURE: [fig-proj/diagrams.pdf, width=500 frac=0.6] Diagrams to third order in the interaction, including also non-canonical Hartree-Fock diagrams. The first order term is excluded. All interaction vertices represent anti-symmetrized matrix elements. <div id=\"fig:diagrams\"></div> -->\n",
    "<!-- begin figure -->\n",
    "<div id=\"fig:diagrams\"></div>\n",
    "\n",
    "<p>Diagrams to third order in the interaction, including also non-canonical Hartree-Fock diagrams. The first order term is excluded. All interaction vertices represent anti-symmetrized matrix elements.</p>\n",
    "<img src=\"fig-proj/diagrams.pdf\" width=500>\n",
    "\n",
    "<!-- end figure -->\n",
    "\n",
    "\n",
    "Based on the form of the interaction, which diagrams contribute to the\n",
    "binding energy of the ground state?  Write down the expressions for\n",
    "the diagrams that contribute and find the contribution to the ground\n",
    "state energy as function $g\\in [-1,1]$. Comment your results.  Compare\n",
    "these results with those you obtained from the exact diagonalization with and without the $4p-4h$ state.\n",
    "Discuss your results for a canonical Hartree-Fock basis and a non-canonical Hartree-Fock basis.\n",
    "\n",
    "**f)**\n",
    "Diagram 1 in Fig. ref{fig:diagrams} represents a second-order contribution to the energy and a so-called $2p-2h$ contribution to the intermediate states. Write down the expression for the wave operator in this case and compare the possible contributions with the configuration interaction calculations without the $4p-4h$ Slater determinant. Comment your results for\n",
    "various values of $g\\in [-1,1]$.\n",
    "\n",
    "**g)**\n",
    "We limit now the discussion to the canonical Hartree-Fock case only. To fourth order in perturbation theory we can produce diagrams with $1p-1h$ intermediate excitations as shown in Fig. ref{fig:fourthorder1p1h}, $2p-2h$ excitations, see Fig. ref{fig:fourthorder2p2h}, $3p-3h$ excitations as shown in Fig. ref{fig:fourthorder3p3h} and finally so-called diagrams with intermediate four-particle-four-hole excitations, see Fig. ref{fig:fourthorder4p4h}.\n",
    "\n",
    "<!-- dom:FIGURE: [fig-proj/fourthorder1p1h.png, width=500 frac=0.6] One-particle-one-hole excitations to fourth order. <div id=\"fig:fourthorder1p1h\"></div> -->\n",
    "<!-- begin figure -->\n",
    "<div id=\"fig:fourthorder1p1h\"></div>\n",
    "\n",
    "<p>One-particle-one-hole excitations to fourth order.</p>\n",
    "<img src=\"fig-proj/fourthorder1p1h.png\" width=500>\n",
    "\n",
    "<!-- end figure -->\n",
    "\n",
    "\n",
    "<!-- dom:FIGURE: [fig-proj/fourthorder2p2h.png, width=500 frac=0.6] Two-particle-two-hole excitations to fourth order. <div id=\"fig:fourthorder2p2h\"></div> -->\n",
    "<!-- begin figure -->\n",
    "<div id=\"fig:fourthorder2p2h\"></div>\n",
    "\n",
    "<p>Two-particle-two-hole excitations to fourth order.</p>\n",
    "<img src=\"fig-proj/fourthorder2p2h.png\" width=500>\n",
    "\n",
    "<!-- end figure -->\n",
    "\n",
    "\n",
    "<!-- dom:FIGURE: [fig-proj/fourthorder3p3h.png, width=500 frac=0.6] Three-particle-three-hole excitations to fourth order. <div id=\"fig:fourthorder3p3h\"></div> -->\n",
    "<!-- begin figure -->\n",
    "<div id=\"fig:fourthorder3p3h\"></div>\n",
    "\n",
    "<p>Three-particle-three-hole excitations to fourth order.</p>\n",
    "<img src=\"fig-proj/fourthorder3p3h.png\" width=500>\n",
    "\n",
    "<!-- end figure -->\n",
    "\n",
    "\n",
    "<!-- dom:FIGURE: [fig-proj/fourthorder4p4h.png, width=500 frac=0.6] Four-particle-four-hole excitations to fourth order. <div id=\"fig:fourthorder4p4h\"></div> -->\n",
    "<!-- begin figure -->\n",
    "<div id=\"fig:fourthorder4p4h\"></div>\n",
    "\n",
    "<p>Four-particle-four-hole excitations to fourth order.</p>\n",
    "<img src=\"fig-proj/fourthorder4p4h.png\" width=500>\n",
    "\n",
    "<!-- end figure -->\n",
    "\n",
    "\n",
    "Define first linked and unlinked diagrams and explain briefly Goldstone's linked diagram theorem.\n",
    "Based on the linked diagram theorem and the form of the pairing Hamiltonian, which diagrams will contribute\n",
    "to fourth order?\n",
    "\n",
    "Calculate the energy to fourth order with a canonical Hartree-Fock basis for $g\\in [-1,1]$ and compare\n",
    "with the full diagonalization case in exercise b). Discuss the results.\n",
    "\n",
    "\n",
    "<!-- --- begin solution of exercise --- -->\n",
    "**Solution.**\n",
    "To fourth order in the interaction there are several diagrams to consider.\n",
    "Fortunately, due to the character of the pairing Hamiltonian, several of these contributions are\n",
    "zero. We limit our discussions also to include the\n",
    "canonical HF-case only.\n",
    "All of the diagrams in the canonical case are\n",
    "shown in figures 3, 4, 5 and 6 above.\n",
    "Using also the linked diagram theorem, where a\n",
    "diagram is called unlinked if and only if it has a disconnected part\n",
    "that is closed, we can eliminate some further  diagrams. Goldstones\n",
    "linked-diagram theorem states that all unliked diagrams will cancel\n",
    "against the renormalization terms in Rayleigh-Schroedinger perturbation theory,\n",
    "meaning that we can define\n",
    "the energy to each order as a sum of linked diagrams\n",
    "only. We can then disregard diagram 33 and 41.\n",
    "\n",
    "Let us now go through all the diagrams and find those that vanish due\n",
    "to having broken pairs, i.e., the diagrams that vanish due to our\n",
    "specific interaction. Take for example diagram 1, which vanishes due\n",
    "to having a term $\\langle ab\\vert \\hat{v} \\vert ci\\rangle$. From this\n",
    "argument, we see that all four diagrams from figure 3 vanish. Similar\n",
    "arguments shows that most diagrams in figure 4 also dissapear. Going\n",
    "through all the diagrams, we see that 5, 6, 14 and 15 are the ones\n",
    "that do not vanish in figure 4. For figure 5 we actually see that all\n",
    "diagrams vanish again. For figure 6 we already found that 33 and 41\n",
    "vanished due to being unlinked---the rest contribute to the perturbative expansion of the\n",
    "energy.\n",
    "The diagrams of figures 3 and 5 vanish since they involve $1p1h$ and $3p3h$ excitations, respectively.\n",
    "\n",
    "The expressions for these diagrams can easily be written in terms of a\n",
    "simple Python program. Note however that for every diagram we do\n",
    "actually perform loops over every single-particle state. As we will\n",
    "see later, this is extremely inefficient from a computational point\n",
    "of view. In our discussions of the projects below, we will rewrite the\n",
    "computations of most diagrams in terms of efficient matrix-matrix\n",
    "multiplications or matrix-vector multiplications.  The following\n",
    "Python program gives us the final results for perturbation theory to fourth\n",
    "order in the interaction. The resulting figures include also plots of the relative error in the\n",
    "correlation energy. That is, we compare the computed correlation in\n",
    "perturbation theory with the result from the exact diagonalization discussed above."
   ]
  },
  {
   "cell_type": "code",
<<<<<<< Updated upstream
   "execution_count": 2,
=======
   "execution_count": 5,
>>>>>>> Stashed changes
   "metadata": {
    "collapsed": false
   },
   "outputs": [
    {
     "name": "stdout",
     "output_type": "stream",
     "text": [
      "-0.291666666666667*g**2\n",
      "-0.0920138888888889*g**3\n",
      "-0.092013888888889*g**3\n",
      "0\n",
      "0\n"
     ]
    },
    {
     "name": "stderr",
     "output_type": "stream",
     "text": [
      "/Applications/anaconda/lib/python2.7/site-packages/matplotlib/cbook.py:137: MatplotlibDeprecationWarning: The \"loc\" positional argument to legend is deprecated. Please use the \"loc\" keyword instead.\n",
      "  warnings.warn(message, mplDeprecation, stacklevel=1)\n"
     ]
    },
    {
     "data": {
      "image/png": "iVBORw0KGgoAAAANSUhEUgAAAZIAAAETCAYAAAAcboCHAAAABHNCSVQICAgIfAhkiAAAAAlwSFlz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\n",
      "text/plain": [
<<<<<<< Updated upstream
       "<matplotlib.figure.Figure at 0x106bf4d10>"
=======
       "<matplotlib.figure.Figure at 0x10702a2d0>"
>>>>>>> Stashed changes
      ]
     },
     "metadata": {},
     "output_type": "display_data"
    },
    {
     "name": "stderr",
     "output_type": "stream",
     "text": [
      "/anaconda/lib/python2.7/site-packages/IPython/kernel/__main__.py:182: RuntimeWarning: divide by zero encountered in log10\n",
      "/anaconda/lib/python2.7/site-packages/IPython/kernel/__main__.py:183: RuntimeWarning: divide by zero encountered in log10\n"
     ]
    },
    {
     "name": "stdout",
     "output_type": "stream",
     "text": [
      "<type 'numpy.ndarray'>\n"
     ]
    },
    {
     "name": "stderr",
     "output_type": "stream",
     "text": [
      "/anaconda/lib/python2.7/site-packages/IPython/kernel/__main__.py:184: RuntimeWarning: divide by zero encountered in log10\n"
     ]
    },
    {
     "data": {
      "image/png": "iVBORw0KGgoAAAANSUhEUgAAAY8AAAEYCAYAAACk+XocAAAABHNCSVQICAgIfAhkiAAAAAlwSFlz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\nAAAASUVORK5CYII=\n",
      "text/plain": [
<<<<<<< Updated upstream
       "<matplotlib.figure.Figure at 0x107dd8990>"
=======
       "<matplotlib.figure.Figure at 0x107f8c290>"
>>>>>>> Stashed changes
      ]
     },
     "metadata": {},
     "output_type": "display_data"
    }
   ],
   "source": [
    "from sympy import *\n",
    "from pylab import *\n",
    "\n",
    "below_fermi = (0,1,2,3)\n",
    "above_fermi = (4,5,6,7)\n",
    "\n",
    "states = [(1,1),(1,-1),(2,1),(2,-1),(3,1),(3,-1),(4,1),(4,-1)]\n",
    "N = 8\n",
    "g = Symbol('g')\n",
    "\n",
    "\n",
    "\n",
    "def h0(p,q):\n",
    "\tif p == q:\n",
    "\t\tp1, s1 = states[p]\n",
    "\t\treturn (p1 - 1)\n",
    "\telse:\n",
    "\t\treturn 0\n",
    "\n",
    "def f(p,q):\n",
    "\tif p == q:\n",
    "\t\treturn 0\n",
    "\n",
    "\ts = h0(p,q)\n",
    "\tfor i in below_fermi:\n",
    "\t\ts += assym(p,i,q,i)\n",
    "\treturn s\n",
    "\n",
    "\n",
    "def assym(p,q,r,s):\n",
    "\tp1, s1 = states[p]\n",
    "\tp2, s2 = states[q]\n",
    "\tp3, s3 = states[r]\n",
    "\tp4, s4 = states[s]\n",
    "\n",
    "\tif p1 != p2 or p3 != p4:\n",
    "\t\treturn 0\n",
    "\tif s1 == s2 or s3 == s4:\n",
    "\t\treturn 0\n",
    "\tif s1 == s3 and s2 == s4:\n",
    "\t\treturn -g/2.\n",
    "\tif s1 == s4 and s2 == s3:\n",
    "\t\treturn g/2.\n",
    "\n",
    "def eps(holes, particles):\n",
    "\tE = 0\n",
    "\tfor h in holes:\n",
    "\t\tp, s = states[h]\n",
    "\t\tE += (p-1)\n",
    "\tfor p in particles:\n",
    "\t\tp, s = states[p]\n",
    "\t\tE -= (p-1)\n",
    "\treturn E\n",
    "\n",
    "\n",
    "# Diagram 3\n",
    "# s = 0\n",
    "# for a in above_fermi:\n",
    "# \tfor b in above_fermi:\n",
    "# \t\tfor c in above_fermi:\n",
    "# \t\t\tfor i in below_fermi:\n",
    "# \t\t\t\tfor j in below_fermi:\n",
    "# \t\t\t\t\tfor k in below_fermi:\n",
    "# \t\t\t\t\t\ts += assym(i,j,a,b)*assym(a,c,j,k)*assym(b,k,c,i)/eps((i,j),(a,b))/eps((k,j),(a,c))\n",
    "# print s\n",
    "\n",
    "\n",
    "# ga = linspace(-1,1,101)\n",
    "# corr2 = []\n",
    "# corr3 = []\n",
    "# corrx = []\n",
    "\n",
    "\n",
    "# Diagram 1\n",
    "s1 = 0\n",
    "for a in above_fermi:\n",
    "\tfor b in above_fermi:\n",
    "\t\tfor i in below_fermi:\n",
    "\t\t\tfor j in below_fermi:\n",
    "\t\t\t\ts1 += 0.25*assym(a,b,i,j)*assym(i,j,a,b)/eps((i,j),(a,b))\n",
    "\n",
    "# Diagram 4\n",
    "s4 = 0\n",
    "for a in above_fermi:\n",
    "\tfor b in above_fermi:\n",
    "\t\tfor c in above_fermi:\n",
    "\t\t\tfor d in above_fermi:\n",
    "\t\t\t\tfor i in below_fermi:\n",
    "\t\t\t\t\tfor j in below_fermi:\n",
    "\t\t\t\t\t\ts4 += 0.125*assym(i,j,a,b)*assym(a,b,c,d)*assym(c,d,i,j)/eps((i,j),(a,b))/eps((i,j),(c,d))\n",
    "\n",
    "# Diagram 5\n",
    "s5 = 0\n",
    "for a in above_fermi:\n",
    "\tfor b in above_fermi:\n",
    "\t\tfor i in below_fermi:\n",
    "\t\t\tfor j in below_fermi:\n",
    "\t\t\t\tfor k in below_fermi:\n",
    "\t\t\t\t\tfor l in below_fermi:\n",
    "\t\t\t\t\t\ts5 += 0.125*assym(i,j,a,b)*assym(k,l,i,j)*assym(a,b,k,l)/eps((i,j),(a,b))/eps((k,l),(a,b))\n",
    "\n",
    "# Diagram 8 (simplified)\n",
    "s8 = 0\n",
    "for a in above_fermi:\n",
    "\tfor b in above_fermi:\n",
    "\t\tfor i in below_fermi:\n",
    "\t\t\tfor j in below_fermi:\n",
    "\t\t\t\tfor k in below_fermi:\n",
    "\t\t\t\t\ts8 -= 0.5*assym(i,j,a,b)*assym(a,b,i,k)*f(k,j)/eps((i,j),(a,b))/eps((i,k),(a,b))\n",
    "\n",
    "# Diagram 9 (simplified)\n",
    "s9 = 0\n",
    "for a in above_fermi:\n",
    "\tfor b in above_fermi:\n",
    "\t\tfor c in above_fermi:\n",
    "\t\t\tfor i in below_fermi:\n",
    "\t\t\t\tfor j in below_fermi:\n",
    "\t\t\t\t\ts9 += 0.5*assym(i,j,a,b)*assym(a,c,i,j)*f(b,c)/eps((i,j),(a,b))/eps((i,j),(a,c))\n",
    "\n",
    "\n",
    "print s1\n",
    "print s4\n",
    "print s5\n",
    "print s8\n",
    "print s9\n",
    "\n",
    "\n",
    "s_5 =  -0.0291521990740741*g**4\n",
    "s14 =  -0.0308883101851853*g**4\n",
    "s34 =  0.0163049768518519*g**4\n",
    "s36 =  -0.0145760995370371*g**4\n",
    "s38 =  -0.0201099537037037*g**4\n",
    "s39 =  0.0176938657407407*g**4\n",
    "\n",
    "ga = linspace(-3,5,10001)\n",
    "e1 = []\n",
    "corr2 = []\n",
    "corr3 = []\n",
    "corr4 = []\n",
    "for g_val in ga:\n",
    "\tH1 = matrix([[2-g_val , -g_val/2.,  -g_val/2., -g_val/2., -g_val/2.,     0],\n",
    "\t\t        [-g_val/2.,   4-g_val,  -g_val/2., -g_val/2.,    0., -g_val/2.],\n",
    "\t\t        [-g_val/2., -g_val/2.,    6-g_val,     0, -g_val/2., -g_val/2.],\n",
    "\t\t\t\t[-g_val/2., -g_val/2.,      0,   6-g_val, -g_val/2., -g_val/2.],\n",
    "\t\t\t\t[-g_val/2.,     0,  -g_val/2., -g_val/2.,   8-g_val, -g_val/2.],\n",
    "\t\t\t\t[0    , -g_val/2.,  -g_val/2., -g_val/2., -g_val/2.,  10-g_val]])\n",
    "\n",
    "\tu1, v1 = linalg.eig(H1)\n",
    "\te1.append(min(u1))\n",
    "\n",
    "\tcorr2.append((s1).subs(g,g_val))\n",
    "\tcorr3.append((s1+s4+s5).subs(g,g_val))\n",
    "\tcorr4.append((s1+s4+s5+2*s_5+2*s14+2*s34+2*s36+s38+2*s39).subs(g,g_val))\n",
    "\n",
    "exact = e1 - (2-ga)\n",
    "\n",
    "plot(ga, exact, linewidth=2.0)\n",
    "plot(ga, corr2, linewidth=2.0)\n",
    "plot(ga, corr3, linewidth=2.0)\n",
    "plot(ga, corr4, linewidth=2.0)\n",
    "xlabel(r'Interaction strength, $g$', fontsize=16)\n",
    "ylabel(r'Correlation energy', fontsize=16)\n",
    "axis([-1,1,-0.5,0.05])\n",
    "grid()\n",
    "legend([\"Exact\", \"2. order MPBT\", \"3. order MPBT\", \"4. order MPBT\"], 'lower left')\n",
    "savefig(\"perturbationtheory.pdf\")\n",
    "show()\n",
    "error1 = zeros(len(exact))\n",
    "error2 = zeros(len(exact))\n",
    "error3 = zeros(len(exact))\n",
    "\n",
    "for i in range(len(exact)):\n",
    "\terror1[i] = abs(float(exact[i]-corr2[i]))\n",
    "\terror2[i] = abs(float(exact[i]-corr3[i]))\n",
    "\terror3[i] = abs(float(exact[i]-corr4[i]))\n",
    "\n",
    "error1 = array(error1)\n",
    "error2 = array(error2)\n",
    "error3 = array(error3)\n",
    "print type(error1)\n",
    "\n",
    "plot(ga, log10(error1))\n",
    "plot(ga, log10(error2))\n",
    "plot(ga, log10(error3))\n",
    "xlabel(r\"Strength of interaction, $g$\", fontsize=16)\n",
    "ylabel(r\"Error, $\\log_{\\rm 10}({\\rm abs}({\\rm error})$\", fontsize=16)\n",
    "legend([\"2. order MPBT\", \"3. order MPBT\", \"4. order MPBT\"], 'lower left')\n",
    "grid()\n",
    "savefig(\"logerror.pdf\")\n",
    "show()"
   ]
  },
  {
   "cell_type": "markdown",
   "metadata": {},
   "source": [
    "Running the Python program shows us that\n",
    "the approximation to both second and third order are very\n",
    "good when the interaction strength is small and contained in the interval\n",
    "$g\\in[-0.5,0.5]$, but as the\n",
    "interaction gets stronger the approximation worsens. We also\n",
    "note that the third-order result is actually worse than the second order result\n",
    "for larger values of the interaction strength, indicating that there is no guarantee that higher orders\n",
    "in many-body perturbation theory may reduce the relative error in a systematic way.\n",
    "This is seen in particular for the results to fourth order. For negative interaction strengths\n",
    "fourth order gives a better result than second and third order, while for $g>0$ the relative error is\n",
    "worse.\n",
    "We note also the non-variational character of many-body perturbation theory, with results at different undershooting the true ground state correlation energy.\n",
    "\n",
    "<!-- --- end solution of exercise --- -->\n",
    "\n",
    "<!-- --- end exercise --- -->\n",
    "\n",
    "\n",
    "\n",
    "\n",
    "<!-- --- begin exercise --- -->\n",
    "\n",
    "## Project 2: Coupled cluster calculations with doubles excitations only for the pairing model\n",
    "\n",
    "This project serves as a continuation\n",
    "of the pairing model with the aim being to solve the same problem but\n",
    "now by developing a program that implements the coupled cluster method\n",
    "with double excitations only. In doing so you will find it convenient\n",
    "to write classes which define the single-particle basis and the\n",
    "Hamiltonian. Your functions that solve the coupled cluster equations\n",
    "will then just need to set up variables which point to interaction\n",
    "elements and single-particle states with their pertinent quantum\n",
    "numbers. Use for example the setup discussed in the FCI lectures for\n",
    "the pairing model.\n",
    "\n",
    "\n",
    "**a)**\n",
    "Explain why no single excitations are involved in this model.\n",
    "\n",
    "**b)**\n",
    "Set up the coupled cluster equations for doubles excitations and convince yourself about their\n",
    "meaning and correctness.\n",
    "\n",
    "**c)**\n",
    "Write a class which holds\n",
    "single-particle data like specific quantum numbers, single-particle\n",
    "Hamiltonian etc. Write also a class which sets up and stores two-body\n",
    "matrix elements defined by the single-particle states.  Write\n",
    "thereafter functions/classes which implement the coupled cluster\n",
    "method with doubles only.\n",
    "\n",
    "**d)**\n",
    "Compare your results with\n",
    "those from the exact diagonalization with and without the $4p4h$\n",
    "excitation. Compare also your results to perturbation theory at\n",
    "different orders, in particular to second order. Discuss your results.\n",
    "If other students are solving the same problem using Green's function\n",
    "theory, you can also compare your results with those obtained from\n",
    "Green's function theory. The aim is to finalize this part during the\n",
    "first week. The codes you will develop can be used as a starting point\n",
    "for the second part of the project.\n",
    "\n",
    "<!-- --- end exercise --- -->\n",
    "\n",
    "\n",
    "\n",
    "\n",
    "<!-- --- begin exercise --- -->\n",
    "\n",
    "## Project 3: Green's function calculations with a second order self-energy for the pairing model\n",
    "\n",
    "This project serves as a continuation of the pairing model with the aim being to solve the same problem but now by developing a program that implements the self-consistent Green's function method with a second order self energy. This is what is called the ADC(2) approximation scheme. In doing so you will find it convenient to write classes which define the single-particle basis and the Hamiltonian. One more, important, class will be needed to store the one-body propagator. Your functions that solve the ADC(3) will then just need to set up variables which point to interaction elements, single-particle states and Dyson states with their pertinent quantum numbers. Use for example the setup discussed in the FCI lectures for the pairing model.\n",
    "\n",
    "\n",
    "**a)**\n",
    "Write the diagrams for the self-energy at first and second order, using the Lehman representation for the latter and HF reference state. Write the first order diagrams also in terms of a fully dressed propagator.\n",
    "\n",
    "**b)**\n",
    "Set up the Dyson-ADC(2) equations and convince yourself about their meaning and correctness.\n",
    "\n",
    "**c)**\n",
    "Write a class that holds the one-body propagator in Lehman representation. In this, the Dyson orbits (or overlap functions) are expanded in terms of the basis exactly as for the HF equations above. However, you will need to handle\n",
    "a much larger number of orbits and their respective energies. You will also need to store particle and hole orbits separately.\n",
    " Using the results of your HF calculations above, build a simple HF propagator. This will be your reference state.\n",
    "\n",
    "**d)**\n",
    "Write a class which holds single-particle data like specific quantum numbers, single-particle Hamiltonian etc. Write also a class which sets up and stores two-body matrix elements defined by the single-particle states.\n",
    "\n",
    "**e)**\n",
    "Use the above classes to solve the ADC(2) euqatoions in the following three steps:\n",
    " * write the ADC(2) Dyson matrix\n",
    "\n",
    " * diagonalise it (with a Lapack or an eigensolver of your choice)\n",
    "\n",
    " * normalize the eigenvalues, separate them in hole and particle states, and store them in a new propagator object.\n",
    "\n",
    "**f)**\n",
    "Now you can use your ADC(2) code to have some fun:\n",
    "  * Plot the spectral functions for the HF (reference) propagator and the final (dressed) result. Compare them. This is the most fun part.  otherwise why should you write a SCGF code for?\n",
    "\n",
    "  * Use your solution (the dressed propagator) to recalculate the first order diagram and and implement a partial\n",
    "     self-consistency loop. See what changes.\n",
    "\n",
    "  * Use the Koltun sum rule to calculate the binding energy and compare your results with those from the exact diagonalization with and without the 4p4h excitation. Compare also your results to perturbation theory at different orders, in particular to second order. Discuss your results. If other students are solving the same problem using CCD theory, you can also compare your results with theirs.\n",
    "\n",
    "  * How do your results change by increasing the coupling $g$? When is ADC(2)  breaking down for this particular model?\n",
    "\n",
    " The aim is to finalize this part, up to point e), during the first week. The codes you will develop can be used as a starting point for the second part of the project. In the second part we will focus on infinite matter.\n",
    "\n",
    "\n",
    "<!-- --- end exercise --- -->\n",
    "\n",
    "\n",
    "\n",
    "\n",
    "<!-- --- begin exercise --- -->\n",
    "\n",
    "## Project 4: Coupled cluster calculations with doubles excitations only for infinite nuclear matter\n",
    "\n",
    "This project forms one possible final path for the remaining two weeks. It can also be extended in order to define the final project.  You should be able to use the program you developed in connection with the\n",
    "solution of the pairing model.\n",
    "\n",
    "\n",
    "**a)**\n",
    "Explain why we don't have single excitations in infinite matter.\n",
    "\n",
    "**b)**\n",
    "Set up the relavent quantum numbers for a cartesian basis with plane waves in three dimensions. Make the according changes to the code you developed in connection with the pairing model. Implement periodic boundary conditions.\n",
    "\n",
    "**c)**\n",
    "Replace the two-body interaction from the pairing model with the Minnesota potential model discussed during the [lectures](https://github.com/NuclearTalent/Course2ManyBodyMethods/blob/master/doc/pub/cc/pdf/Lectures1-2_TALENT_NuclearMatter_GH.pdf).\n",
    "\n",
    "**d)**\n",
    "Use the program you developed in connection with the pairing model to perform coupled cluster calculations in infinite matter with doubles excitations.\n",
    "Perform coupled cluster calculations for infinite nuclear matter with the Minnesota interaction for different particle numbers (to be inserted later).\n",
    "Limit yourself to two-particle and two-hole intermediate excitations only.\n",
    "\n",
    "**e)**\n",
    "Compare the two-particle only excitations with a finite number of particles with results obtained with Brueckner-Hartree-Fock calculations in the thermodynamic limit. Comment your results\n",
    "\n",
    "**f)**\n",
    "The final challenge is to include particle-hole excitations and\n",
    "compare the results with those from Diffusion Monte Carlo calculations\n",
    "discussed during the [lectures](https://github.com/NuclearTalent/Course2ManyBodyMethods/blob/master/doc/pub/cc/pdf/Lectures1-2_TALENT_NuclearMatter_GH.pdf).\n",
    "This part can be included in the final project.\n",
    "\n",
    "\n",
    "<!-- --- end exercise --- -->\n",
    "\n",
    "\n",
    "\n",
    "\n",
    "<!-- --- begin exercise --- -->\n",
    "\n",
    "## Project 5: Green's function calculations for finite nuclei and infinite nuclear matter\n",
    "\n",
    "The hard work in learning how to deal with SCGF was done in Project 2. Now, we make it fancy and extend it to some more real systems rather than a simple pairing model. This can be done very similarly either for finite nuclei or for infinite nuclear matter. However, you should choose only one this two paths and focus only on that: it is already a lot of work doing one. We will do this at the ADC(2) level and toward the end of the project we will consider an extended version of it to make useful comparison with the Brueckner-HF and CCD calculations done by others.\n",
    "\n",
    "Either of the two path of this project forms one possible final path for the remaining two weeks. It can also be extended in order to define the final project. You should be able to use the program you developed in connection with the solution of the pairing model.\n",
    "\n",
    "\n",
    "**a)**\n",
    "Explain why we don't have single excitations in infinite matter.\n",
    "\n",
    "**b)**\n",
    "Set up the relavent quantum numbers for your problem:\n",
    " 1. For FN:  use and harmonic oscillator basis in m-scheme\n",
    "\n",
    " 2. for INM: use a cartesian basis with plane waves in three dimensions and implement periodic boundary conditions.\n",
    "\n",
    "In both cases, make the according changes to the code you developed in connection with the pairing model.\n",
    "\n",
    "**c)**\n",
    "Replace the two-body interaction from the pairing model with the Minnesota potential model discussed during the lectures (functions for matrix elements in harmonic oscillator basis will be provided).\n",
    "\n",
    "**d)**\n",
    "Use the program you developed in connection with the pairing model to perform SCGF calculations at second order. Perform calculations with the Minnesota interaction as follows:\n",
    "\n",
    " 1. for finite nuclei chose closed shell systems (He4, C12, O16)\n",
    "\n",
    "  ofor infinite nuclear matter chose different particle numbers (to be inserted later).\n",
    "\n",
    "At this point, limit yourself to the ADC(2) scheme only.\n",
    "\n",
    "**e)**\n",
    "Add the two-particle interactions to the 2p1h sector of the Dyson-ADC(2) matrix and suppress the 2h1p sector: this\n",
    "should lead you to an approximation equivalent to the Brueckner-Hartree-Fock scheme. Compare your results obtained with\n",
    "those obetain in CCD with only twp-particle intermediate excitations. If you are doing infinite matter, compare to the  Brueckner-Hartree-Fock calculations in the thermodynamic limit (from project 6). Comment your results.\n",
    "\n",
    "**f)**\n",
    "The final challenge is to keep both the 2p1h and the 2h1p sectors and fill the ADC(n) matrix with all the two-particle, the two-hole, and the particle-hole interactions.  This last change results in the so called 'Extended ADC(2)' approximation scheme. Investigate the effects that pp, hh and ph correlations.\n",
    "This part can be included in the final project. And if you already got all the way to point e), this last part should be a relatively easy improvement to make!\n",
    "\n",
    "**g)**\n",
    "Are you felling particularly ambitious? One can further modify the code by adding the missing 3rd order terms to the couplings between the single particle sector and the 2p1h/2h1p sectors. This will give you a full blown ADC(3) calculation. Study the effects of this last change on the energy of the main quasiparticle peaks.  chemist need this to obtain correct ionization potentials and affinities.\n",
    "\n",
    "<!-- --- end exercise --- -->\n",
    "\n",
    "\n",
    "\n",
    "\n",
    "<!-- --- begin exercise --- -->\n",
    "\n",
    "## Project 6: Brueckner-Hartree-Fock calculations for infinite nuclear and neutron matter\n",
    "\n",
    "\n",
    "**a)**\n",
    "We will use  the simple Minnesota model discussed during the [lectures](https://github.com/NuclearTalent/Course2ManyBodyMethods/blob/master/doc/pub/cc/pdf/Lectures1-2_TALENT_NuclearMatter_GH.pdf). This will allow us to make detailed comparisons  with the Coupled cluster and the Green's function calculations. The first part deals with setting up the real and imaginary part of $T$-matrix in free space using a partial wave decomposition. You will need to define integration points and weights in momentum space and treat properly the poles which arise. With a working program, compute the relevant phase shifts. Extract also the scattering lengths for $s$ waves (orbital momentum $l=0$).\n",
    "\n",
    "\n",
    "<!-- --- begin solution of exercise --- -->\n",
    "**Solution.**\n",
    "For scattering states, the energy is positive, $E>0$.\n",
    "The Lippman-Schwinger equation (a rewrite of the Schroedinger equation)\n",
    "is an integral equation\n",
    "where we have to deal with the amplitude\n",
    "$R(k,k')$ (reaction matrix, which is the real part of  the full\n",
    "complex $T$-matrix)\n",
    "defined through the integral equation for one partial wave (no coupled-channels)"
   ]
  },
  {
   "cell_type": "markdown",
   "metadata": {},
   "source": [
    "<!-- Equation labels as ordinary links -->\n",
    "<div id=\"eq:ls1\"></div>\n",
    "\n",
    "$$\n",
    "\\begin{equation}\n",
    "    R_l(k,k') = V_l(k,k') +\\frac{2}{\\pi}{\\cal P}\n",
    "                \\int_0^{\\infty}dqq^2V_l(k,q)\\frac{1}{E-q^2/m}R_l(q,k').\n",
    "   \\label{eq:ls1} \\tag{1}\n",
    "\\end{equation}\n",
    "$$"
   ]
  },
  {
   "cell_type": "markdown",
   "metadata": {},
   "source": [
    "For negative energies (bound states) and intermediate states scattering states blocked\n",
    "by  occupied states below the Fermi level.\n",
    "\n",
    "The symbol ${\\cal P}$ indicates that Cauchy's principal-value prescription\n",
    "is used in order to avoid the singularity arising from the zero of the denominator.\n",
    "\n",
    "\n",
    "The total kinetic energy of the two\n",
    "incoming particles in the center-of-mass system\n",
    "is"
   ]
  },
  {
   "cell_type": "markdown",
   "metadata": {},
   "source": [
    "$$\n",
    "E=\\frac{k_0^2}{m_n}.\n",
    "$$"
   ]
  },
  {
   "cell_type": "markdown",
   "metadata": {},
   "source": [
    "The matrix $R_l(k,k')$ relates to the\n",
    "the  phase shifts through its diagonal elements as"
   ]
  },
  {
   "cell_type": "markdown",
   "metadata": {},
   "source": [
    "<!-- Equation labels as ordinary links -->\n",
    "<div id=\"eq:shifts\"></div>\n",
    "\n",
    "$$\n",
    "\\begin{equation}\n",
    "     R_l(k_0,k_0)=-\\frac{tan\\delta_l}{mk_0}.\n",
    "     \\label{eq:shifts} \\tag{2}\n",
    "\\end{equation}\n",
    "$$"
   ]
  },
  {
   "cell_type": "markdown",
   "metadata": {},
   "source": [
    "In order to solve the Lippman-Schwinger equation\n",
    "in momentum space, we need first to write\n",
    "a function which sets up the mesh points.\n",
    "We need to do that since we are going to approximate an integral\n",
    "through"
   ]
  },
  {
   "cell_type": "markdown",
   "metadata": {},
   "source": [
    "$$\n",
    "\\int_a^bf(x)dx\\approx\\sum_{i=1}^Nw_if(x_i),\n",
    "$$"
   ]
  },
  {
   "cell_type": "markdown",
   "metadata": {},
   "source": [
    "where we have fixed $N$ lattice points through the corresponding weights\n",
    "$w_i$ and points $x_i$. Typically obtained via methods like Gaussian quadrature.\n",
    "\n",
    "If you use Gauss-Legendre the points are determined for the interval $x_i\\in [-1,1]$\n",
    "You map these points over to the limits in your integral. You can then\n",
    "use the following mapping"
   ]
  },
  {
   "cell_type": "markdown",
   "metadata": {},
   "source": [
    "$$\n",
    "k_i=const\\times tan\\left\\{\\frac{\\pi}{4}(1+x_i)\\right\\},\n",
    "$$"
   ]
  },
  {
   "cell_type": "markdown",
   "metadata": {},
   "source": [
    "and"
   ]
  },
  {
   "cell_type": "markdown",
   "metadata": {},
   "source": [
    "$$\n",
    "\\omega_i= const\\frac{\\pi}{4}\\frac{w_i}{cos^2\\left(\\frac{\\pi}{4}(1+x_i)\\right)}.\n",
    "$$"
   ]
  },
  {
   "cell_type": "markdown",
   "metadata": {},
   "source": [
    "If you choose units fm$^{-1}$ for $k$, set $const=1$. If you choose to work\n",
    "with MeV, set $const\\sim 200$ ($\\hbar c=197$ MeVfm).\n",
    "\n",
    "The principal value integral is rather tricky\n",
    "to evaluate numerically, mainly since computers have limited\n",
    "precision. We will here use a subtraction trick often used\n",
    "when dealing with singular integrals in numerical calculations.\n",
    "We introduce first the calculus relation"
   ]
  },
  {
   "cell_type": "markdown",
   "metadata": {},
   "source": [
    "$$\n",
    "\\int_{-\\infty}^{\\infty} \\frac{dk}{k-k_0} =0.\n",
    "$$"
   ]
  },
  {
   "cell_type": "markdown",
   "metadata": {},
   "source": [
    "It means that the curve $1/(k-k_0)$ has equal and opposite\n",
    "areas on both sides of the singular point $k_0$. If we break\n",
    "the integral into one over positive $k$ and one over\n",
    "negative $k$, a change of variable $k\\rightarrow -k$\n",
    "allows us to rewrite the last equation as"
   ]
  },
  {
   "cell_type": "markdown",
   "metadata": {},
   "source": [
    "$$\n",
    "\\int_{0}^{\\infty} \\frac{dk}{k^2-k_0^2} =0.\n",
    "$$"
   ]
  },
  {
   "cell_type": "markdown",
   "metadata": {},
   "source": [
    "We can then express a principal values integral\n",
    "as"
   ]
  },
  {
   "cell_type": "markdown",
   "metadata": {},
   "source": [
    "<!-- Equation labels as ordinary links -->\n",
    "<div id=\"eq:trick\"></div>\n",
    "\n",
    "$$\n",
    "\\begin{equation}\n",
    "  {\\cal P}\\int_{0}^{\\infty} \\frac{f(k)dk}{k^2-k_0^2} =\n",
    "  \\int_{0}^{\\infty} \\frac{(f(k)-f(k_0))dk}{k^2-k_0^2},\n",
    "   \\label{eq:trick} \\tag{3}\n",
    "\\end{equation}\n",
    "$$"
   ]
  },
  {
   "cell_type": "markdown",
   "metadata": {},
   "source": [
    "where the right-hand side is no longer singular at\n",
    "$k=k_0$, it is proportional to the derivative $df/dk$,\n",
    "and can be evaluated numerically as any other integral.\n",
    "\n",
    "\n",
    "We can then use this trick to obtain"
   ]
  },
  {
   "cell_type": "markdown",
   "metadata": {},
   "source": [
    "<!-- Equation labels as ordinary links -->\n",
    "<div id=\"eq:ls2\"></div>\n",
    "\n",
    "$$\n",
    "\\begin{equation}\n",
    "    R(k,k') = V(k,k') +\\frac{2}{\\pi}\n",
    "                \\int_0^{\\infty}dq\n",
    "                \\frac{q^2V(k,q)R(q,k')-k_0^2V(k,k_0)R(k_0,k')  }\n",
    "                     {(k_0^2-q^2)/m}.\n",
    "   \\label{eq:ls2} \\tag{4}\n",
    "\\end{equation}\n",
    "$$"
   ]
  },
  {
   "cell_type": "markdown",
   "metadata": {},
   "source": [
    "This is the equation to solve numerically in order\n",
    "to calculate the phase shifts. We are interested in obtaining\n",
    "$R(k_0,k_0)$.\n",
    "\n",
    "How do we proceed?\n",
    "\n",
    "Using the mesh points $k_j$ and the weights $\\omega_j$, we reach"
   ]
  },
  {
   "cell_type": "markdown",
   "metadata": {},
   "source": [
    "$$\n",
    "R(k,k') = V(k,k') +\\frac{2}{\\pi}\n",
    "          \\sum_{j=1}^N\\frac{\\omega_jk_j^2V(k,k_j)R(k_j,k')}\n",
    "                           {(k_0^2-k_j^2)/m}\n",
    "           -\\frac{2}{\\pi}k_0^2V(k,k_0)R(k_0,k')\n",
    "          \\sum_{n=1}^N\\frac{\\omega_n}\n",
    "                           {(k_0^2-k_n^2)/m}.\n",
    "$$"
   ]
  },
  {
   "cell_type": "markdown",
   "metadata": {},
   "source": [
    "This equation contains now the unknowns $R(k_i,k_j)$\n",
    "(with dimension $N\\times N$) and $R(k_0,k_0)$.\n",
    "\n",
    "We can turn it into an equation\n",
    "with dimension $(N+1)\\times (N+1)$ with  a mesh\n",
    "which contains the original mesh points $k_j$ for $j=1,N$\n",
    "and the point which corresponds to the energy $k_0$.\n",
    "Consider the latter as the 'observable' point.\n",
    "The mesh points become then $k_j$ for $j=1,n$ and\n",
    "$k_{N+1}=k_0$.\n",
    "\n",
    "With these new mesh points we define the matrix"
   ]
  },
  {
   "cell_type": "markdown",
   "metadata": {},
   "source": [
    "<!-- Equation labels as ordinary links -->\n",
    "<div id=\"eq:aeq\"></div>\n",
    "\n",
    "$$\n",
    "\\begin{equation}\n",
    "      A_{i,j}=\\delta_{i,j}-V(k_i,k_j)u_j,\n",
    "      \\label{eq:aeq} \\tag{5}\n",
    "\\end{equation}\n",
    "$$"
   ]
  },
  {
   "cell_type": "markdown",
   "metadata": {},
   "source": [
    "where $\\delta$ is the Kronecker $\\delta$\n",
    "and"
   ]
  },
  {
   "cell_type": "markdown",
   "metadata": {},
   "source": [
    "$$\n",
    "u_j=\\frac{2}{\\pi}\\frac{\\omega_jk_j^2}{(k_0^2-k_j^2)/m}\\hspace{1cm} j=1,N\n",
    "$$"
   ]
  },
  {
   "cell_type": "markdown",
   "metadata": {},
   "source": [
    "and"
   ]
  },
  {
   "cell_type": "markdown",
   "metadata": {},
   "source": [
    "$$\n",
    "u_{N+1}=-\\frac{2}{\\pi}\\sum_{j=1}^N\\frac{k_0^2\\omega_j}{(k_0^2-k_j^2)/m}.\n",
    "$$"
   ]
  },
  {
   "cell_type": "markdown",
   "metadata": {},
   "source": [
    "The first task is then to\n",
    "set up the matrix $A$ for a given $k_0$. This is an\n",
    "$(N+1)\\times (N+1)$ matrix. It can be convenient\n",
    "to have an outer loop which runs over the chosen\n",
    "observable values for the energy $k_0^2/m$.\n",
    "*Note that all mesh points $k_j$ for $j=1,N$ must be different from $k_0$. Note also that $V(k_i,k_j)$ is an $(N+1)\\times (N+1)$ matrix*.\n",
    "\n",
    "With the matrix $A$ we can rewrite the problem as a matrix problem of dimension $(N+1)\\times (N+1)$.\n",
    "All matrices $R$, $A$ and $V$ have this dimension and we get"
   ]
  },
  {
   "cell_type": "markdown",
   "metadata": {},
   "source": [
    "$$\n",
    "A_{i,l}R_{l,j}=V_{i,j},\n",
    "$$"
   ]
  },
  {
   "cell_type": "markdown",
   "metadata": {},
   "source": [
    "or just"
   ]
  },
  {
   "cell_type": "markdown",
   "metadata": {},
   "source": [
    "$$\n",
    "AR=V.\n",
    "$$"
   ]
  },
  {
   "cell_type": "markdown",
   "metadata": {},
   "source": [
    "Since you already have defined $A$ and $V$\n",
    "(these are stored as $(N+1)\\times (N+1)$ matrices)\n",
    "The final equation involves only the unknown\n",
    "$R$. We obtain it by matrix inversion, i.e.,"
   ]
  },
  {
   "cell_type": "markdown",
   "metadata": {},
   "source": [
    "<!-- Equation labels as ordinary links -->\n",
    "<div id=\"eq:final2\"></div>\n",
    "\n",
    "$$\n",
    "\\begin{equation}\n",
    "    R=A^{-1}V.\n",
    "    \\label{eq:final2} \\tag{6}\n",
    "\\end{equation}\n",
    "$$"
   ]
  },
  {
   "cell_type": "markdown",
   "metadata": {},
   "source": [
    "Thus, to obtain $R$, you will need to set up the matrices\n",
    "$A$ and $V$ and invert the matrix $A$.\n",
    "With the inverse $A^{-1}$, perform\n",
    "a matrix multiplication with $V$ results in $R$.\n",
    "\n",
    "With $R$ you can then evaluate the phase shifts\n",
    "by noting that"
   ]
  },
  {
   "cell_type": "markdown",
   "metadata": {},
   "source": [
    "$$\n",
    "R(k_{N+1},k_{N+1})=R(k_0,k_0)=-\\frac{tan\\delta}{mk_0},\n",
    "$$"
   ]
  },
  {
   "cell_type": "markdown",
   "metadata": {},
   "source": [
    "where $\\delta$ are the phase shifts.\n",
    "\n",
    "<!-- --- end solution of exercise --- -->\n",
    "\n",
    "**b)**\n",
    "Our next step consists in modifying the above program in order to include medium effects.\n",
    "Rewrite the $T$-matrix program by introducing a so-called angle-average Pauli operator\n",
    "and corresponding energy denominators. This results in the so-called $G$-matrix.\n",
    "Allow for the inclusion of single-particle self-energy contributions in the $G$-matrix energy denominators. Compute both the real and imaginary parts of the $G$-matrix and set up the self-consistency problem and compute the ground state energy per particle in the thermodynamical limit.\n",
    "\n",
    "Compare your results with those obtained with Coupled Cluster theory\n",
    "and Green's function theory with a cartesian basis\n",
    "\n",
    "\n",
    "**c)**\n",
    "In the final part of this project we are going to extend the formalism to finite temperature.\n",
    "Use the normalization condition of the density from the Fermi-Dirac momentum distribution\n",
    "to calculate the chemical potential in the medium. Compute thereafter the equation of state\n",
    "as function of temperature and discuss thermodynamical self-consistency requirements.\n",
    "\n",
    "<!-- --- end exercise --- -->"
   ]
  }
 ],
 "metadata": {
  "kernelspec": {
   "display_name": "Python 2",
   "language": "python",
   "name": "python2"
  },
  "language_info": {
   "codemirror_mode": {
    "name": "ipython",
    "version": 2
   },
   "file_extension": ".py",
   "mimetype": "text/x-python",
   "name": "python",
   "nbconvert_exporter": "python",
   "pygments_lexer": "ipython2",
   "version": "2.7.10"
  }
 },
 "nbformat": 4,
 "nbformat_minor": 0
}
