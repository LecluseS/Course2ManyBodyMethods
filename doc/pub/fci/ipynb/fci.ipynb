{
 "metadata": {},
 "nbformat": 3,
 "nbformat_minor": 0,
 "worksheets": [
  {
   "cells": [
    {
     "cell_type": "markdown",
     "metadata": {},
     "source": [
      "<!-- Slides for PHY981 -->\n",
      "# Nuclear Shell Model\n",
      "**July 6-24 2015**\n",
      "\n",
      "### Slater determinants as basis states\n",
      "\n",
      "The simplest possible choice for many-body wavefunctions are **product** wavefunctions.\n",
      "That is"
     ]
    },
    {
     "cell_type": "markdown",
     "metadata": {},
     "source": [
      "$$\n",
      "\\Psi(x_1, x_2, x_3, \\ldots, x_A) \\approx \\phi_1(x_1) \\phi_2(x_2) \\phi_3(x_3) \\ldots\n",
      "$$"
     ]
    },
    {
     "cell_type": "markdown",
     "metadata": {},
     "source": [
      "because we are really only good  at thinking about one particle at a time. Such \n",
      "product wavefunctions, without correlations, are easy to \n",
      "work with; for example, if the single-particle states $\\phi_i(x)$ are orthonormal, then \n",
      "the product wavefunctions are easy to orthonormalize.   \n",
      "\n",
      "Similarly, computing matrix elements of operators are relatively easy, because the \n",
      "integrals factorize.\n",
      "\n",
      "\n",
      "The price we pay is the lack of correlations, which we must build up by using many, many product \n",
      "wavefunctions.\n",
      "\n",
      "\n",
      "Because we have fermions, we are required to have antisymmetric wavefunctions, that is"
     ]
    },
    {
     "cell_type": "markdown",
     "metadata": {},
     "source": [
      "$$\n",
      "\\Psi(x_1, x_2, x_3, \\ldots, x_A) = - \\Psi(x_2, x_1, x_3, \\ldots, x_A)\n",
      "$$"
     ]
    },
    {
     "cell_type": "markdown",
     "metadata": {},
     "source": [
      "etc. This is accomplished formally by using the determinantal formalism"
     ]
    },
    {
     "cell_type": "markdown",
     "metadata": {},
     "source": [
      "$$\n",
      "\\Psi(x_1, x_2, \\ldots, x_A) \n",
      "= \\frac{1}{\\sqrt{A!}} \n",
      "\\det \\left | \n",
      "\\begin{array}{cccc}\n",
      "\\phi_1(x_1) & \\phi_1(x_2) & \\ldots & \\phi_1(x_A) \\\\\n",
      "\\phi_2(x_1) & \\phi_2(x_2) & \\ldots & \\phi_2(x_A) \\\\\n",
      " \\vdots & & &  \\\\\n",
      "\\phi_A(x_1) & \\phi_A(x_2) & \\ldots & \\phi_A(x_A) \n",
      "\\end{array}\n",
      "\\right |\n",
      "$$"
     ]
    },
    {
     "cell_type": "markdown",
     "metadata": {},
     "source": [
      "Product wavefunction + antisymmetry (Pauli principle) = Slater determinant. \n",
      "\n",
      "\n",
      "Properties of the determinant (interchange of any two rows or \n",
      "any two columns yields a change in sign; thus no two rows and no \n",
      "two columns can be the same) lead to the following consequence of the Pauli principle:\n",
      "\n",
      "* No two particles can be at the same place (two columns the same); and\n",
      "\n",
      "* No two particles can be in the same state (two rows the same).\n",
      "\n",
      "As a practical matter, however, Slater determinants beyond $N=4$ quickly become \n",
      "unwieldy. Thus we turn to the **occupation representation** or **second quantization** to simplify calculations. \n",
      "\n",
      "The occupation representation, using fermion **creation** and **annihilation** \n",
      "operators, is compact and efficient. It is also abstract and, at first encounter, not easy to \n",
      "internalize. It is inspired by other operator formalism, such as the ladder operators for \n",
      "the harmonic oscillator or for angular momentum, but unlike those cases, the operators **do not have coordinate space representations**.\n",
      "\n",
      "Instead, one can think of fermion creation/annihilation operators as a game of symbols that \n",
      "compactly reproduces what one would do, albeit clumsily, with full coordinate-space Slater \n",
      "determinants. \n",
      "\n",
      "\n",
      "\n",
      "We start with a set of orthonormal single-particle states $\\{ \\phi_i(x) \\}$. \n",
      "(Note: this requirement, and others, can be relaxed, but leads to a \n",
      "more involved formalism.) **Any** orthonormal set will do. \n",
      "\n",
      "To each single-particle state $\\phi_i(x)$ we associate a creation operator \n",
      "$\\hat{a}^\\dagger_i$ and an annihilation operator $\\hat{a}_i$. \n",
      "\n",
      "When acting on the vacuum state $| 0 \\rangle$, the creation operator $\\hat{a}^\\dagger_i$ causes \n",
      "a particle to occupy the single-particle state $\\phi_i(x)$:"
     ]
    },
    {
     "cell_type": "markdown",
     "metadata": {},
     "source": [
      "$$\n",
      "\\phi_i(x) \\rightarrow \\hat{a}^\\dagger_i |0 \\rangle\n",
      "$$"
     ]
    },
    {
     "cell_type": "markdown",
     "metadata": {},
     "source": [
      "But with multiple creation operators we can occupy multiple states:"
     ]
    },
    {
     "cell_type": "markdown",
     "metadata": {},
     "source": [
      "$$\n",
      "\\phi_i(x) \\phi_j(x^\\prime) \\phi_k(x^{\\prime \\prime}) \n",
      "\\rightarrow \\hat{a}^\\dagger_i \\hat{a}^\\dagger_j \\hat{a}^\\dagger_k |0 \\rangle.\n",
      "$$"
     ]
    },
    {
     "cell_type": "markdown",
     "metadata": {},
     "source": [
      "Now we impose antisymmetry, by having the fermion operators satisfy  **anticommutation relations**:"
     ]
    },
    {
     "cell_type": "markdown",
     "metadata": {},
     "source": [
      "$$\n",
      "\\hat{a}^\\dagger_i \\hat{a}^\\dagger_j + \\hat{a}^\\dagger_j \\hat{a}^\\dagger_i\n",
      "= [ \\hat{a}^\\dagger_i ,\\hat{a}^\\dagger_j ]_+ \n",
      "= \\{ \\hat{a}^\\dagger_i ,\\hat{a}^\\dagger_j \\} = 0\n",
      "$$"
     ]
    },
    {
     "cell_type": "markdown",
     "metadata": {},
     "source": [
      "so that"
     ]
    },
    {
     "cell_type": "markdown",
     "metadata": {},
     "source": [
      "$$\n",
      "\\hat{a}^\\dagger_i \\hat{a}^\\dagger_j = - \\hat{a}^\\dagger_j \\hat{a}^\\dagger_i\n",
      "$$"
     ]
    },
    {
     "cell_type": "markdown",
     "metadata": {},
     "source": [
      "Because of this property, automatically $\\hat{a}^\\dagger_i \\hat{a}^\\dagger_i = 0$, \n",
      "enforcing the Pauli exclusion principle.  Thus when writing a Slater determinant \n",
      "using creation operators,"
     ]
    },
    {
     "cell_type": "markdown",
     "metadata": {},
     "source": [
      "$$\n",
      "\\hat{a}^\\dagger_i \\hat{a}^\\dagger_j \\hat{a}^\\dagger_k \\ldots |0 \\rangle\n",
      "$$"
     ]
    },
    {
     "cell_type": "markdown",
     "metadata": {},
     "source": [
      "each index $i,j,k, \\ldots$ must be unique.\n",
      "\n",
      "\n",
      "\n",
      "\n",
      "### Full Configuration Interaction Theory\n",
      "\n",
      "We have defined the ansatz for the ground state as"
     ]
    },
    {
     "cell_type": "markdown",
     "metadata": {},
     "source": [
      "$$\n",
      "|\\Phi_0\\rangle = \\left(\\prod_{i\\le F}\\hat{a}_{i}^{\\dagger}\\right)|0\\rangle,\n",
      "$$"
     ]
    },
    {
     "cell_type": "markdown",
     "metadata": {},
     "source": [
      "where the index $i$ defines different single-particle states up to the Fermi level. We have assumed that we have $N$ fermions. \n",
      "A given one-particle-one-hole ($1p1h$) state can be written as"
     ]
    },
    {
     "cell_type": "markdown",
     "metadata": {},
     "source": [
      "$$\n",
      "|\\Phi_i^a\\rangle = \\hat{a}_{a}^{\\dagger}\\hat{a}_i|\\Phi_0\\rangle,\n",
      "$$"
     ]
    },
    {
     "cell_type": "markdown",
     "metadata": {},
     "source": [
      "while a $2p2h$ state can be written as"
     ]
    },
    {
     "cell_type": "markdown",
     "metadata": {},
     "source": [
      "$$\n",
      "|\\Phi_{ij}^{ab}\\rangle = \\hat{a}_{a}^{\\dagger}\\hat{a}_{b}^{\\dagger}\\hat{a}_j\\hat{a}_i|\\Phi_0\\rangle,\n",
      "$$"
     ]
    },
    {
     "cell_type": "markdown",
     "metadata": {},
     "source": [
      "and a general $ApAh$ state as"
     ]
    },
    {
     "cell_type": "markdown",
     "metadata": {},
     "source": [
      "$$\n",
      "|\\Phi_{ijk\\dots}^{abc\\dots}\\rangle = \\hat{a}_{a}^{\\dagger}\\hat{a}_{b}^{\\dagger}\\hat{a}_{c}^{\\dagger}\\dots\\hat{a}_k\\hat{a}_j\\hat{a}_i|\\Phi_0\\rangle.\n",
      "$$"
     ]
    },
    {
     "cell_type": "markdown",
     "metadata": {},
     "source": [
      "We use letters $ijkl\\dots$ for states below the Fermi level and $abcd\\dots$ for states above the Fermi level. A general single-particle state is given by letters $pqrs\\dots$.\n",
      "\n",
      "We can then expand our exact state function for the ground state \n",
      "as"
     ]
    },
    {
     "cell_type": "markdown",
     "metadata": {},
     "source": [
      "$$\n",
      "|\\Psi_0\\rangle=C_0|\\Phi_0\\rangle+\\sum_{ai}C_i^a|\\Phi_i^a\\rangle+\\sum_{abij}C_{ij}^{ab}|\\Phi_{ij}^{ab}\\rangle+\\dots\n",
      "=(C_0+\\hat{C})|\\Phi_0\\rangle,\n",
      "$$"
     ]
    },
    {
     "cell_type": "markdown",
     "metadata": {},
     "source": [
      "where we have introduced the so-called correlation operator"
     ]
    },
    {
     "cell_type": "markdown",
     "metadata": {},
     "source": [
      "$$\n",
      "\\hat{C}=\\sum_{ai}C_i^a\\hat{a}_{a}^{\\dagger}\\hat{a}_i  +\\sum_{abij}C_{ij}^{ab}\\hat{a}_{a}^{\\dagger}\\hat{a}_{b}^{\\dagger}\\hat{a}_j\\hat{a}_i+\\dots\n",
      "$$"
     ]
    },
    {
     "cell_type": "markdown",
     "metadata": {},
     "source": [
      "Since the normalization of $\\Psi_0$ is at our disposal and since $C_0$ is by hypothesis non-zero, we may arbitrarily set $C_0=1$ with \n",
      "corresponding proportional changes in all other coefficients. Using this so-called intermediate normalization we have"
     ]
    },
    {
     "cell_type": "markdown",
     "metadata": {},
     "source": [
      "$$\n",
      "\\langle \\Psi_0 | \\Phi_0 \\rangle = \\langle \\Phi_0 | \\Phi_0 \\rangle = 1,\n",
      "$$"
     ]
    },
    {
     "cell_type": "markdown",
     "metadata": {},
     "source": [
      "resulting in"
     ]
    },
    {
     "cell_type": "markdown",
     "metadata": {},
     "source": [
      "$$\n",
      "|\\Psi_0\\rangle=(1+\\hat{C})|\\Phi_0\\rangle.\n",
      "$$"
     ]
    },
    {
     "cell_type": "markdown",
     "metadata": {},
     "source": [
      "We rewrite"
     ]
    },
    {
     "cell_type": "markdown",
     "metadata": {},
     "source": [
      "$$\n",
      "|\\Psi_0\\rangle=C_0|\\Phi_0\\rangle+\\sum_{ai}C_i^a|\\Phi_i^a\\rangle+\\sum_{abij}C_{ij}^{ab}|\\Phi_{ij}^{ab}\\rangle+\\dots,\n",
      "$$"
     ]
    },
    {
     "cell_type": "markdown",
     "metadata": {},
     "source": [
      "in a more compact form as"
     ]
    },
    {
     "cell_type": "markdown",
     "metadata": {},
     "source": [
      "$$\n",
      "|\\Psi_0\\rangle=\\sum_{PH}C_H^P\\Phi_H^P=\\left(\\sum_{PH}C_H^P\\hat{A}_H^P\\right)|\\Phi_0\\rangle,\n",
      "$$"
     ]
    },
    {
     "cell_type": "markdown",
     "metadata": {},
     "source": [
      "where $H$ stands for $0,1,\\dots,n$ hole states and $P$ for $0,1,\\dots,n$ particle states. \n",
      "Our requirement of unit normalization gives"
     ]
    },
    {
     "cell_type": "markdown",
     "metadata": {},
     "source": [
      "$$\n",
      "\\langle \\Psi_0 | \\Psi_0 \\rangle = \\sum_{PH}|C_H^P|^2= 1,\n",
      "$$"
     ]
    },
    {
     "cell_type": "markdown",
     "metadata": {},
     "source": [
      "and the energy can be written as"
     ]
    },
    {
     "cell_type": "markdown",
     "metadata": {},
     "source": [
      "$$\n",
      "E= \\langle \\Psi_0 | \\hat{H} |\\Psi_0 \\rangle= \\sum_{PP'HH'}C_H^{*P}\\langle \\Phi_H^P | \\hat{H} |\\Phi_{H'}^{P'} \\rangle C_{H'}^{P'}.\n",
      "$$"
     ]
    },
    {
     "cell_type": "markdown",
     "metadata": {},
     "source": [
      "Normally"
     ]
    },
    {
     "cell_type": "markdown",
     "metadata": {},
     "source": [
      "$$\n",
      "E= \\langle \\Psi_0 | \\hat{H} |\\Psi_0 \\rangle= \\sum_{PP'HH'}C_H^{*P}\\langle \\Phi_H^P | \\hat{H} |\\Phi_{H'}^{P'} \\rangle C_{H'}^{P'},\n",
      "$$"
     ]
    },
    {
     "cell_type": "markdown",
     "metadata": {},
     "source": [
      "is solved by diagonalization setting up the Hamiltonian matrix defined by the basis of all possible Slater determinants. A diagonalization\n",
      "is equivalent to finding the variational minimum   of"
     ]
    },
    {
     "cell_type": "markdown",
     "metadata": {},
     "source": [
      "$$\n",
      "\\langle \\Psi_0 | \\hat{H} |\\Psi_0 \\rangle-\\lambda \\langle \\Psi_0 |\\Psi_0 \\rangle,\n",
      "$$"
     ]
    },
    {
     "cell_type": "markdown",
     "metadata": {},
     "source": [
      "where $\\lambda$ is a variational multiplier to be identified with the energy of the system.\n",
      "\n",
      "The minimization process results in"
     ]
    },
    {
     "cell_type": "markdown",
     "metadata": {},
     "source": [
      "2\n",
      "2\n",
      " \n",
      "<\n",
      "<\n",
      "<\n",
      "!\n",
      "!\n",
      "M\n",
      "A\n",
      "T\n",
      "H\n",
      "_\n",
      "B\n",
      "L\n",
      "O\n",
      "C\n",
      "K"
     ]
    },
    {
     "cell_type": "markdown",
     "metadata": {},
     "source": [
      "$$\n",
      "\\sum_{P'H'}\\left\\{\\delta[C_H^{*P}]\\langle \\Phi_H^P | \\hat{H} |\\Phi_{H'}^{P'} \\rangle C_{H'}^{P'}+\n",
      "C_H^{*P}\\langle \\Phi_H^P | \\hat{H} |\\Phi_{H'}^{P'} \\rangle \\delta[C_{H'}^{P'}]-\n",
      "\\lambda( \\delta[C_H^{*P}]C_{H'}^{P'}+C_H^{*P}\\delta[C_{H'}^{P'}]\\right\\} = 0.\n",
      "$$"
     ]
    },
    {
     "cell_type": "markdown",
     "metadata": {},
     "source": [
      "Since the coefficients $\\delta[C_H^{*P}]$ and $\\delta[C_{H'}^{P'}]$ are complex conjugates it is necessary and sufficient to require the quantities that multiply with $\\delta[C_H^{*P}]$ to vanish.  \n",
      "\n",
      "This leads to"
     ]
    },
    {
     "cell_type": "markdown",
     "metadata": {},
     "source": [
      "$$\n",
      "\\sum_{P'H'}\\langle \\Phi_H^P | \\hat{H} |\\Phi_{H'}^{P'} \\rangle C_{H'}^{P'}-\\lambda C_H^{P}=0,\n",
      "$$"
     ]
    },
    {
     "cell_type": "markdown",
     "metadata": {},
     "source": [
      "for all sets of $P$ and $H$.\n",
      "\n",
      "If we then multiply by the corresponding $C_H^{*P}$ and sum over $PH$ we obtain"
     ]
    },
    {
     "cell_type": "markdown",
     "metadata": {},
     "source": [
      "$$\n",
      "\\sum_{PP'HH'}C_H^{*P}\\langle \\Phi_H^P | \\hat{H} |\\Phi_{H'}^{P'} \\rangle C_{H'}^{P'}-\\lambda\\sum_{PH}|C_H^P|^2=0,\n",
      "$$"
     ]
    },
    {
     "cell_type": "markdown",
     "metadata": {},
     "source": [
      "leading to the identification $\\lambda = E$. This means that we have for all $PH$ sets"
     ]
    },
    {
     "cell_type": "markdown",
     "metadata": {},
     "source": [
      "<!-- Equation labels as ordinary links -->\n",
      "<div id=\"eq:fullci\"></div>\n",
      "\n",
      "$$\n",
      "\\begin{equation}\n",
      "\\sum_{P'H'}\\langle \\Phi_H^P | \\hat{H} -E|\\Phi_{H'}^{P'} \\rangle = 0. \\label{eq:fullci} \\tag{1}\n",
      "\\end{equation}\n",
      "$$"
     ]
    },
    {
     "cell_type": "markdown",
     "metadata": {},
     "source": [
      "An alternative way to derive the last equation is to start from"
     ]
    },
    {
     "cell_type": "markdown",
     "metadata": {},
     "source": [
      "$$\n",
      "(\\hat{H} -E)|\\Psi_0\\rangle = (\\hat{H} -E)\\sum_{P'H'}C_{H'}^{P'}|\\Phi_{H'}^{P'} \\rangle=0,\n",
      "$$"
     ]
    },
    {
     "cell_type": "markdown",
     "metadata": {},
     "source": [
      "and if this equation is successively projected against all $\\Phi_H^P$ in the expansion of $\\Psi$, we end up with Eq. [(1)](#eq:fullci).\n",
      "\n",
      "One solves this equation normally by diagonalization. If we are able to solve this equation exactly (that is\n",
      "numerically exactly) in a large Hilbert space (it will be truncated in terms of the number of single-particle states included in the definition\n",
      "of Slater determinants), it can then serve as a benchmark for other many-body methods which approximate the correlation operator\n",
      "$\\hat{C}$.  \n",
      "\n",
      "\n",
      "### Example of a Hamiltonian matrix\n",
      "\n",
      "Suppose, as an example, that we have six fermions below the Fermi level.\n",
      "This means that we can make at most $6p-6h$ excitations. If we have an infinity of single particle states above the Fermi level, we will obviously have an infinity of say $2p-2h$ excitations. Each such way to configure the particles is called a **configuration**. We will always have to truncate in the basis of single-particle states.\n",
      "This gives us a finite number of possible Slater determinants. Our Hamiltonian matrix would then look like (where each block can have a large dimensionalities):\n",
      "\n",
      "<table border=\"1\">\n",
      "<thead>\n",
      "<tr><th align=\"center\">       </th> <th align=\"center\">$0p-0h$</th> <th align=\"center\">$1p-1h$</th> <th align=\"center\">$2p-2h$</th> <th align=\"center\">$3p-3h$</th> <th align=\"center\">$4p-4h$</th> <th align=\"center\">$5p-5h$</th> <th align=\"center\">$6p-6h$</th> </tr>\n",
      "</thead>\n",
      "<tbody>\n",
      "<tr><td align=\"center\">   $0p-0h$    </td> <td align=\"center\">   x          </td> <td align=\"center\">   x          </td> <td align=\"center\">   x          </td> <td align=\"center\">   0          </td> <td align=\"center\">   0          </td> <td align=\"center\">   0          </td> <td align=\"center\">   0          </td> </tr>\n",
      "<tr><td align=\"center\">   $1p-1h$    </td> <td align=\"center\">   x          </td> <td align=\"center\">   x          </td> <td align=\"center\">   x          </td> <td align=\"center\">   x          </td> <td align=\"center\">   0          </td> <td align=\"center\">   0          </td> <td align=\"center\">   0          </td> </tr>\n",
      "<tr><td align=\"center\">   $2p-2h$    </td> <td align=\"center\">   x          </td> <td align=\"center\">   x          </td> <td align=\"center\">   x          </td> <td align=\"center\">   x          </td> <td align=\"center\">   x          </td> <td align=\"center\">   0          </td> <td align=\"center\">   0          </td> </tr>\n",
      "<tr><td align=\"center\">   $3p-3h$    </td> <td align=\"center\">   0          </td> <td align=\"center\">   x          </td> <td align=\"center\">   x          </td> <td align=\"center\">   x          </td> <td align=\"center\">   x          </td> <td align=\"center\">   x          </td> <td align=\"center\">   0          </td> </tr>\n",
      "<tr><td align=\"center\">   $4p-4h$    </td> <td align=\"center\">   0          </td> <td align=\"center\">   0          </td> <td align=\"center\">   x          </td> <td align=\"center\">   x          </td> <td align=\"center\">   x          </td> <td align=\"center\">   x          </td> <td align=\"center\">   x          </td> </tr>\n",
      "<tr><td align=\"center\">   $5p-5h$    </td> <td align=\"center\">   0          </td> <td align=\"center\">   0          </td> <td align=\"center\">   0          </td> <td align=\"center\">   x          </td> <td align=\"center\">   x          </td> <td align=\"center\">   x          </td> <td align=\"center\">   x          </td> </tr>\n",
      "<tr><td align=\"center\">   $6p-6h$    </td> <td align=\"center\">   0          </td> <td align=\"center\">   0          </td> <td align=\"center\">   0          </td> <td align=\"center\">   0          </td> <td align=\"center\">   x          </td> <td align=\"center\">   x          </td> <td align=\"center\">   x          </td> </tr>\n",
      "</tbody>\n",
      "</table>\n",
      "with a two-body force. Why are there non-zero blocks of elements? \n",
      "If we use a Hartree-Fock basis, this corresponds to a particular unitary transformation where matrix elements of the type $\\langle 0p-0h \\vert \\hat{H} \\vert 1p-1h\\rangle =\\langle \\Phi_0 | \\hat{H}|\\Phi_{i}^{a}\\rangle=0$ and our Hamiltonian matrix becomes \n",
      "\n",
      "<table border=\"1\">\n",
      "<thead>\n",
      "<tr><th align=\"center\">       </th> <th align=\"center\">  $0p-0h$  </th> <th align=\"center\">  $1p-1h$  </th> <th align=\"center\">  $2p-2h$  </th> <th align=\"center\">  $3p-3h$  </th> <th align=\"center\">  $4p-4h$  </th> <th align=\"center\">  $5p-5h$  </th> <th align=\"center\">  $6p-6h$  </th> </tr>\n",
      "</thead>\n",
      "<tbody>\n",
      "<tr><td align=\"center\">   $0p-0h$    </td> <td align=\"center\">   $\\tilde{x}$    </td> <td align=\"center\">   0              </td> <td align=\"center\">   $\\tilde{x}$    </td> <td align=\"center\">   0              </td> <td align=\"center\">   0              </td> <td align=\"center\">   0              </td> <td align=\"center\">   0              </td> </tr>\n",
      "<tr><td align=\"center\">   $1p-1h$    </td> <td align=\"center\">   0              </td> <td align=\"center\">   $\\tilde{x}$    </td> <td align=\"center\">   $\\tilde{x}$    </td> <td align=\"center\">   $\\tilde{x}$    </td> <td align=\"center\">   0              </td> <td align=\"center\">   0              </td> <td align=\"center\">   0              </td> </tr>\n",
      "<tr><td align=\"center\">   $2p-2h$    </td> <td align=\"center\">   $\\tilde{x}$    </td> <td align=\"center\">   $\\tilde{x}$    </td> <td align=\"center\">   $\\tilde{x}$    </td> <td align=\"center\">   $\\tilde{x}$    </td> <td align=\"center\">   $\\tilde{x}$    </td> <td align=\"center\">   0              </td> <td align=\"center\">   0              </td> </tr>\n",
      "<tr><td align=\"center\">   $3p-3h$    </td> <td align=\"center\">   0              </td> <td align=\"center\">   $\\tilde{x}$    </td> <td align=\"center\">   $\\tilde{x}$    </td> <td align=\"center\">   $\\tilde{x}$    </td> <td align=\"center\">   $\\tilde{x}$    </td> <td align=\"center\">   $\\tilde{x}$    </td> <td align=\"center\">   0              </td> </tr>\n",
      "<tr><td align=\"center\">   $4p-4h$    </td> <td align=\"center\">   0              </td> <td align=\"center\">   0              </td> <td align=\"center\">   $\\tilde{x}$    </td> <td align=\"center\">   $\\tilde{x}$    </td> <td align=\"center\">   $\\tilde{x}$    </td> <td align=\"center\">   $\\tilde{x}$    </td> <td align=\"center\">   $\\tilde{x}$    </td> </tr>\n",
      "<tr><td align=\"center\">   $5p-5h$    </td> <td align=\"center\">   0              </td> <td align=\"center\">   0              </td> <td align=\"center\">   0              </td> <td align=\"center\">   $\\tilde{x}$    </td> <td align=\"center\">   $\\tilde{x}$    </td> <td align=\"center\">   $\\tilde{x}$    </td> <td align=\"center\">   $\\tilde{x}$    </td> </tr>\n",
      "<tr><td align=\"center\">   $6p-6h$    </td> <td align=\"center\">   0              </td> <td align=\"center\">   0              </td> <td align=\"center\">   0              </td> <td align=\"center\">   0              </td> <td align=\"center\">   $\\tilde{x}$    </td> <td align=\"center\">   $\\tilde{x}$    </td> <td align=\"center\">   $\\tilde{x}$    </td> </tr>\n",
      "</tbody>\n",
      "</table>\n",
      "If we do not make any truncations in the possible sets of Slater determinants (many-body states) we can make by distributing $A$ nucleons among $n$ single-particle states, we call such a calculation for \n",
      "* Full configuration interaction theory\n",
      "\n",
      "If we make truncations, we have different possibilities\n",
      "\n",
      "* The standard nuclear shell-model. Here we define an effective Hilbert space with respect to a given core. The calculations are normally then performed for all many-body states that can be constructed from the effective Hilbert spaces. This approach requires a properly defined effective Hamiltonian\n",
      "\n",
      "* We can truncate in the number of excitations. For example, we can limit the possible Slater determinants to only $1p-1h$ and $2p-2h$ excitations. This is called a configuration interaction calculation at the level of singles and doubles excitations, or just CISD. \n",
      "\n",
      "* We can limit the number of excitations in terms of the excitation energies. If we do not define a core, this defines normally what is called the no-core shell-model approach. \n",
      "\n",
      "What happens if we have a three-body interaction and a Hartree-Fock basis? \n",
      "\n",
      "Full configuration interaction theory calculations provide in principle, if we can diagonalize numerically, all states of interest. The dimensionality of the problem explodes however quickly.\n",
      "\n",
      "The total number of Slater determinants which can be built with say $N$ neutrons distributed among $n$ single particle states is"
     ]
    },
    {
     "cell_type": "markdown",
     "metadata": {},
     "source": [
      "$$\n",
      "\\left (\\begin{array}{c} n \\\\ N\\end{array} \\right) =\\frac{n!}{(n-N)!N!}.\n",
      "$$"
     ]
    },
    {
     "cell_type": "markdown",
     "metadata": {},
     "source": [
      "For a model space which comprises the first for major shells only $0s$, $0p$, $1s0d$ and $1p0f$ we have $40$ single particle states for neutrons and protons.  For the eight neutrons of oxygen-16 we would then have"
     ]
    },
    {
     "cell_type": "markdown",
     "metadata": {},
     "source": [
      "$$\n",
      "\\left (\\begin{array}{c} 40 \\\\ 8\\end{array} \\right) =\\frac{40!}{(32)!8!}\\sim 10^{9},\n",
      "$$"
     ]
    },
    {
     "cell_type": "markdown",
     "metadata": {},
     "source": [
      "and multiplying this with the number of proton Slater determinants we end up with approximately witha dimensionality $d$ of $d\\sim 10^{18}$.\n",
      "\n",
      "\n",
      "This number can be reduced if we look at specific symmetries only. However, the dimensionality explodes quickly!\n",
      "\n",
      "* For Hamiltonian matrices of dimensionalities  which are smaller than $d\\sim 10^5$, we would use so-called direct methods for diagonalizing the Hamiltonian matrix\n",
      "\n",
      "* For larger dimensionalities iterative eigenvalue solvers like Lanczos' method are used. The most efficient codes at present can handle matrices of $d\\sim 10^{10}$. \n",
      "\n",
      "### A non-practical way of solving the eigenvalue problem\n",
      "\n",
      "For reasons to come (links with Coupled-Cluster theory and Many-Body perturbation theory), \n",
      "we will rewrite Eq. [(1)](#eq:fullci) as a set of coupled non-linear equations in terms of the unknown coefficients $C_H^P$. \n",
      "To obtain the eigenstates and eigenvalues in terms of non-linear equations is not a very practical approach. However, it serves the scope of linking FCI theory with approximative solutions to the many-body problem.\n",
      "\n",
      "To see this, we look at the contributions arising from"
     ]
    },
    {
     "cell_type": "markdown",
     "metadata": {},
     "source": [
      "$$\n",
      "\\langle \\Phi_H^P | = \\langle \\Phi_0|\n",
      "$$"
     ]
    },
    {
     "cell_type": "markdown",
     "metadata": {},
     "source": [
      "in  Eq. [(1)](#eq:fullci), that is we multiply with $\\langle \\Phi_0 |$\n",
      "from the left in"
     ]
    },
    {
     "cell_type": "markdown",
     "metadata": {},
     "source": [
      "$$\n",
      "(\\hat{H} -E)\\sum_{P'H'}C_{H'}^{P'}|\\Phi_{H'}^{P'} \\rangle=0.\n",
      "$$"
     ]
    },
    {
     "cell_type": "markdown",
     "metadata": {},
     "source": [
      "If we assume that we have a two-body operator at most, Slater's rule gives then an equation for the \n",
      "correlation energy in terms of $C_i^a$ and $C_{ij}^{ab}$ only.  We get then"
     ]
    },
    {
     "cell_type": "markdown",
     "metadata": {},
     "source": [
      "$$\n",
      "\\langle \\Phi_0 | \\hat{H} -E| \\Phi_0\\rangle + \\sum_{ai}\\langle \\Phi_0 | \\hat{H} -E|\\Phi_{i}^{a} \\rangle C_{i}^{a}+\n",
      "\\sum_{abij}\\langle \\Phi_0 | \\hat{H} -E|\\Phi_{ij}^{ab} \\rangle C_{ij}^{ab}=0,\n",
      "$$"
     ]
    },
    {
     "cell_type": "markdown",
     "metadata": {},
     "source": [
      "or"
     ]
    },
    {
     "cell_type": "markdown",
     "metadata": {},
     "source": [
      "$$\n",
      "E-E_0 =\\Delta E=\\sum_{ai}\\langle \\Phi_0 | \\hat{H}|\\Phi_{i}^{a} \\rangle C_{i}^{a}+\n",
      "\\sum_{abij}\\langle \\Phi_0 | \\hat{H}|\\Phi_{ij}^{ab} \\rangle C_{ij}^{ab},\n",
      "$$"
     ]
    },
    {
     "cell_type": "markdown",
     "metadata": {},
     "source": [
      "where the energy $E_0$ is the reference energy and $\\Delta E$ defines the so-called correlation energy.\n",
      "The single-particle basis functions  could be the results of a Hartree-Fock calculation or just the eigenstates of the non-interacting part of the Hamiltonian. \n",
      "\n",
      "In our notes on Hartree-Fock calculations, \n",
      "we have already computed the matrix $\\langle \\Phi_0 | \\hat{H}|\\Phi_{i}^{a}\\rangle $ and $\\langle \\Phi_0 | \\hat{H}|\\Phi_{ij}^{ab}\\rangle$.  If we are using a Hartree-Fock basis, then the matrix elements\n",
      "$\\langle \\Phi_0 | \\hat{H}|\\Phi_{i}^{a}\\rangle=0$ and we are left with a *correlation energy* given by"
     ]
    },
    {
     "cell_type": "markdown",
     "metadata": {},
     "source": [
      "$$\n",
      "E-E_0 =\\Delta E^{HF}=\\sum_{abij}\\langle \\Phi_0 | \\hat{H}|\\Phi_{ij}^{ab} \\rangle C_{ij}^{ab}.\n",
      "$$"
     ]
    },
    {
     "cell_type": "markdown",
     "metadata": {},
     "source": [
      "Inserting the various matrix elements we can rewrite the previous equation as"
     ]
    },
    {
     "cell_type": "markdown",
     "metadata": {},
     "source": [
      "$$\n",
      "\\Delta E=\\sum_{ai}\\langle i| \\hat{f}|a \\rangle C_{i}^{a}+\n",
      "\\sum_{abij}\\langle ij | \\hat{v}| ab \\rangle C_{ij}^{ab}.\n",
      "$$"
     ]
    },
    {
     "cell_type": "markdown",
     "metadata": {},
     "source": [
      "This equation determines the correlation energy but not the coefficients $C$. \n",
      "We need more equations. Our next step is to set up"
     ]
    },
    {
     "cell_type": "markdown",
     "metadata": {},
     "source": [
      "$$\n",
      "\\langle \\Phi_i^a | \\hat{H} -E| \\Phi_0\\rangle + \\sum_{bj}\\langle \\Phi_i^a | \\hat{H} -E|\\Phi_{j}^{b} \\rangle C_{j}^{b}+\n",
      "\\sum_{bcjk}\\langle \\Phi_i^a | \\hat{H} -E|\\Phi_{jk}^{bc} \\rangle C_{jk}^{bc}+\n",
      "\\sum_{bcdjkl}\\langle \\Phi_i^a | \\hat{H} -E|\\Phi_{jkl}^{bcd} \\rangle C_{jkl}^{bcd}=0,\n",
      "$$"
     ]
    },
    {
     "cell_type": "markdown",
     "metadata": {},
     "source": [
      "as this equation will allow us to find an expression for the coefficents $C_i^a$ since we can rewrite this equation as"
     ]
    },
    {
     "cell_type": "markdown",
     "metadata": {},
     "source": [
      "$$\n",
      "\\langle i | \\hat{f}| a\\rangle +\\langle \\Phi_i^a | \\hat{H}|\\Phi_{i}^{a} \\rangle C_{i}^{a}+ \\sum_{bj\\ne ai}\\langle \\Phi_i^a | \\hat{H}|\\Phi_{j}^{b} \\rangle C_{j}^{b}+\n",
      "\\sum_{bcjk}\\langle \\Phi_i^a | \\hat{H}|\\Phi_{jk}^{bc} \\rangle C_{jk}^{bc}+\n",
      "\\sum_{bcdjkl}\\langle \\Phi_i^a | \\hat{H}|\\Phi_{jkl}^{bcd} \\rangle C_{jkl}^{bcd}=EC_i^a.\n",
      "$$"
     ]
    },
    {
     "cell_type": "markdown",
     "metadata": {},
     "source": [
      "We see that on the right-hand side we have the energy $E$. This leads to a non-linear equation in the unknown coefficients. \n",
      "These equations are normally solved iteratively ( that is we can start with a guess for the coefficients $C_i^a$). A common choice is to use perturbation theory for the first guess, setting thereby"
     ]
    },
    {
     "cell_type": "markdown",
     "metadata": {},
     "source": [
      "$$\n",
      "C_{i}^{a}=\\frac{\\langle i | \\hat{f}| a\\rangle}{\\epsilon_i-\\epsilon_a}.\n",
      "$$"
     ]
    },
    {
     "cell_type": "markdown",
     "metadata": {},
     "source": [
      "The observant reader will however see that we need an equation for $C_{jk}^{bc}$ and $C_{jkl}^{bcd}$ as well.\n",
      "To find equations for these coefficients we need then to continue our multiplications from the left with the various\n",
      "$\\Phi_{H}^P$ terms. \n",
      "\n",
      "\n",
      "For $C_{jk}^{bc}$ we need then"
     ]
    },
    {
     "cell_type": "markdown",
     "metadata": {},
     "source": [
      "3\n",
      "9\n",
      " \n",
      "<\n",
      "<\n",
      "<\n",
      "!\n",
      "!\n",
      "M\n",
      "A\n",
      "T\n",
      "H\n",
      "_\n",
      "B\n",
      "L\n",
      "O\n",
      "C\n",
      "K"
     ]
    },
    {
     "cell_type": "markdown",
     "metadata": {},
     "source": [
      "$$\n",
      "\\sum_{cdkl}\\langle \\Phi_{ij}^{ab} | \\hat{H} -E|\\Phi_{kl}^{cd} \\rangle C_{kl}^{cd}+\\sum_{cdeklm}\\langle \\Phi_{ij}^{ab} | \\hat{H} -E|\\Phi_{klm}^{cde} \\rangle C_{klm}^{cde}+\\sum_{cdefklmn}\\langle \\Phi_{ij}^{ab} | \\hat{H} -E|\\Phi_{klmn}^{cdef} \\rangle C_{klmn}^{cdef}=0,\n",
      "$$"
     ]
    },
    {
     "cell_type": "markdown",
     "metadata": {},
     "source": [
      "and we can isolate the coefficients $C_{kl}^{cd}$ in a similar way as we did for the coefficients $C_{i}^{a}$. \n",
      "A standard choice for the first iteration is to set"
     ]
    },
    {
     "cell_type": "markdown",
     "metadata": {},
     "source": [
      "$$\n",
      "C_{ij}^{ab} =\\frac{\\langle ij \\vert \\hat{v} \\vert ab \\rangle}{\\epsilon_i+\\epsilon_j-\\epsilon_a-\\epsilon_b}.\n",
      "$$"
     ]
    },
    {
     "cell_type": "markdown",
     "metadata": {},
     "source": [
      "At the end we can rewrite our solution of the Schroedinger equation in terms of $n$ coupled equations for the coefficients $C_H^P$.\n",
      "This is a very cumbersome way of solving the equation. However, by using this iterative scheme we can illustrate how we can compute the\n",
      "various terms in the wave operator or correlation operator $\\hat{C}$. We will later identify the calculation of the various terms $C_H^P$\n",
      "as parts of different many-body approximations to full CI. In particular, we can  relate this non-linear scheme with Coupled Cluster theory and\n",
      "many-body perturbation theory.\n",
      "\n",
      "\n",
      "### Summarizing FCI and bringing in approximative methods\n",
      "\n",
      "\n",
      "If we can diagonalize large matrices, FCI is the method of choice since:\n",
      "* It gives all eigenvalues, ground state and excited states\n",
      "\n",
      "* The eigenvectors are obtained directly from the coefficients $C_H^P$ which result from the diagonalization\n",
      "\n",
      "* We can compute easily expectation values of other operators, as well as transition probabilities\n",
      "\n",
      "* Correlations are easy to understand in terms of contributions to a given operator beyond the Hartree-Fock contribution. This is the standard approach in  many-body theory. \n",
      "\n",
      "The correlation energy is defined as, with a two-body Hamiltonian,"
     ]
    },
    {
     "cell_type": "markdown",
     "metadata": {},
     "source": [
      "$$\n",
      "\\Delta E=\\sum_{ai}\\langle i| \\hat{f}|a \\rangle C_{i}^{a}+\n",
      "\\sum_{abij}\\langle ij | \\hat{v}| ab \\rangle C_{ij}^{ab}.\n",
      "$$"
     ]
    },
    {
     "cell_type": "markdown",
     "metadata": {},
     "source": [
      "The coefficients $C$ result from the solution of the eigenvalue problem. \n",
      "The energy of say the ground state is then"
     ]
    },
    {
     "cell_type": "markdown",
     "metadata": {},
     "source": [
      "$$\n",
      "E=E_{ref}+\\Delta E,\n",
      "$$"
     ]
    },
    {
     "cell_type": "markdown",
     "metadata": {},
     "source": [
      "where the so-called reference energy is the energy we obtain from a Hartree-Fock calculation, that is"
     ]
    },
    {
     "cell_type": "markdown",
     "metadata": {},
     "source": [
      "$$\n",
      "E_{ref}=\\langle \\Phi_0 \\vert \\hat{H} \\vert \\Phi_0 \\rangle.\n",
      "$$"
     ]
    },
    {
     "cell_type": "markdown",
     "metadata": {},
     "source": [
      "However, as we have seen, even for a small case like the four first major shells and a nucleus like oxygen-16, the dimensionality becomes quickly intractable. If we wish to include single-particle states that reflect weakly bound systems, we need a much larger single-particle basis. We need thus approximative methods that sum specific correlations to infinite order. \n",
      "\n",
      "Popular methods are\n",
      "* Many-body perturbation theory (in essence a Taylor expansion)\n",
      "\n",
      "* Coupled cluster theory (coupled non-linear equations)\n",
      "\n",
      "* Green's function approaches (matrix inversion)\n",
      "\n",
      "* Similarity group transformation methods (coupled ordinary differential equations\n",
      "\n",
      "All these methods start normally with a Hartree-Fock basis as the calculational basis. \n",
      "\n",
      "\n",
      "### Building a many-body basis\n",
      "\n",
      "Here we will discuss how we can set up a single-particle basis which we can use in the various parts of our projects, from the simple pairing model to infinite nuclear matter. We will use here the simple pairing model to illustrate in particular how to set up a single-particle basis. We will also use this do discuss standard FCI approaches like:\n",
      " 1. Standard shell-model basis in one or two major shells\n",
      "\n",
      " 2. Full CI in a given basis and no truncations\n",
      "\n",
      " 3. CISD and CISDT approximations\n",
      "\n",
      " 4. No-core shell model and truncation in excitation energy\n",
      "\n",
      "An important step in an FCI code  is to construct the many-body basis.  \n",
      "\n",
      "While the formalism is independent of the choice of basis, the **effectiveness** of a calculation \n",
      "will certainly be basis dependent. \n",
      "\n",
      "Furthermore there are common conventions useful to know.\n",
      "\n",
      "First, the single-particle basis has angular momentum as a good quantum number.  You can \n",
      "imagine the single-particle wavefunctions being generated by a one-body Hamiltonian, \n",
      "for example a harmonic oscillator.  Modifications include harmonic oscillator plus \n",
      "spin-orbit splitting, or self-consistent mean-field potentials, or the Woods-Saxon potential which mocks \n",
      "up the self-consistent mean-field. \n",
      "For nuclei, the harmonic oscillator, modified by spin-orbit splitting, provides a useful language \n",
      "for describing single-particle states.\n",
      "\n",
      "\n",
      "Each single-particle state is labeled by the following quantum numbers: \n",
      "\n",
      "* Orbital angular momentum $l$\n",
      "\n",
      "* Intrinsic spin $s$ = 1/2 for protons and neutrons\n",
      "\n",
      "* Angular momentum $j = l \\pm 1/2$\n",
      "\n",
      "* $z$-component $j_z$ (or $m$)\n",
      "\n",
      "* Some labeling of the radial wavefunction, typically $n$ the number of nodes in  the radial wavefunction, but in the case of harmonic oscillator one can also use the principal quantum number $N$, where the harmonic oscillator energy is $(N+3/2)\\hbar \\omega$.  For our nuclear matter projects, you will need to change the quantum numbers to those relevant for calculations\n",
      "\n",
      "in three-dimensional cartesian basis, see the relevante [lectures](https://github.com/NuclearTalent/Course2ManyBodyMethods/blob/master/doc/pub/cc/pdf/Lectures1-2_TALENT_NuclearMatter_GH.pdf).\n",
      "\n",
      "\n",
      "In this format one labels states by $n(l)_j$, with $(l)$ replaced by a letter:\n",
      "$s$ for $l=0$, $p$ for $l=1$, $d$ for $l=2$, $f$ for $l=3$, and thenceforth alphabetical.\n",
      "\n",
      "\n",
      " In practice the single-particle space has to be severely truncated.  This truncation is \n",
      "typically based upon the single-particle energies, which is the effective energy \n",
      "from a mean-field potential. \n",
      "\n",
      "Sometimes we freeze the core and only consider a valence space. For example, one \n",
      "may assume a frozen ${}^{4}\\mbox{He}$ core, with two protons and two neutrons in the $0s_{1/2}$ \n",
      "shell, and then only allow active particles in the $0p_{1/2}$ and $0p_{3/2}$ orbits. \n",
      "\n",
      "\n",
      "Another example is a frozen ${}^{16}\\mbox{O}$ core, with eight protons and eight neutrons filling the \n",
      "$0s_{1/2}$,  $0p_{1/2}$ and $0p_{3/2}$ orbits, with valence particles in the \n",
      "$0d_{5/2}, 1s_{1/2}$ and $0d_{3/2}$ orbits.\n",
      "\n",
      "\n",
      "Sometimes we refer to nuclei by the valence space where their last nucleons go.  \n",
      "So, for example, we call ${}^{12}\\mbox{C}$ a $p$-shell nucleus, while ${}^{26}\\mbox{Al}$ is an \n",
      "$sd$-shell nucleus and ${}^{56}\\mbox{Fe}$ is a $pf$-shell nucleus.\n",
      "\n",
      "\n",
      "\n",
      "\n",
      "\n",
      "There are different kinds of truncations.\n",
      "\n",
      "* For example, one can start with `filled' orbits (almost always the lowest), and then  allow one, two, three... particles excited out of those filled orbits. These are called  1p-1h, 2p-2h, 3p-3h excitations. \n",
      "\n",
      "* Alternately, one can state a maximal orbit and allow all possible configurations with  particles occupying states up to that maximum. This is called *full configuration*.\n",
      "\n",
      "* Finally, for particular use in nuclear physics, there is the *energy* truncation, also  called the $N\\hbar\\Omega$ or $N_{max}$ truncation. \n",
      "\n",
      "Here one works in a harmonic oscillator basis, with each major oscillator shell assigned  a principal quantum number $N=0,1,2,3,...$. \n",
      "The $N\\hbar\\Omega$ or $N_{max}$ truncation: Any configuration is given an noninteracting energy, which is the sum \n",
      "of the single-particle harmonic oscillator energies. (Thus this ignores \n",
      "spin-orbit splitting.)\n",
      "\n",
      "Excited state are labeled relative to the lowest configuration by the \n",
      "number of harmonic oscillator quanta.\n",
      "\n",
      "This truncation is useful because if one includes *all* configuration up to \n",
      "some $N_{max}$, and has a translationally invariant interaction, then the intrinsic \n",
      "motion and the center-of-mass motion factor. In other words, we can know exactly \n",
      "the center-of-mass wavefunction. \n",
      "\n",
      "In almost all cases, the many-body Hamiltonian is rotationally invariant. This means \n",
      "it commutes with the operators $\\hat{J}^2, \\hat{J}_z$ and so eigenstates will have \n",
      "good $J,M$. Furthermore, the eigenenergies do not depend upon the orientation $M$. \n",
      "\n",
      "\n",
      "Therefore we can choose to construct a many-body basis which has fixed $M$; this is \n",
      "called an $M$-scheme basis. \n",
      "\n",
      "\n",
      "Alternately, one can construct a many-body basis which has fixed $J$, or a $J$-scheme \n",
      "basis. \n",
      "\n",
      "The Hamiltonian matrix will have smaller dimensions (a factor of 10 or more) in the $J$-scheme than in the $M$-scheme. \n",
      "On the other hand, as we'll show in the next slide, the $M$-scheme is very easy to \n",
      "construct with Slater determinants, while the $J$-scheme basis states, and thus the \n",
      "matrix elements, are more complicated, almost always being linear combinations of \n",
      "$M$-scheme states. $J$-scheme bases are important and useful, but we'll focus on the \n",
      "simpler $M$-scheme.\n",
      "\n",
      "The quantum number $m$ is additive (because the underlying group is Abelian): \n",
      "if a Slater determinant $\\hat{a}_i^\\dagger \\hat{a}^\\dagger_j \\hat{a}^\\dagger_k \\ldots | 0 \\rangle$ \n",
      "is built from single-particle states all with good $m$, then the total"
     ]
    },
    {
     "cell_type": "markdown",
     "metadata": {},
     "source": [
      "$$\n",
      "M = m_i + m_j + m_k + \\ldots\n",
      "$$"
     ]
    },
    {
     "cell_type": "markdown",
     "metadata": {},
     "source": [
      "This is *not* true of $J$, because the angular momentum group SU(2) is not Abelian.\n",
      "\n",
      "The upshot is that \n",
      "* It is easy to construct a Slater determinant with good total $M$;\n",
      "\n",
      "* It is trivial to calculate $M$ for each Slater determinant;\n",
      "\n",
      "* So it is easy to construct an $M$-scheme basis with fixed total $M$.\n",
      "\n",
      "Note that the individual $M$-scheme basis states will *not*, in general, \n",
      "have good total $J$. \n",
      "Because the Hamiltonian is rotationally invariant, however, the eigenstates will \n",
      "have good $J$. (The situation is muddied when one has states of different $J$ that are \n",
      "nonetheless degenerate.) \n",
      "\n",
      "\n",
      "\n",
      "\n",
      "Example: two $j=1/2$ orbits\n",
      "\n",
      "<table border=\"1\">\n",
      "<thead>\n",
      "<tr><th align=\"center\">Index</th> <th align=\"center\">$n$</th> <th align=\"center\">$l$</th> <th align=\"center\">$j$</th> <th align=\"center\">$m_j$</th> </tr>\n",
      "</thead>\n",
      "<tbody>\n",
      "<tr><td align=\"center\">   1        </td> <td align=\"center\">   0      </td> <td align=\"center\">   0      </td> <td align=\"center\">   1/2    </td> <td align=\"center\">   -1/2     </td> </tr>\n",
      "<tr><td align=\"center\">   2        </td> <td align=\"center\">   0      </td> <td align=\"center\">   0      </td> <td align=\"center\">   1/2    </td> <td align=\"center\">   1/2      </td> </tr>\n",
      "<tr><td align=\"center\">   3        </td> <td align=\"center\">   1      </td> <td align=\"center\">   0      </td> <td align=\"center\">   1/2    </td> <td align=\"center\">   -1/2     </td> </tr>\n",
      "<tr><td align=\"center\">   4        </td> <td align=\"center\">   1      </td> <td align=\"center\">   0      </td> <td align=\"center\">   1/2    </td> <td align=\"center\">   1/2      </td> </tr>\n",
      "</tbody>\n",
      "</table>\n",
      "Note that the order is arbitrary.\n",
      "There are $\\left ( \\begin{array}{c} 4 \\\\ 2 \\end{array} \\right) = 6$ two-particle states, \n",
      "which we list with the total $M$:\n",
      "\n",
      "<table border=\"1\">\n",
      "<thead>\n",
      "<tr><th align=\"center\">Occupied</th> <th align=\"center\">$M$</th> </tr>\n",
      "</thead>\n",
      "<tbody>\n",
      "<tr><td align=\"center\">   1,2         </td> <td align=\"center\">   0      </td> </tr>\n",
      "<tr><td align=\"center\">   1,3         </td> <td align=\"center\">   -1     </td> </tr>\n",
      "<tr><td align=\"center\">   1,4         </td> <td align=\"center\">   0      </td> </tr>\n",
      "<tr><td align=\"center\">   2,3         </td> <td align=\"center\">   0      </td> </tr>\n",
      "<tr><td align=\"center\">   2,4         </td> <td align=\"center\">   1      </td> </tr>\n",
      "<tr><td align=\"center\">   3,4         </td> <td align=\"center\">   0      </td> </tr>\n",
      "</tbody>\n",
      "</table>\n",
      "and 1 each with $M = \\pm 1$.\n",
      "\n",
      "\n",
      "\n",
      "\n",
      "As another example, consider using only single particle states from the $0d_{5/2}$ space. \n",
      "They have the following quantum numbers\n",
      "\n",
      "<table border=\"1\">\n",
      "<thead>\n",
      "<tr><th align=\"center\">Index</th> <th align=\"center\">$n$</th> <th align=\"center\">$l$</th> <th align=\"center\">$j$</th> <th align=\"center\">$m_j$</th> </tr>\n",
      "</thead>\n",
      "<tbody>\n",
      "<tr><td align=\"center\">   1        </td> <td align=\"center\">   0      </td> <td align=\"center\">   2      </td> <td align=\"center\">   5/2    </td> <td align=\"center\">   -5/2     </td> </tr>\n",
      "<tr><td align=\"center\">   2        </td> <td align=\"center\">   0      </td> <td align=\"center\">   2      </td> <td align=\"center\">   5/2    </td> <td align=\"center\">   -3/2     </td> </tr>\n",
      "<tr><td align=\"center\">   3        </td> <td align=\"center\">   0      </td> <td align=\"center\">   2      </td> <td align=\"center\">   5/2    </td> <td align=\"center\">   -1/2     </td> </tr>\n",
      "<tr><td align=\"center\">   4        </td> <td align=\"center\">   0      </td> <td align=\"center\">   2      </td> <td align=\"center\">   5/2    </td> <td align=\"center\">   1/2      </td> </tr>\n",
      "<tr><td align=\"center\">   5        </td> <td align=\"center\">   0      </td> <td align=\"center\">   2      </td> <td align=\"center\">   5/2    </td> <td align=\"center\">   3/2      </td> </tr>\n",
      "<tr><td align=\"center\">   6        </td> <td align=\"center\">   0      </td> <td align=\"center\">   2      </td> <td align=\"center\">   5/2    </td> <td align=\"center\">   5/2      </td> </tr>\n",
      "</tbody>\n",
      "</table>\n",
      "There are $\\left ( \\begin{array}{c} 6 \\\\ 2 \\end{array} \\right) = 15$ two-particle states, \n",
      "which we list with the total $M$:\n",
      "\n",
      "<table border=\"1\">\n",
      "<thead>\n",
      "<tr><th align=\"center\">Occupied</th> <th align=\"center\">$M$</th> <th align=\"center\">Occupied</th> <th align=\"center\">$M$</th> <th align=\"center\">Occupied</th> <th align=\"center\">$M$</th> </tr>\n",
      "</thead>\n",
      "<tbody>\n",
      "<tr><td align=\"center\">   1,2         </td> <td align=\"center\">   -4     </td> <td align=\"center\">   2,3         </td> <td align=\"center\">   -2     </td> <td align=\"center\">   3,5         </td> <td align=\"center\">   1      </td> </tr>\n",
      "<tr><td align=\"center\">   1,3         </td> <td align=\"center\">   -3     </td> <td align=\"center\">   2,4         </td> <td align=\"center\">   -1     </td> <td align=\"center\">   3,6         </td> <td align=\"center\">   2      </td> </tr>\n",
      "<tr><td align=\"center\">   1,4         </td> <td align=\"center\">   -2     </td> <td align=\"center\">   2,5         </td> <td align=\"center\">   0      </td> <td align=\"center\">   4,5         </td> <td align=\"center\">   2      </td> </tr>\n",
      "<tr><td align=\"center\">   1,5         </td> <td align=\"center\">   -1     </td> <td align=\"center\">   2,6         </td> <td align=\"center\">   1      </td> <td align=\"center\">   4,6         </td> <td align=\"center\">   3      </td> </tr>\n",
      "<tr><td align=\"center\">   1,6         </td> <td align=\"center\">   0      </td> <td align=\"center\">   3,4         </td> <td align=\"center\">   0      </td> <td align=\"center\">   5,6         </td> <td align=\"center\">   4      </td> </tr>\n",
      "</tbody>\n",
      "</table>\n",
      "\n",
      "\n",
      "\n",
      "\n",
      "### Example case: pairing Hamiltonian, the warm-up project\n",
      "\n",
      "\n",
      "We consider a space with $2\\Omega$ single-particle states, with each \n",
      "state labeled by \n",
      "$k = 1, 2, 3, \\Omega$ and $m = \\pm 1/2$. The convention is that \n",
      "the state with $k>0$ has $m = + 1/2$ while $-k$ has $m = -1/2$.\n",
      "\n",
      "\n",
      "The Hamiltonian we consider is"
     ]
    },
    {
     "cell_type": "markdown",
     "metadata": {},
     "source": [
      "$$\n",
      "\\hat{H} = -\\frac{g}{2} \\hat{P}_+ \\hat{P}_-,\n",
      "$$"
     ]
    },
    {
     "cell_type": "markdown",
     "metadata": {},
     "source": [
      "where"
     ]
    },
    {
     "cell_type": "markdown",
     "metadata": {},
     "source": [
      "$$\n",
      "\\hat{P}_+ = \\sum_{k > 0} \\hat{a}^\\dagger_k \\hat{a}^\\dagger_{-{k}}.\n",
      "$$"
     ]
    },
    {
     "cell_type": "markdown",
     "metadata": {},
     "source": [
      "and $\\hat{P}_- = ( \\hat{P}_+)^\\dagger$.\n",
      "\n",
      "This problem can be solved using what is called the quasi-spin formalism to obtain the \n",
      "exact results. Thereafter we will try again using the explicit Slater determinant formalism.\n",
      "\n",
      "\n",
      "\n",
      "\n",
      "One can show (and this is part of the project) that"
     ]
    },
    {
     "cell_type": "markdown",
     "metadata": {},
     "source": [
      "$$\n",
      "\\left [ \\hat{P}_+, \\hat{P}_- \\right ] = \\sum_{k> 0} \\left( \\hat{a}^\\dagger_k \\hat{a}_k \n",
      "+ \\hat{a}^\\dagger_{-{k}} \\hat{a}_{-{k}} - 1 \\right) = \\hat{N} - \\Omega.\n",
      "$$"
     ]
    },
    {
     "cell_type": "markdown",
     "metadata": {},
     "source": [
      "Now define"
     ]
    },
    {
     "cell_type": "markdown",
     "metadata": {},
     "source": [
      "$$\n",
      "\\hat{P}_z = \\frac{1}{2} ( \\hat{N} -\\Omega).\n",
      "$$"
     ]
    },
    {
     "cell_type": "markdown",
     "metadata": {},
     "source": [
      "Finally you can show"
     ]
    },
    {
     "cell_type": "markdown",
     "metadata": {},
     "source": [
      "$$\n",
      "\\left [ \\hat{P}_z , \\hat{P}_\\pm \\right ] = \\pm \\hat{P}_\\pm.\n",
      "$$"
     ]
    },
    {
     "cell_type": "markdown",
     "metadata": {},
     "source": [
      "This means the operators $\\hat{P}_\\pm, \\hat{P}_z$ form a so-called  $SU(2)$ algebra, and we can \n",
      "use all our insights about angular momentum, even though there is no actual \n",
      "angular momentum involved\n",
      "\n",
      "So we rewrite the Hamiltonian to make this explicit:"
     ]
    },
    {
     "cell_type": "markdown",
     "metadata": {},
     "source": [
      "$$\n",
      "\\hat{H} = -G \\hat{P}_+ \\hat{P}_- \n",
      "= -G \\left( \\hat{P}^2 - \\hat{P}_z^2 + \\hat{P}_z\\right)\n",
      "$$"
     ]
    },
    {
     "cell_type": "markdown",
     "metadata": {},
     "source": [
      "Because of the SU(2) algebra, we know that the eigenvalues of \n",
      "$\\hat{P}^2$ must be of the form $p(p+1)$, with $p$ either integer or half-integer, and the eigenvalues of $\\hat{P}_z$ \n",
      "are $m_p$ with $p \\geq | m_p|$, with $m_p$ also integer or half-integer. \n",
      "\n",
      "\n",
      "But because $\\hat{P}_z = (1/2)(\\hat{N}-\\Omega)$, we know that for $N$ particles \n",
      "the value $m_p = (N-\\Omega)/2$. Furthermore, the values of $m_p$ range from \n",
      "$-\\Omega/2$ (for $N=0$) to $+\\Omega/2$ (for $N=2\\Omega$, with all states filled). \n",
      "\n",
      "We deduce the maximal $p = \\Omega/2$ and for a given $n$ the \n",
      "values range of $p$ range from $|N-\\Omega|/2$ to $\\Omega/2$ in steps of 1 \n",
      "(for an even number of particles) \n",
      "\n",
      "We introduce the notation\n",
      "$p = (\\Omega - v)/2$\n",
      "where $v = 0, 2, 4,..., \\Omega - |N-\\Omega|$ \n",
      "With this it is easy to deduce that the eigenvalues of the pairing Hamiltonian are"
     ]
    },
    {
     "cell_type": "markdown",
     "metadata": {},
     "source": [
      "$$\n",
      "-G(N-v)(2\\Omega +2-N-v)/4\n",
      "$$"
     ]
    },
    {
     "cell_type": "markdown",
     "metadata": {},
     "source": [
      "This also works for $N$ odd, with $v= 1,3,5, \\dots$.\n",
      "\n",
      "\n",
      "\n",
      "Let's take a specific example: $\\Omega = 3$ so there are 6 single-particle states, \n",
      "and $N = 3$, with $v= 1,3$. Therefore there are two distinct eigenvalues,"
     ]
    },
    {
     "cell_type": "markdown",
     "metadata": {},
     "source": [
      "$$\n",
      "E = -2G, 0\n",
      "$$"
     ]
    },
    {
     "cell_type": "markdown",
     "metadata": {},
     "source": [
      "Now let's work this out explicitly. The single particle degrees of freedom are defined as\n",
      "\n",
      "<table border=\"1\">\n",
      "<thead>\n",
      "<tr><th align=\"center\">Index</th> <th align=\"center\">$k$</th> <th align=\"center\">$m$ </th> </tr>\n",
      "</thead>\n",
      "<tbody>\n",
      "<tr><td align=\"center\">   1        </td> <td align=\"center\">   1      </td> <td align=\"center\">   -1/2    </td> </tr>\n",
      "<tr><td align=\"center\">   2        </td> <td align=\"center\">   -1     </td> <td align=\"center\">   1/2     </td> </tr>\n",
      "<tr><td align=\"center\">   3        </td> <td align=\"center\">   2      </td> <td align=\"center\">   -1/2    </td> </tr>\n",
      "<tr><td align=\"center\">   4        </td> <td align=\"center\">   -2     </td> <td align=\"center\">   1/2     </td> </tr>\n",
      "<tr><td align=\"center\">   5        </td> <td align=\"center\">   3      </td> <td align=\"center\">   -1/2    </td> </tr>\n",
      "<tr><td align=\"center\">   6        </td> <td align=\"center\">   -3     </td> <td align=\"center\">   1/2     </td> </tr>\n",
      "</tbody>\n",
      "</table>\n",
      " There are  $\\left( \\begin{array}{c}6 \\\\ 3 \\end{array} \\right) = 20$ three-particle states, but there \n",
      "are 9 states with $M = +1/2$, namely\n",
      "$| 1,2,3 \\rangle, |1,2,5\\rangle, | 1,4,6 \\rangle, | 2,3,4 \\rangle, |2,3,6 \\rangle, | 2,4,5 \\rangle, | 2, 5, 6 \\rangle, |3,4,6 \\rangle, | 4,5,6 \\rangle$.\n",
      "\n",
      "\n",
      "\n",
      "\n",
      "\n",
      "\n",
      "In this basis, the operator"
     ]
    },
    {
     "cell_type": "markdown",
     "metadata": {},
     "source": [
      "$$\n",
      "\\hat{P}_+\n",
      "= \\hat{a}^\\dagger_1 \\hat{a}^\\dagger_2 + \\hat{a}^\\dagger_3 \\hat{a}^\\dagger_4 +\n",
      "\\hat{a}^\\dagger_5 \\hat{a}^\\dagger_6\n",
      "$$"
     ]
    },
    {
     "cell_type": "markdown",
     "metadata": {},
     "source": [
      "From this we can determine that"
     ]
    },
    {
     "cell_type": "markdown",
     "metadata": {},
     "source": [
      "$$\n",
      "\\hat{P}_- | 1, 4, 6 \\rangle = \\hat{P}_- | 2, 3, 6 \\rangle\n",
      "= \\hat{P}_- | 2, 4, 5 \\rangle = 0\n",
      "$$"
     ]
    },
    {
     "cell_type": "markdown",
     "metadata": {},
     "source": [
      "so those states all have eigenvalue 0.\n",
      "\n",
      "\n",
      "\n",
      "Now for further example,"
     ]
    },
    {
     "cell_type": "markdown",
     "metadata": {},
     "source": [
      "$$\n",
      "\\hat{P}_- | 1,2,3 \\rangle = | 3 \\rangle\n",
      "$$"
     ]
    },
    {
     "cell_type": "markdown",
     "metadata": {},
     "source": [
      "so"
     ]
    },
    {
     "cell_type": "markdown",
     "metadata": {},
     "source": [
      "$$\n",
      "\\hat{P}_+ \\hat{P}_- | 1,2,3\\rangle = | 1,2,3\\rangle+ | 3,4,3\\rangle + | 5,6,3\\rangle\n",
      "$$"
     ]
    },
    {
     "cell_type": "markdown",
     "metadata": {},
     "source": [
      "The second term vanishes because state 3 is occupied twice, and reordering the last \n",
      "term we\n",
      "get"
     ]
    },
    {
     "cell_type": "markdown",
     "metadata": {},
     "source": [
      "$$\n",
      "\\hat{P}_+ \\hat{P}_- | 1,2,3\\rangle = | 1,2,3\\rangle+ |3, 5,6\\rangle\n",
      "$$"
     ]
    },
    {
     "cell_type": "markdown",
     "metadata": {},
     "source": [
      "without picking up a phase.\n",
      "\n",
      "\n",
      "\n",
      "Continuing in this fashion, with the previous ordering of the many-body states\n",
      "(  $| 1,2,3 \\rangle, |1,2,5\\rangle, | 1,4,6 \\rangle, | 2,3,4 \\rangle, |2,3,6 \\rangle, | 2,4,5 \\rangle, | 2, 5, 6 \\rangle, |3,4,6 \\rangle, | 4,5,6 \\rangle$) the \n",
      "Hamiltonian matrix of this system is"
     ]
    },
    {
     "cell_type": "markdown",
     "metadata": {},
     "source": [
      "$$\n",
      "H = -G\\left( \n",
      "\\begin{array}{ccccccccc}\n",
      "1 & 0 & 0 & 0 & 0 & 0 & 0 & 0 & 1  \\\\\n",
      "0 & 1 & 0 & 0 & 0 & 0 & 0 & 1 & 0  \\\\\n",
      "0 & 0 & 0 & 0 & 0 & 0 & 0 & 0 & 0  \\\\\n",
      "0 & 0 & 0 & 1 & 0 & 0 & 1 & 0 & 0  \\\\\n",
      "0 & 0 & 0 & 0 & 0 & 0 & 0 & 0 & 0  \\\\\n",
      "0 & 0 & 0 & 0 & 0 & 0 & 0 & 0 & 0  \\\\\n",
      "0 & 0 & 0 & 1 & 0 & 0 & 1 & 0 & 0  \\\\\n",
      "0 & 0 & 0 & 0 & 0 & 0 & 0 & 0 & 0  \\\\\n",
      "0 & 1 & 0 & 0 & 0 & 0 & 0 & 1 & 0  \\\\\n",
      "1 & 0 & 0 & 0 & 0 & 0 & 0 & 0 & 1  \n",
      "\\end{array} \\right )\n",
      "$$"
     ]
    },
    {
     "cell_type": "markdown",
     "metadata": {},
     "source": [
      "This is useful for our project.  One can by hand confirm \n",
      "that there are 3 eigenvalues $-2G$ and 6 with value zero.\n",
      "\n",
      "\n",
      "\n",
      "\n",
      "\n",
      "Using the $(1/2)^4$ single-particle space, we have  eight single-particle states\n",
      "\n",
      "<table border=\"1\">\n",
      "<thead>\n",
      "<tr><th align=\"center\">Index</th> <th align=\"center\">$n$</th> <th align=\"center\">$l$</th> <th align=\"center\">$s$</th> <th align=\"center\">$m_s$</th> </tr>\n",
      "</thead>\n",
      "<tbody>\n",
      "<tr><td align=\"center\">   1        </td> <td align=\"center\">   0      </td> <td align=\"center\">   0      </td> <td align=\"center\">   1/2    </td> <td align=\"center\">   -1/2     </td> </tr>\n",
      "<tr><td align=\"center\">   2        </td> <td align=\"center\">   0      </td> <td align=\"center\">   0      </td> <td align=\"center\">   1/2    </td> <td align=\"center\">   1/2      </td> </tr>\n",
      "<tr><td align=\"center\">   3        </td> <td align=\"center\">   1      </td> <td align=\"center\">   0      </td> <td align=\"center\">   1/2    </td> <td align=\"center\">   -1/2     </td> </tr>\n",
      "<tr><td align=\"center\">   4        </td> <td align=\"center\">   1      </td> <td align=\"center\">   0      </td> <td align=\"center\">   1/2    </td> <td align=\"center\">   1/2      </td> </tr>\n",
      "<tr><td align=\"center\">   5        </td> <td align=\"center\">   2      </td> <td align=\"center\">   0      </td> <td align=\"center\">   1/2    </td> <td align=\"center\">   -1/2     </td> </tr>\n",
      "<tr><td align=\"center\">   6        </td> <td align=\"center\">   2      </td> <td align=\"center\">   0      </td> <td align=\"center\">   1/2    </td> <td align=\"center\">   1/2      </td> </tr>\n",
      "<tr><td align=\"center\">   7        </td> <td align=\"center\">   3      </td> <td align=\"center\">   0      </td> <td align=\"center\">   1/2    </td> <td align=\"center\">   -1/2     </td> </tr>\n",
      "<tr><td align=\"center\">   8        </td> <td align=\"center\">   3      </td> <td align=\"center\">   0      </td> <td align=\"center\">   1/2    </td> <td align=\"center\">   1/2      </td> </tr>\n",
      "</tbody>\n",
      "</table>\n",
      "and then taking only 4-particle, $M=0$ states that have no `broken pairs', there are six basis Slater \n",
      "determinants:\n",
      "\n",
      "* $|           1,           2 ,          3         ,       4  \\rangle , $\n",
      "\n",
      "* $|            1      ,     2        ,        5         ,       6 \\rangle , $\n",
      "\n",
      "* $|            1         ,       2     ,           7         ,       8  \\rangle , $\n",
      "\n",
      "* $|            3        ,        4      ,          5          ,      6  \\rangle , $\n",
      "\n",
      "* $|            3        ,        4      ,          7         ,       8  \\rangle , $\n",
      "\n",
      "* $|            5        ,        6     ,           7     ,           8  \\rangle $\n",
      "\n",
      "We define our Hamiltonian as"
     ]
    },
    {
     "cell_type": "markdown",
     "metadata": {},
     "source": [
      "$$\n",
      "\\hat{H} = \\sum_n n \\delta \\hat{N}_n  - \\frac{g}{2} \\hat{P}^\\dagger \\hat{P}\n",
      "$$"
     ]
    },
    {
     "cell_type": "markdown",
     "metadata": {},
     "source": [
      "where"
     ]
    },
    {
     "cell_type": "markdown",
     "metadata": {},
     "source": [
      "$$\n",
      "\\hat{N}_n = \\hat{a}^\\dagger_{n, m=+1/2} \\hat{a}_{n, m=+1/2} +\n",
      "\\hat{a}^\\dagger_{n, m=-1/2} \\hat{a}_{n, m=-1/2}\n",
      "$$"
     ]
    },
    {
     "cell_type": "markdown",
     "metadata": {},
     "source": [
      "and"
     ]
    },
    {
     "cell_type": "markdown",
     "metadata": {},
     "source": [
      "$$\n",
      "\\hat{P}^\\dagger = \\sum_{n} \\hat{a}^\\dagger_{n, m=+1/2} \\hat{a}^\\dagger_{n, m=-1/2}\n",
      "$$"
     ]
    },
    {
     "cell_type": "markdown",
     "metadata": {},
     "source": [
      "For our example, the $ 6 \\times 6$  Hamiltonian matrix becomes"
     ]
    },
    {
     "cell_type": "markdown",
     "metadata": {},
     "source": [
      "$$\n",
      "H = \\left ( \n",
      "\\begin{array}{cccccc}\n",
      "2\\delta -g & -g/2 & -g/2 & -g/2 & -g/2 & 0 \\\\\n",
      " -g/2 & 4\\delta -g & -g/2 & -g/2 & -0 & -g/2 \\\\\n",
      "-g/2 & -g/2 & 6\\delta -g & 0 & -g/2 & -g/2 \\\\\n",
      " -g/2 & -g/2 & 0 & 6\\delta-g & -g/2 & -g/2 \\\\\n",
      " -g/2 & 0 & -g/2 & -g/2 & 8\\delta-g & -g/2 \\\\\n",
      "0 & -g/2 & -g/2 & -g/2 & -g/2 & 10\\delta -g \n",
      "\\end{array} \\right )\n",
      "$$"
     ]
    },
    {
     "cell_type": "markdown",
     "metadata": {},
     "source": [
      "(You should check by hand that this is correct.) \n",
      "\n",
      "For $\\delta = 0$ we have the closed form solution of  the g.s. energy given by $-6G$.\n",
      "\n",
      "\n",
      "\n",
      "\n",
      "\n",
      "#### Many-body perturbation theory, in short\n",
      "\n",
      "If we are looking at the ground state energy only, we define an effective Hilbert space which comprises only this state. This space is called the **model space**.\n",
      "\n",
      "We can express the correlation energy as a perturbative expression in terms\n",
      "of $\\hat{H}_I$"
     ]
    },
    {
     "cell_type": "markdown",
     "metadata": {},
     "source": [
      "$$\n",
      "\\Delta E=\\sum_{i=1}^{\\infty}\\Delta E^{(i)}.\n",
      "$$"
     ]
    },
    {
     "cell_type": "markdown",
     "metadata": {},
     "source": [
      "We get the following expression for $\\Delta E^{(i)}$"
     ]
    },
    {
     "cell_type": "markdown",
     "metadata": {},
     "source": [
      "$$\n",
      "\\Delta E^{(1)}=\\langle \\Phi_0\\vert \\hat{H}_I\\vert \\Phi_0\\rangle,\n",
      "$$"
     ]
    },
    {
     "cell_type": "markdown",
     "metadata": {},
     "source": [
      "which is just the contribution to first order in perturbation theory,"
     ]
    },
    {
     "cell_type": "markdown",
     "metadata": {},
     "source": [
      "$$\n",
      "\\Delta E^{(2)}=\\langle\\Phi_0\\vert \\hat{H}_I\\frac{\\hat{Q}}{W_0-\\hat{H}_0}\\hat{H}_I\\vert \\Phi_0\\rangle,\n",
      "$$"
     ]
    },
    {
     "cell_type": "markdown",
     "metadata": {},
     "source": [
      "which is the contribution to second order."
     ]
    },
    {
     "cell_type": "markdown",
     "metadata": {},
     "source": [
      "$$\n",
      "\\Delta E^{(3)}=\\langle \\Phi_0\\vert \\hat{H}_I\\frac{\\hat{Q}}{W_0-\\hat{H}_0}\\hat{H}_I\\frac{\\hat{Q}}{W_0-\\hat{H}_0}\\hat{H}_I\\Phi_0\\rangle-\n",
      "\\langle\\Phi_0\\vert \\hat{H}_I\\frac{\\hat{Q}}{W_0-\\hat{H}_0}\\langle \\Phi_0\\vert \\hat{H}_I\\vert \\Phi_0\\rangle\\frac{\\hat{Q}}{W_0-\\hat{H}_0}\\hat{H}_I\\vert \\Phi_0\\rangle,\n",
      "$$"
     ]
    },
    {
     "cell_type": "markdown",
     "metadata": {},
     "source": [
      "being the third-order contribution. \n",
      "\n",
      "In the shell-model we showed that we could rewrite the exact state function for say the ground state, as a linear expansion in terms of all possible Slater determinants. That is, we \n",
      "define the ansatz for the ground state as"
     ]
    },
    {
     "cell_type": "markdown",
     "metadata": {},
     "source": [
      "$$\n",
      "|\\Phi_0\\rangle = \\left(\\prod_{i\\le F}\\hat{a}_{i}^{\\dagger}\\right)|0\\rangle,\n",
      "$$"
     ]
    },
    {
     "cell_type": "markdown",
     "metadata": {},
     "source": [
      "where the index $i$ defines different single-particle states up to the Fermi level. We have assumed that we have $N$ fermions. \n",
      "A given one-particle-one-hole ($1p1h$) state can be written as"
     ]
    },
    {
     "cell_type": "markdown",
     "metadata": {},
     "source": [
      "$$\n",
      "|\\Phi_i^a\\rangle = \\hat{a}_{a}^{\\dagger}\\hat{a}_i|\\Phi_0\\rangle,\n",
      "$$"
     ]
    },
    {
     "cell_type": "markdown",
     "metadata": {},
     "source": [
      "while a $2p2h$ state can be written as"
     ]
    },
    {
     "cell_type": "markdown",
     "metadata": {},
     "source": [
      "$$\n",
      "|\\Phi_{ij}^{ab}\\rangle = \\hat{a}_{a}^{\\dagger}\\hat{a}_{b}^{\\dagger}\\hat{a}_j\\hat{a}_i|\\Phi_0\\rangle,\n",
      "$$"
     ]
    },
    {
     "cell_type": "markdown",
     "metadata": {},
     "source": [
      "and a general $ApAh$ state as"
     ]
    },
    {
     "cell_type": "markdown",
     "metadata": {},
     "source": [
      "$$\n",
      "|\\Phi_{ijk\\dots}^{abc\\dots}\\rangle = \\hat{a}_{a}^{\\dagger}\\hat{a}_{b}^{\\dagger}\\hat{a}_{c}^{\\dagger}\\dots\\hat{a}_k\\hat{a}_j\\hat{a}_i|\\Phi_0\\rangle.\n",
      "$$"
     ]
    },
    {
     "cell_type": "markdown",
     "metadata": {},
     "source": [
      "We use letters $ijkl\\dots$ for states below the Fermi level and $abcd\\dots$ for states above the Fermi level. A general single-particle state is given by letters $pqrs\\dots$.\n",
      "\n",
      "We can then expand our exact state function for the ground state \n",
      "as"
     ]
    },
    {
     "cell_type": "markdown",
     "metadata": {},
     "source": [
      "$$\n",
      "|\\Psi_0\\rangle=C_0|\\Phi_0\\rangle+\\sum_{ai}C_i^a|\\Phi_i^a\\rangle+\\sum_{abij}C_{ij}^{ab}|\\Phi_{ij}^{ab}\\rangle+\\dots\n",
      "=(C_0+\\hat{C})|\\Phi_0\\rangle,\n",
      "$$"
     ]
    },
    {
     "cell_type": "markdown",
     "metadata": {},
     "source": [
      "where we have introduced the so-called correlation operator"
     ]
    },
    {
     "cell_type": "markdown",
     "metadata": {},
     "source": [
      "$$\n",
      "\\hat{C}=\\sum_{ai}C_i^a\\hat{a}_{a}^{\\dagger}\\hat{a}_i  +\\sum_{abij}C_{ij}^{ab}\\hat{a}_{a}^{\\dagger}\\hat{a}_{b}^{\\dagger}\\hat{a}_j\\hat{a}_i+\\dots\n",
      "$$"
     ]
    },
    {
     "cell_type": "markdown",
     "metadata": {},
     "source": [
      "Since the normalization of $\\Psi_0$ is at our disposal and since $C_0$ is by hypothesis non-zero, we may arbitrarily set $C_0=1$ with \n",
      "corresponding proportional changes in all other coefficients. Using this so-called intermediate normalization we have"
     ]
    },
    {
     "cell_type": "markdown",
     "metadata": {},
     "source": [
      "$$\n",
      "\\langle \\Psi_0 | \\Phi_0 \\rangle = \\langle \\Phi_0 | \\Phi_0 \\rangle = 1,\n",
      "$$"
     ]
    },
    {
     "cell_type": "markdown",
     "metadata": {},
     "source": [
      "resulting in"
     ]
    },
    {
     "cell_type": "markdown",
     "metadata": {},
     "source": [
      "$$\n",
      "|\\Psi_0\\rangle=(1+\\hat{C})|\\Phi_0\\rangle.\n",
      "$$"
     ]
    },
    {
     "cell_type": "markdown",
     "metadata": {},
     "source": [
      "In a shell-model calculation, the unknown coefficients in $\\hat{C}$ are the \n",
      "eigenvectors which result from the diagonalization of the Hamiltonian matrix.\n",
      "\n",
      "How can we use perturbation theory to determine the same coefficients? Let us study the contributions to second order in the interaction, namely"
     ]
    },
    {
     "cell_type": "markdown",
     "metadata": {},
     "source": [
      "$$\n",
      "\\Delta E^{(2)}=\\langle\\Phi_0\\vert \\hat{H}_I\\frac{\\hat{Q}}{W_0-\\hat{H}_0}\\hat{H}_I\\vert \\Phi_0\\rangle.\n",
      "$$"
     ]
    },
    {
     "cell_type": "markdown",
     "metadata": {},
     "source": [
      "The intermediate states given by $\\hat{Q}$ can at most be of a $2p-2h$ nature if we have a two-body Hamiltonian. This means that second order in the perturbation theory can have $1p-1h$ and $2p-2h$ at most as intermediate states. When we diagonalize, these contributions are included to infinite order. This means that higher-orders in perturbation theory bring in more complicated correlations. \n",
      "\n",
      "If we limit the attention to a Hartree-Fock basis, then we have that\n",
      "$\\langle\\Phi_0\\vert \\hat{H}_I \\vert 2p-2h\\rangle$ is the only contribution and the contribution to the energy reduces to"
     ]
    },
    {
     "cell_type": "markdown",
     "metadata": {},
     "source": [
      "$$\n",
      "\\Delta E^{(2)}=\\frac{1}{4}\\sum_{abij}\\langle ij\\vert \\hat{v}\\vert ab\\rangle \\frac{\\langle ab\\vert \\hat{v}\\vert ij\\rangle}{\\epsilon_i+\\epsilon_j-\\epsilon_a-\\epsilon_b}.\n",
      "$$"
     ]
    },
    {
     "cell_type": "markdown",
     "metadata": {},
     "source": [
      "If we compare this to the correlation energy obtained from full configuration interaction theory with a Hartree-Fock basis, we found that"
     ]
    },
    {
     "cell_type": "markdown",
     "metadata": {},
     "source": [
      "$$\n",
      "E-E_0 =\\Delta E=\\sum_{abij}\\langle ij | \\hat{v}| ab \\rangle C_{ij}^{ab},\n",
      "$$"
     ]
    },
    {
     "cell_type": "markdown",
     "metadata": {},
     "source": [
      "where the energy $E_0$ is the reference energy and $\\Delta E$ defines the so-called correlation energy.\n",
      "\n",
      "We see that if we set"
     ]
    },
    {
     "cell_type": "markdown",
     "metadata": {},
     "source": [
      "$$\n",
      "C_{ij}^{ab} =\\frac{1}{4}\\frac{\\langle ab \\vert \\hat{v} \\vert ij \\rangle}{\\epsilon_i+\\epsilon_j-\\epsilon_a-\\epsilon_b},\n",
      "$$"
     ]
    },
    {
     "cell_type": "markdown",
     "metadata": {},
     "source": [
      "we have a perfect agreement between FCI and MBPT. However, FCI includes such $2p-2h$ correlations to infinite order. In order to make a meaningful comparison we would at least need to sum such correlations to infinite order in perturbation theory. \n",
      "\n",
      "Summing up, we can see that\n",
      "* MBPT introduces order-by-order specific correlations and we make comparisons with exact calculations like FCI\n",
      "\n",
      "* At every order, we can calculate all contributions since they are well-known and either tabulated or calculated on the fly.\n",
      "\n",
      "* MBPT is a non-variational theory and there is no guarantee that higher orders will improve the convergence. \n",
      "\n",
      "* However, since FCI calculations are limited by the size of the Hamiltonian matrices to diagonalize (today's most efficient codes can attach dimensionalities of ten billion basis states, MBPT can function as an approximative method which gives a straightforward (but tedious) calculation recipe. \n",
      "\n",
      "* MBPT has been widely used to compute effective interactions for the nuclear shell-model.\n",
      "\n",
      "* But there are better methods which sum to infinite order important correlations. Coupled cluster theory is one of these methods. \n",
      "\n",
      "#### A quick tour of Coupled Cluster theory\n",
      "\n",
      "The ansatz for the wavefunction (ground state) is given by"
     ]
    },
    {
     "cell_type": "markdown",
     "metadata": {},
     "source": [
      "$$\n",
      "\\vert \\Psi\\rangle = \\vert \\Psi_{CC}\\rangle = e^{\\hat{T}} \\vert \\Phi_0\\rangle =  \n",
      "  \\left( \\sum_{n=1}^{A} \\frac{1}{n!} \\hat{T}^n \\right) \\vert \\Phi_0\\rangle,\n",
      "$$"
     ]
    },
    {
     "cell_type": "markdown",
     "metadata": {},
     "source": [
      "where $A$ represents the maximum number of particle-hole excitations and $\\hat{T}$ is the cluster operator defined as"
     ]
    },
    {
     "cell_type": "markdown",
     "metadata": {},
     "source": [
      "$$\n",
      "\\begin{align*}\n",
      "            \\hat{T} &= \\hat{T}_1 + \\hat{T}_2 + \\ldots + \\hat{T}_A \\\\\n",
      "            \\hat{T}_n &= \\left(\\frac{1}{n!}\\right)^2 \n",
      "                \\sum_{\\substack{\n",
      "                        i_1,i_2,\\ldots i_n \\\\\n",
      "                        a_1,a_2,\\ldots a_n}}\n",
      "                t_{i_1i_2\\ldots i_n}^{a_1a_2\\ldots a_n} a_{a_1}^\\dagger a_{a_2}^\\dagger \\ldots a_{a_n}^\\dagger a_{i_n} \\ldots a_{i_2} a_{i_1}.\n",
      "        \\end{align*}\n",
      "$$"
     ]
    },
    {
     "cell_type": "markdown",
     "metadata": {},
     "source": [
      "The energy is given by"
     ]
    },
    {
     "cell_type": "markdown",
     "metadata": {},
     "source": [
      "$$\n",
      "E_{\\mathrm{CC}} = \\langle\\Phi_0\\vert  \\overline{H}\\vert \\Phi_0\\rangle,\n",
      "$$"
     ]
    },
    {
     "cell_type": "markdown",
     "metadata": {},
     "source": [
      "where $\\overline{H}$ is a similarity transformed Hamiltonian"
     ]
    },
    {
     "cell_type": "markdown",
     "metadata": {},
     "source": [
      "$$\n",
      "\\begin{align*}\n",
      "        \\overline{H}&= e^{-\\hat{T}} \\hat{H}_N e^{\\hat{T}} \\\\\n",
      "        \\hat{H}_N &= \\hat{H} - \\langle\\Phi_0\\vert \\hat{H} \\vert \\Phi_0\\rangle.\n",
      "    \\end{align*}\n",
      "$$"
     ]
    },
    {
     "cell_type": "markdown",
     "metadata": {},
     "source": [
      "The coupled cluster energy is a function of the unknown cluster amplitudes $t_{i_1i_2\\ldots i_n}^{a_1a_2\\ldots a_n}$,\n",
      "given by the solutions to the amplitude equations"
     ]
    },
    {
     "cell_type": "markdown",
     "metadata": {},
     "source": [
      "$$\n",
      "0 = \\langle\\Phi_{i_1 \\ldots i_n}^{a_1 \\ldots a_n}\\vert \\overline{H}\\vert \\Phi_0\\rangle.\n",
      "$$"
     ]
    },
    {
     "cell_type": "markdown",
     "metadata": {},
     "source": [
      "The similarity transformed   Hamiltonian  $\\overline{H}$ is expanded using the Baker-Campbell-Hausdorff expression,"
     ]
    },
    {
     "cell_type": "markdown",
     "metadata": {},
     "source": [
      "$$\n",
      "\\begin{align*}\n",
      "        \\overline{H}&= \\hat{H}_N + \\left[ \\hat{H}_N, \\hat{T} \\right] + \n",
      "            \\frac{1}{2} \\left[\\left[ \\hat{H}_N, \\hat{T} \\right], \\hat{T}\\right] + \\ldots \\\\\n",
      "            & \\quad \\frac{1}{n!} \\left[ \\ldots \\left[ \\hat{H}_N, \\hat{T} \\right], \\ldots \\hat{T} \\right] +\\dots\n",
      "    \\end{align*}\n",
      "$$"
     ]
    },
    {
     "cell_type": "markdown",
     "metadata": {},
     "source": [
      "and simplified using the connected cluster theorem"
     ]
    },
    {
     "cell_type": "markdown",
     "metadata": {},
     "source": [
      "$$\n",
      "\\overline{H}= \\hat{H}_N + \\left( \\hat{H}_N \\hat{T}\\right)_c + \\frac{1}{2} \\left( \\hat{H}_N \\hat{T}^2\\right)_c\n",
      "            + \\dots + \\frac{1}{n!} \\left( \\hat{H}_N \\hat{T}^n\\right)_c +\\dots\n",
      "$$"
     ]
    },
    {
     "cell_type": "markdown",
     "metadata": {},
     "source": [
      "A much used approximation is to  truncate the cluster operator $\\hat{T}$ at the $n=2$ level. This defines the so-called approximation to the Coupled Cluster wavefunction.\n",
      "\n",
      "The coupled cluster wavefunction is now given by"
     ]
    },
    {
     "cell_type": "markdown",
     "metadata": {},
     "source": [
      "$$\n",
      "\\vert \\Psi_{CC}\\rangle = e^{\\hat{T}_1 + \\hat{T}_2} \\vert \\Phi_0\\rangle\n",
      "$$"
     ]
    },
    {
     "cell_type": "markdown",
     "metadata": {},
     "source": [
      "where"
     ]
    },
    {
     "cell_type": "markdown",
     "metadata": {},
     "source": [
      "$$\n",
      "\\begin{align*}\n",
      "            \\hat{T}_1 &= \n",
      "            \\sum_{ia}\n",
      "                t_{i}^{a} a_{a}^\\dagger a_i \\\\\n",
      "            \\hat{T}_2 &= \\frac{1}{4} \n",
      "            \\sum_{ijab}\n",
      "                t_{ij}^{ab} a_{a}^\\dagger a_{b}^\\dagger a_{j} a_{i}.\n",
      "        \\end{align*}\n",
      "$$"
     ]
    },
    {
     "cell_type": "markdown",
     "metadata": {},
     "source": [
      "The amplutudes $t$ play a role similar to the coefficients $C$ in the shell-model calculations. They are obtained by solving a set of non-linear equations\n",
      "similar to those discussed above in connection withe FCI discussion.\n",
      "\n",
      "If we truncate our equations at the CCSD level, it corresponds to performing a transformation of the Hamiltonian matrix of the following type for a six particle problem (with a two-body Hamiltonian):\n",
      "\n",
      "<table border=\"1\">\n",
      "<thead>\n",
      "<tr><th align=\"center\">       </th> <th align=\"center\">  $0p-0h$  </th> <th align=\"center\">  $1p-1h$  </th> <th align=\"center\">  $2p-2h$  </th> <th align=\"center\">  $3p-3h$  </th> <th align=\"center\">  $4p-4h$  </th> <th align=\"center\">  $5p-5h$  </th> <th align=\"center\">  $6p-6h$  </th> </tr>\n",
      "</thead>\n",
      "<tbody>\n",
      "<tr><td align=\"center\">   $0p-0h$    </td> <td align=\"center\">   $\\tilde{x}$    </td> <td align=\"center\">   $\\tilde{x}$    </td> <td align=\"center\">   $\\tilde{x}$    </td> <td align=\"center\">   0              </td> <td align=\"center\">   0              </td> <td align=\"center\">   0              </td> <td align=\"center\">   0              </td> </tr>\n",
      "<tr><td align=\"center\">   $1p-1h$    </td> <td align=\"center\">   0              </td> <td align=\"center\">   $\\tilde{x}$    </td> <td align=\"center\">   $\\tilde{x}$    </td> <td align=\"center\">   $\\tilde{x}$    </td> <td align=\"center\">   0              </td> <td align=\"center\">   0              </td> <td align=\"center\">   0              </td> </tr>\n",
      "<tr><td align=\"center\">   $2p-2h$    </td> <td align=\"center\">   0              </td> <td align=\"center\">   $\\tilde{x}$    </td> <td align=\"center\">   $\\tilde{x}$    </td> <td align=\"center\">   $\\tilde{x}$    </td> <td align=\"center\">   $\\tilde{x}$    </td> <td align=\"center\">   0              </td> <td align=\"center\">   0              </td> </tr>\n",
      "<tr><td align=\"center\">   $3p-3h$    </td> <td align=\"center\">   0              </td> <td align=\"center\">   $\\tilde{x}$    </td> <td align=\"center\">   $\\tilde{x}$    </td> <td align=\"center\">   $\\tilde{x}$    </td> <td align=\"center\">   $\\tilde{x}$    </td> <td align=\"center\">   $\\tilde{x}$    </td> <td align=\"center\">   0              </td> </tr>\n",
      "<tr><td align=\"center\">   $4p-4h$    </td> <td align=\"center\">   0              </td> <td align=\"center\">   0              </td> <td align=\"center\">   $\\tilde{x}$    </td> <td align=\"center\">   $\\tilde{x}$    </td> <td align=\"center\">   $\\tilde{x}$    </td> <td align=\"center\">   $\\tilde{x}$    </td> <td align=\"center\">   $\\tilde{x}$    </td> </tr>\n",
      "<tr><td align=\"center\">   $5p-5h$    </td> <td align=\"center\">   0              </td> <td align=\"center\">   0              </td> <td align=\"center\">   0              </td> <td align=\"center\">   $\\tilde{x}$    </td> <td align=\"center\">   $\\tilde{x}$    </td> <td align=\"center\">   $\\tilde{x}$    </td> <td align=\"center\">   $\\tilde{x}$    </td> </tr>\n",
      "<tr><td align=\"center\">   $6p-6h$    </td> <td align=\"center\">   0              </td> <td align=\"center\">   0              </td> <td align=\"center\">   0              </td> <td align=\"center\">   0              </td> <td align=\"center\">   $\\tilde{x}$    </td> <td align=\"center\">   $\\tilde{x}$    </td> <td align=\"center\">   $\\tilde{x}$    </td> </tr>\n",
      "</tbody>\n",
      "</table>\n",
      "\n",
      "\n",
      "In our FCI discussion the correlation energy is defined as, with a two-body Hamiltonian,"
     ]
    },
    {
     "cell_type": "markdown",
     "metadata": {},
     "source": [
      "$$\n",
      "\\Delta E=\\sum_{ai}\\langle i| \\hat{f}|a \\rangle C_{i}^{a}+\n",
      "\\sum_{abij}\\langle ij | \\hat{v}| ab \\rangle C_{ij}^{ab}.\n",
      "$$"
     ]
    },
    {
     "cell_type": "markdown",
     "metadata": {},
     "source": [
      "In Coupled cluster theory it becomes (irrespective of level of truncation of $T$)"
     ]
    },
    {
     "cell_type": "markdown",
     "metadata": {},
     "source": [
      "$$\n",
      "\\Delta E=\\sum_{ai}\\langle i| \\hat{f}|a \\rangle t_{i}^{a}+\n",
      "\\sum_{abij}\\langle ij | \\hat{v}| ab \\rangle t_{ij}^{ab}.\n",
      "$$"
     ]
    },
    {
     "cell_type": "markdown",
     "metadata": {},
     "source": [
      "Coupled cluster theory has several interesting computational features and is the method of choice in quantum chemistry. There are several interesting features:\n",
      "* With a truncation like CCSD or CCSDT, we can include to infinite order correlations like $2p-2h$.\n",
      "\n",
      "* We can include a large basis of single-particle states, not possible in standard FCI calculations\n",
      "\n",
      "However, Coupled Cluster theory is\n",
      "* non-variational\n",
      "\n",
      "* if we want to find properties of excited states, additional calculations via for example equation of motion methods are needed\n",
      "\n",
      "* if correlations are strong, a single-reference ansatz may not be the best starting point\n",
      "\n",
      "* we cannot quantify properly the error we make when truncations are made in the cluster operator"
     ]
    }
   ],
   "metadata": {}
  }
 ]
}
