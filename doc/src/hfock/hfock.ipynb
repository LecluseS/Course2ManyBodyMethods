{
 "cells": [
  {
   "cell_type": "markdown",
   "metadata": {},
   "source": [
    "<!-- Slides for PHY981 -->\n",
    "<!-- dom:TITLE: Hartree-Fock methods -->\n",
    "# Hartree-Fock methods\n",
    "<!-- dom:AUTHOR: [Morten Hjorth-Jensen](http://computationalphysics.no), National Superconducting Cyclotron Laboratory and Department of Physics and Astronomy, Michigan State University, East Lansing, MI 48824, USA & Department of Physics, University of Oslo, Oslo, Norway -->\n",
    "<!-- Author: --> **[Morten Hjorth-Jensen](http://computationalphysics.no), National Superconducting Cyclotron Laboratory and Department of Physics and Astronomy, Michigan State University, East Lansing, MI 48824, USA & Department of Physics, University of Oslo, Oslo, Norway**\n",
    "\n",
    "Date: **July 6-24 2015**\n",
    "\n",
    "## Why Hartree-Fock? Derivation of Hartree-Fock equations in coordinate space\n",
    "\n",
    "Hartree-Fock (HF) theory is an algorithm for finding an approximative expression for the ground state of a given Hamiltonian. The basic ingredients are\n",
    "  * Define a single-particle basis $\\{\\psi_{\\alpha}\\}$ so that"
   ]
  },
  {
   "cell_type": "markdown",
   "metadata": {},
   "source": [
    "$$\n",
    "\\hat{h}^{\\mathrm{HF}}\\psi_{\\alpha} = \\varepsilon_{\\alpha}\\psi_{\\alpha}\n",
    "$$"
   ]
  },
  {
   "cell_type": "markdown",
   "metadata": {},
   "source": [
    "with the Hartree-Fock Hamiltonian defined as"
   ]
  },
  {
   "cell_type": "markdown",
   "metadata": {},
   "source": [
    "$$\n",
    "\\hat{h}^{\\mathrm{HF}}=\\hat{t}+\\hat{u}_{\\mathrm{ext}}+\\hat{u}^{\\mathrm{HF}}\n",
    "$$"
   ]
  },
  {
   "cell_type": "markdown",
   "metadata": {},
   "source": [
    "* The term  $\\hat{u}^{\\mathrm{HF}}$ is a single-particle potential to be determined by the HF algorithm.\n",
    "\n",
    "  * The HF algorithm means to choose $\\hat{u}^{\\mathrm{HF}}$ in order to have"
   ]
  },
  {
   "cell_type": "markdown",
   "metadata": {},
   "source": [
    "$$\n",
    "\\langle \\hat{H} \\rangle = E^{\\mathrm{HF}}= \\langle \\Phi_0 | \\hat{H}|\\Phi_0 \\rangle\n",
    "$$"
   ]
  },
  {
   "cell_type": "markdown",
   "metadata": {},
   "source": [
    "that is to find a local minimum with a Slater determinant $\\Phi_0$ being the ansatz for the ground state. \n",
    "  * The variational principle ensures that $E^{\\mathrm{HF}} \\ge E_0$, with $E_0$ the exact ground state energy.\n",
    "\n",
    "We will show that the Hartree-Fock Hamiltonian $\\hat{h}^{\\mathrm{HF}}$ equals our definition of the operator $\\hat{f}$ discussed in connection with the new definition of the normal-ordered Hamiltonian (see later lectures), that is we have, for a specific matrix element"
   ]
  },
  {
   "cell_type": "markdown",
   "metadata": {},
   "source": [
    "$$\n",
    "\\langle p |\\hat{h}^{\\mathrm{HF}}| q \\rangle =\\langle p |\\hat{f}| q \\rangle=\\langle p|\\hat{t}+\\hat{u}_{\\mathrm{ext}}|q \\rangle +\\sum_{i\\le F} \\langle pi | \\hat{V} | qi\\rangle_{AS},\n",
    "$$"
   ]
  },
  {
   "cell_type": "markdown",
   "metadata": {},
   "source": [
    "meaning that"
   ]
  },
  {
   "cell_type": "markdown",
   "metadata": {},
   "source": [
    "$$\n",
    "\\langle p|\\hat{u}^{\\mathrm{HF}}|q\\rangle = \\sum_{i\\le F} \\langle pi | \\hat{V} | qi\\rangle_{AS}.\n",
    "$$"
   ]
  },
  {
   "cell_type": "markdown",
   "metadata": {},
   "source": [
    "The so-called Hartree-Fock potential $\\hat{u}^{\\mathrm{HF}}$ brings an explicit medium dependence due to the summation over all single-particle states below the Fermi level $F$. It brings also in an explicit dependence on the two-body interaction (in nuclear physics we can also have complicated three- or higher-body forces). The two-body interaction, with its contribution from the other bystanding fermions, creates an effective mean field in which a given fermion moves, in addition to the external potential $\\hat{u}_{\\mathrm{ext}}$ which confines the motion of the fermion. For systems like nuclei, there is no external confining potential. Nuclei are examples of self-bound systems, where the binding arises due to the intrinsic nature of the strong force. For nuclear systems thus, there would be no external one-body potential in the Hartree-Fock Hamiltonian. \n",
    "\n",
    "## Variational Calculus and Lagrangian Multipliers\n",
    "\n",
    "The calculus of variations involves \n",
    "problems where the quantity to be minimized or maximized is an integral. \n",
    "\n",
    "In the general case we have an integral of the type"
   ]
  },
  {
   "cell_type": "markdown",
   "metadata": {},
   "source": [
    "$$\n",
    "E[\\Phi]= \\int_a^b f(\\Phi(x),\\frac{\\partial \\Phi}{\\partial x},x)dx,\n",
    "$$"
   ]
  },
  {
   "cell_type": "markdown",
   "metadata": {},
   "source": [
    "where $E$ is the quantity which is sought minimized or maximized.\n",
    "The problem is that although $f$ is a function of the variables $\\Phi$, $\\partial \\Phi/\\partial x$ and $x$, the exact dependence of\n",
    "$\\Phi$ on $x$ is not known.  This means again that even though the integral has fixed limits $a$ and $b$, the path of integration is\n",
    "not known. In our case the unknown quantities are the single-particle wave functions and we wish to choose an integration path which makes\n",
    "the functional $E[\\Phi]$ stationary. This means that we want to find minima, or maxima or saddle points. In physics we search normally for minima.\n",
    "Our task is therefore to find the minimum of $E[\\Phi]$ so that its variation $\\delta E$ is zero  subject to specific\n",
    "constraints. In our case the constraints appear as the integral which expresses the orthogonality of the  single-particle wave functions.\n",
    "The constraints can be treated via the technique of Lagrangian multipliers\n",
    "\n",
    "Let us specialize to the expectation value of the energy for one particle in three-dimensions.\n",
    "This expectation value reads"
   ]
  },
  {
   "cell_type": "markdown",
   "metadata": {},
   "source": [
    "$$\n",
    "E=\\int dxdydz \\psi^*(x,y,z) \\hat{H} \\psi(x,y,z),\n",
    "$$"
   ]
  },
  {
   "cell_type": "markdown",
   "metadata": {},
   "source": [
    "with the constraint"
   ]
  },
  {
   "cell_type": "markdown",
   "metadata": {},
   "source": [
    "$$\n",
    "\\int dxdydz \\psi^*(x,y,z) \\psi(x,y,z)=1,\n",
    "$$"
   ]
  },
  {
   "cell_type": "markdown",
   "metadata": {},
   "source": [
    "and a Hamiltonian"
   ]
  },
  {
   "cell_type": "markdown",
   "metadata": {},
   "source": [
    "$$\n",
    "\\hat{H}=-\\frac{1}{2}\\nabla^2+V(x,y,z).\n",
    "$$"
   ]
  },
  {
   "cell_type": "markdown",
   "metadata": {},
   "source": [
    "We will, for the sake of notational convenience,  skip the variables $x,y,z$ below, and write for example $V(x,y,z)=V$.\n",
    "\n",
    "The integral involving the kinetic energy can be written as, with the function $\\psi$ vanishing\n",
    "strongly for large values of $x,y,z$ (given here by the limits $a$ and $b$),"
   ]
  },
  {
   "cell_type": "markdown",
   "metadata": {},
   "source": [
    "$$\n",
    "\\int_a^b dxdydz \\psi^* \\left(-\\frac{1}{2}\\nabla^2\\right) \\psi dxdydz = \\psi^*\\nabla\\psi|_a^b+\\int_a^b dxdydz\\frac{1}{2}\\nabla\\psi^*\\nabla\\psi.\n",
    "$$"
   ]
  },
  {
   "cell_type": "markdown",
   "metadata": {},
   "source": [
    "We will drop the limits $a$ and $b$ in the remaining discussion. \n",
    "Inserting this expression into the expectation value for the energy and taking the variational minimum  we obtain"
   ]
  },
  {
   "cell_type": "markdown",
   "metadata": {},
   "source": [
    "$$\n",
    "\\delta E = \\delta \\left\\{\\int dxdydz\\left( \\frac{1}{2}\\nabla\\psi^*\\nabla\\psi+V\\psi^*\\psi\\right)\\right\\} = 0.\n",
    "$$"
   ]
  },
  {
   "cell_type": "markdown",
   "metadata": {},
   "source": [
    "The constraint appears in integral form as"
   ]
  },
  {
   "cell_type": "markdown",
   "metadata": {},
   "source": [
    "$$\n",
    "\\int dxdydz \\psi^* \\psi=\\mathrm{constant},\n",
    "$$"
   ]
  },
  {
   "cell_type": "markdown",
   "metadata": {},
   "source": [
    "and multiplying with a Lagrangian multiplier $\\lambda$ and taking the variational minimum we obtain the final variational equation"
   ]
  },
  {
   "cell_type": "markdown",
   "metadata": {},
   "source": [
    "$$\n",
    "\\delta \\left\\{\\int dxdydz\\left( \\frac{1}{2}\\nabla\\psi^*\\nabla\\psi+V\\psi^*\\psi-\\lambda\\psi^*\\psi\\right)\\right\\} = 0.\n",
    "$$"
   ]
  },
  {
   "cell_type": "markdown",
   "metadata": {},
   "source": [
    "We introduce the function  $f$"
   ]
  },
  {
   "cell_type": "markdown",
   "metadata": {},
   "source": [
    "$$\n",
    "f =  \\frac{1}{2}\\nabla\\psi^*\\nabla\\psi+V\\psi^*\\psi-\\lambda\\psi^*\\psi=\n",
    "\\frac{1}{2}(\\psi^*_x\\psi_x+\\psi^*_y\\psi_y+\\psi^*_z\\psi_z)+V\\psi^*\\psi-\\lambda\\psi^*\\psi,\n",
    "$$"
   ]
  },
  {
   "cell_type": "markdown",
   "metadata": {},
   "source": [
    "where we have skipped the dependence on $x,y,z$ and introduced the shorthand $\\psi_x$, $\\psi_y$ and $\\psi_z$  for the various derivatives.\n",
    "\n",
    "For $\\psi^*$ the Euler-Lagrange  equations yield"
   ]
  },
  {
   "cell_type": "markdown",
   "metadata": {},
   "source": [
    "$$\n",
    "\\frac{\\partial f}{\\partial \\psi^*}- \\frac{\\partial }{\\partial x}\\frac{\\partial f}{\\partial \\psi^*_x}-\\frac{\\partial }{\\partial y}\\frac{\\partial f}{\\partial \\psi^*_y}-\\frac{\\partial }{\\partial z}\\frac{\\partial f}{\\partial \\psi^*_z}=0,\n",
    "$$"
   ]
  },
  {
   "cell_type": "markdown",
   "metadata": {},
   "source": [
    "which results in"
   ]
  },
  {
   "cell_type": "markdown",
   "metadata": {},
   "source": [
    "$$\n",
    "-\\frac{1}{2}(\\psi_{xx}+\\psi_{yy}+\\psi_{zz})+V\\psi=\\lambda \\psi.\n",
    "$$"
   ]
  },
  {
   "cell_type": "markdown",
   "metadata": {},
   "source": [
    "We can then identify the  Lagrangian multiplier as the energy of the system. The last equation is \n",
    "nothing but the standard \n",
    "Schroedinger equation and the variational  approach discussed here provides \n",
    "a powerful method for obtaining approximate solutions of the wave function.\n",
    "\n",
    "## Definitions and notations\n",
    "\n",
    "Before we proceed we need some definitions.\n",
    "We will assume that the interacting part of the Hamiltonian\n",
    "can be approximated by a two-body interaction.\n",
    "This means that our Hamiltonian is written as the sum of some onebody part and a twobody part"
   ]
  },
  {
   "cell_type": "markdown",
   "metadata": {},
   "source": [
    "<!-- Equation labels as ordinary links -->\n",
    "<div id=\"Hnuclei\"></div>\n",
    "\n",
    "$$\n",
    "\\begin{equation}\n",
    "    \\hat{H} = \\hat{H}_0 + \\hat{H}_I \n",
    "    = \\sum_{i=1}^A \\hat{h}_0(x_i) + \\sum_{i < j}^A \\hat{v}(r_{ij}),\n",
    "\\label{Hnuclei} \\tag{1}\n",
    "\\end{equation}\n",
    "$$"
   ]
  },
  {
   "cell_type": "markdown",
   "metadata": {},
   "source": [
    "with"
   ]
  },
  {
   "cell_type": "markdown",
   "metadata": {},
   "source": [
    "<!-- Equation labels as ordinary links -->\n",
    "<div id=\"hinuclei\"></div>\n",
    "\n",
    "$$\n",
    "\\begin{equation}\n",
    "  H_0=\\sum_{i=1}^A \\hat{h}_0(x_i).\n",
    "\\label{hinuclei} \\tag{2}\n",
    "\\end{equation}\n",
    "$$"
   ]
  },
  {
   "cell_type": "markdown",
   "metadata": {},
   "source": [
    "The onebody part $u_{\\mathrm{ext}}(x_i)$ is normally approximated by a harmonic oscillator potential or the Coulomb interaction an electron feels from the nucleus. However, other potentials are fully possible, such as \n",
    "one derived from the self-consistent solution of the Hartree-Fock equations to be discussed here.\n",
    "\n",
    "\n",
    "\n",
    "Our Hamiltonian is invariant under the permutation (interchange) of two particles.\n",
    "Since we deal with fermions however, the total wave function is antisymmetric.\n",
    "Let $\\hat{P}$ be an operator which interchanges two particles.\n",
    "Due to the symmetries we have ascribed to our Hamiltonian, this operator commutes with the total Hamiltonian,"
   ]
  },
  {
   "cell_type": "markdown",
   "metadata": {},
   "source": [
    "$$\n",
    "[\\hat{H},\\hat{P}] = 0,\n",
    "$$"
   ]
  },
  {
   "cell_type": "markdown",
   "metadata": {},
   "source": [
    "meaning that $\\Psi_{\\lambda}(x_1, x_2, \\dots , x_A)$ is an eigenfunction of \n",
    "$\\hat{P}$ as well, that is"
   ]
  },
  {
   "cell_type": "markdown",
   "metadata": {},
   "source": [
    "$$\n",
    "\\hat{P}_{ij}\\Psi_{\\lambda}(x_1, x_2, \\dots,x_i,\\dots,x_j,\\dots,x_A)=\n",
    "\\beta\\Psi_{\\lambda}(x_1, x_2, \\dots,x_i,\\dots,x_j,\\dots,x_A),\n",
    "$$"
   ]
  },
  {
   "cell_type": "markdown",
   "metadata": {},
   "source": [
    "where $\\beta$ is the eigenvalue of $\\hat{P}$. We have introduced the suffix $ij$ in order to indicate that we permute particles $i$ and $j$.\n",
    "The Pauli principle tells us that the total wave function for a system of fermions\n",
    "has to be antisymmetric, resulting in the eigenvalue $\\beta = -1$.   \n",
    "\n",
    "\n",
    "\n",
    "In our case we assume that  we can approximate the exact eigenfunction with a Slater determinant"
   ]
  },
  {
   "cell_type": "markdown",
   "metadata": {},
   "source": [
    "<!-- Equation labels as ordinary links -->\n",
    "<div id=\"eq:HartreeFockDet\"></div>\n",
    "\n",
    "$$\n",
    "\\begin{equation}\n",
    "   \\Phi(x_1, x_2,\\dots ,x_A,\\alpha,\\beta,\\dots, \\sigma)=\\frac{1}{\\sqrt{A!}}\n",
    "\\left| \\begin{array}{ccccc} \\psi_{\\alpha}(x_1)& \\psi_{\\alpha}(x_2)& \\dots & \\dots & \\psi_{\\alpha}(x_A)\\\\\n",
    "                            \\psi_{\\beta}(x_1)&\\psi_{\\beta}(x_2)& \\dots & \\dots & \\psi_{\\beta}(x_A)\\\\  \n",
    "                            \\dots & \\dots & \\dots & \\dots & \\dots \\\\\n",
    "                            \\dots & \\dots & \\dots & \\dots & \\dots \\\\\n",
    "                     \\psi_{\\sigma}(x_1)&\\psi_{\\sigma}(x_2)& \\dots & \\dots & \\psi_{\\sigma}(x_A)\\end{array} \\right|, \\label{eq:HartreeFockDet} \\tag{3}\n",
    "\\end{equation}\n",
    "$$"
   ]
  },
  {
   "cell_type": "markdown",
   "metadata": {},
   "source": [
    "where  $x_i$  stand for the coordinates and spin values of a particle $i$ and $\\alpha,\\beta,\\dots, \\gamma$ \n",
    "are quantum numbers needed to describe remaining quantum numbers.  \n",
    "\n",
    "\n",
    "\n",
    "\n",
    "The single-particle function $\\psi_{\\alpha}(x_i)$  are eigenfunctions of the onebody\n",
    "Hamiltonian $h_i$, that is"
   ]
  },
  {
   "cell_type": "markdown",
   "metadata": {},
   "source": [
    "$$\n",
    "\\hat{h}_0(x_i)=\\hat{t}(x_i) + \\hat{u}_{\\mathrm{ext}}(x_i),\n",
    "$$"
   ]
  },
  {
   "cell_type": "markdown",
   "metadata": {},
   "source": [
    "with eigenvalues"
   ]
  },
  {
   "cell_type": "markdown",
   "metadata": {},
   "source": [
    "$$\n",
    "\\hat{h}_0(x_i) \\psi_{\\alpha}(x_i)=\\left(\\hat{t}(x_i) + \\hat{u}_{\\mathrm{ext}}(x_i)\\right)\\psi_{\\alpha}(x_i)=\\varepsilon_{\\alpha}\\psi_{\\alpha}(x_i).\n",
    "$$"
   ]
  },
  {
   "cell_type": "markdown",
   "metadata": {},
   "source": [
    "The energies $\\varepsilon_{\\alpha}$ are the so-called non-interacting single-particle energies, or unperturbed energies. \n",
    "The total energy is in this case the sum over all  single-particle energies, if no two-body or more complicated\n",
    "many-body interactions are present.\n",
    "\n",
    "\n",
    "\n",
    "Let us denote the ground state energy by $E_0$. According to the\n",
    "variational principle we have"
   ]
  },
  {
   "cell_type": "markdown",
   "metadata": {},
   "source": [
    "$$\n",
    "E_0 \\le E[\\Phi] = \\int \\Phi^*\\hat{H}\\Phi d\\mathbf{\\tau}\n",
    "$$"
   ]
  },
  {
   "cell_type": "markdown",
   "metadata": {},
   "source": [
    "where $\\Phi$ is a trial function which we assume to be normalized"
   ]
  },
  {
   "cell_type": "markdown",
   "metadata": {},
   "source": [
    "$$\n",
    "\\int \\Phi^*\\Phi d\\mathbf{\\tau} = 1,\n",
    "$$"
   ]
  },
  {
   "cell_type": "markdown",
   "metadata": {},
   "source": [
    "where we have used the shorthand $d\\mathbf{\\tau}=dx_1dr_2\\dots dr_A$.\n",
    "\n",
    "\n",
    "\n",
    "\n",
    "In the Hartree-Fock method the trial function is the Slater\n",
    "determinant of Eq. [(3)](#eq:HartreeFockDet) which can be rewritten as"
   ]
  },
  {
   "cell_type": "markdown",
   "metadata": {},
   "source": [
    "$$\n",
    "\\Phi(x_1,x_2,\\dots,x_A,\\alpha,\\beta,\\dots,\\nu) = \\frac{1}{\\sqrt{A!}}\\sum_{P} (-)^P\\hat{P}\\psi_{\\alpha}(x_1)\n",
    "    \\psi_{\\beta}(x_2)\\dots\\psi_{\\nu}(x_A)=\\sqrt{A!}\\hat{A}\\Phi_H,\n",
    "$$"
   ]
  },
  {
   "cell_type": "markdown",
   "metadata": {},
   "source": [
    "where we have introduced the antisymmetrization operator $\\hat{A}$ defined by the \n",
    "summation over all possible permutations of two particles.\n",
    "\n",
    "\n",
    "\n",
    "It is defined as"
   ]
  },
  {
   "cell_type": "markdown",
   "metadata": {},
   "source": [
    "<!-- Equation labels as ordinary links -->\n",
    "<div id=\"antiSymmetryOperator\"></div>\n",
    "\n",
    "$$\n",
    "\\begin{equation}\n",
    "  \\hat{A} = \\frac{1}{A!}\\sum_{p} (-)^p\\hat{P},\n",
    "\\label{antiSymmetryOperator} \\tag{4}\n",
    "\\end{equation}\n",
    "$$"
   ]
  },
  {
   "cell_type": "markdown",
   "metadata": {},
   "source": [
    "with $p$ standing for the number of permutations. We have introduced for later use the so-called\n",
    "Hartree-function, defined by the simple product of all possible single-particle functions"
   ]
  },
  {
   "cell_type": "markdown",
   "metadata": {},
   "source": [
    "$$\n",
    "\\Phi_H(x_1,x_2,\\dots,x_A,\\alpha,\\beta,\\dots,\\nu) =\n",
    "  \\psi_{\\alpha}(x_1)\n",
    "    \\psi_{\\beta}(x_2)\\dots\\psi_{\\nu}(x_A).\n",
    "$$"
   ]
  },
  {
   "cell_type": "markdown",
   "metadata": {},
   "source": [
    "Both $\\hat{H}_0$ and $\\hat{H}_I$ are invariant under all possible permutations of any two particles\n",
    "and hence commute with $\\hat{A}$"
   ]
  },
  {
   "cell_type": "markdown",
   "metadata": {},
   "source": [
    "<!-- Equation labels as ordinary links -->\n",
    "<div id=\"commutionAntiSym\"></div>\n",
    "\n",
    "$$\n",
    "\\begin{equation}\n",
    "  [H_0,\\hat{A}] = [H_I,\\hat{A}] = 0. \\label{commutionAntiSym} \\tag{5}\n",
    "\\end{equation}\n",
    "$$"
   ]
  },
  {
   "cell_type": "markdown",
   "metadata": {},
   "source": [
    "Furthermore, $\\hat{A}$ satisfies"
   ]
  },
  {
   "cell_type": "markdown",
   "metadata": {},
   "source": [
    "<!-- Equation labels as ordinary links -->\n",
    "<div id=\"AntiSymSquared\"></div>\n",
    "\n",
    "$$\n",
    "\\begin{equation}\n",
    "  \\hat{A}^2 = \\hat{A},  \\label{AntiSymSquared} \\tag{6}\n",
    "\\end{equation}\n",
    "$$"
   ]
  },
  {
   "cell_type": "markdown",
   "metadata": {},
   "source": [
    "since every permutation of the Slater\n",
    "determinant reproduces it. \n",
    "\n",
    "\n",
    "\n",
    "The expectation value of $\\hat{H}_0$"
   ]
  },
  {
   "cell_type": "markdown",
   "metadata": {},
   "source": [
    "$$\n",
    "\\int \\Phi^*\\hat{H}_0\\Phi d\\mathbf{\\tau} \n",
    "  = A! \\int \\Phi_H^*\\hat{A}\\hat{H}_0\\hat{A}\\Phi_H d\\mathbf{\\tau}\n",
    "$$"
   ]
  },
  {
   "cell_type": "markdown",
   "metadata": {},
   "source": [
    "is readily reduced to"
   ]
  },
  {
   "cell_type": "markdown",
   "metadata": {},
   "source": [
    "$$\n",
    "\\int \\Phi^*\\hat{H}_0\\Phi d\\mathbf{\\tau} \n",
    "  = A! \\int \\Phi_H^*\\hat{H}_0\\hat{A}\\Phi_H d\\mathbf{\\tau},\n",
    "$$"
   ]
  },
  {
   "cell_type": "markdown",
   "metadata": {},
   "source": [
    "where we have used Eqs. [(5)](#commutionAntiSym) and\n",
    "[(6)](#AntiSymSquared). The next step is to replace the antisymmetrization\n",
    "operator by its definition and to\n",
    "replace $\\hat{H}_0$ with the sum of one-body operators"
   ]
  },
  {
   "cell_type": "markdown",
   "metadata": {},
   "source": [
    "$$\n",
    "\\int \\Phi^*\\hat{H}_0\\Phi  d\\mathbf{\\tau}\n",
    "  = \\sum_{i=1}^A \\sum_{p} (-)^p\\int \n",
    "  \\Phi_H^*\\hat{h}_0\\hat{P}\\Phi_H d\\mathbf{\\tau}.\n",
    "$$"
   ]
  },
  {
   "cell_type": "markdown",
   "metadata": {},
   "source": [
    "The integral vanishes if two or more particles are permuted in only one\n",
    "of the Hartree-functions $\\Phi_H$ because the individual single-particle wave functions are\n",
    "orthogonal. We obtain then"
   ]
  },
  {
   "cell_type": "markdown",
   "metadata": {},
   "source": [
    "$$\n",
    "\\int \\Phi^*\\hat{H}_0\\Phi  d\\mathbf{\\tau}= \\sum_{i=1}^A \\int \\Phi_H^*\\hat{h}_0\\Phi_H  d\\mathbf{\\tau}.\n",
    "$$"
   ]
  },
  {
   "cell_type": "markdown",
   "metadata": {},
   "source": [
    "Orthogonality of the single-particle functions allows us to further simplify the integral, and we\n",
    "arrive at the following expression for the expectation values of the\n",
    "sum of one-body Hamiltonians"
   ]
  },
  {
   "cell_type": "markdown",
   "metadata": {},
   "source": [
    "<!-- Equation labels as ordinary links -->\n",
    "<div id=\"H1Expectation\"></div>\n",
    "\n",
    "$$\n",
    "\\begin{equation}\n",
    "  \\int \\Phi^*\\hat{H}_0\\Phi  d\\mathbf{\\tau}\n",
    "  = \\sum_{\\mu=1}^A \\int \\psi_{\\mu}^*(x)\\hat{h}_0\\psi_{\\mu}(x)dx\n",
    "  d\\mathbf{r}.\n",
    "  \\label{H1Expectation} \\tag{7}\n",
    "\\end{equation}\n",
    "$$"
   ]
  },
  {
   "cell_type": "markdown",
   "metadata": {},
   "source": [
    "We introduce the following shorthand for the above integral"
   ]
  },
  {
   "cell_type": "markdown",
   "metadata": {},
   "source": [
    "$$\n",
    "\\langle \\mu | \\hat{h}_0 | \\mu \\rangle = \\int \\psi_{\\mu}^*(x)\\hat{h}_0\\psi_{\\mu}(x)dx,\n",
    "$$"
   ]
  },
  {
   "cell_type": "markdown",
   "metadata": {},
   "source": [
    "and rewrite Eq. [(7)](#H1Expectation) as"
   ]
  },
  {
   "cell_type": "markdown",
   "metadata": {},
   "source": [
    "<!-- Equation labels as ordinary links -->\n",
    "<div id=\"H1Expectation1\"></div>\n",
    "\n",
    "$$\n",
    "\\begin{equation}\n",
    "  \\int \\Phi^*\\hat{H}_0\\Phi  d\\tau\n",
    "  = \\sum_{\\mu=1}^A \\langle \\mu | \\hat{h}_0 | \\mu \\rangle.\n",
    "  \\label{H1Expectation1} \\tag{8}\n",
    "\\end{equation}\n",
    "$$"
   ]
  },
  {
   "cell_type": "markdown",
   "metadata": {},
   "source": [
    "The expectation value of the two-body part of the Hamiltonian is obtained in a\n",
    "similar manner. We have"
   ]
  },
  {
   "cell_type": "markdown",
   "metadata": {},
   "source": [
    "$$\n",
    "\\int \\Phi^*\\hat{H}_I\\Phi d\\mathbf{\\tau} \n",
    "  = A! \\int \\Phi_H^*\\hat{A}\\hat{H}_I\\hat{A}\\Phi_H d\\mathbf{\\tau},\n",
    "$$"
   ]
  },
  {
   "cell_type": "markdown",
   "metadata": {},
   "source": [
    "which reduces to"
   ]
  },
  {
   "cell_type": "markdown",
   "metadata": {},
   "source": [
    "$$\n",
    "\\int \\Phi^*\\hat{H}_I\\Phi d\\mathbf{\\tau} \n",
    "  = \\sum_{i\\le j=1}^A \\sum_{p} (-)^p\\int \n",
    "  \\Phi_H^*\\hat{v}(r_{ij})\\hat{P}\\Phi_H d\\mathbf{\\tau},\n",
    "$$"
   ]
  },
  {
   "cell_type": "markdown",
   "metadata": {},
   "source": [
    "by following the same arguments as for the one-body\n",
    "Hamiltonian. \n",
    "\n",
    "\n",
    "\n",
    "Because of the dependence on the inter-particle distance $r_{ij}$,  permutations of\n",
    "any two particles no longer vanish, and we get"
   ]
  },
  {
   "cell_type": "markdown",
   "metadata": {},
   "source": [
    "$$\n",
    "\\int \\Phi^*\\hat{H}_I\\Phi d\\mathbf{\\tau} \n",
    "  = \\sum_{i < j=1}^A \\int  \n",
    "  \\Phi_H^*\\hat{v}(r_{ij})(1-P_{ij})\\Phi_H d\\mathbf{\\tau}.\n",
    "$$"
   ]
  },
  {
   "cell_type": "markdown",
   "metadata": {},
   "source": [
    "where $P_{ij}$ is the permutation operator that interchanges\n",
    "particle $i$ and particle $j$. Again we use the assumption that the single-particle wave functions\n",
    "are orthogonal. \n",
    "\n",
    "\n",
    "\n",
    "\n",
    "\n",
    "We obtain"
   ]
  },
  {
   "cell_type": "markdown",
   "metadata": {},
   "source": [
    "$$\n",
    "\\begin{equation}\n",
    "  \\int \\Phi^*\\hat{H}_I\\Phi d\\mathbf{\\tau} \n",
    "  = \\frac{1}{2}\\sum_{\\mu=1}^A\\sum_{\\nu=1}^A\n",
    "    \\left[ \\int \\psi_{\\mu}^*(x_i)\\psi_{\\nu}^*(x_j)\\hat{v}(r_{ij})\\psi_{\\mu}(x_i)\\psi_{\\nu}(x_j)\n",
    "    dx_idx_j \\right.\n",
    "\\end{equation}\n",
    "$$"
   ]
  },
  {
   "cell_type": "markdown",
   "metadata": {},
   "source": [
    "<!-- Equation labels as ordinary links -->\n",
    "<div id=\"H2Expectation\"></div>\n",
    "\n",
    "$$\n",
    "\\begin{equation} \n",
    "  \\left.\n",
    "  - \\int \\psi_{\\mu}^*(x_i)\\psi_{\\nu}^*(x_j)\n",
    "  \\hat{v}(r_{ij})\\psi_{\\nu}(x_i)\\psi_{\\mu}(x_j)\n",
    "  dx_idx_j\n",
    "  \\right]. \\label{H2Expectation} \\tag{9}\n",
    "\\end{equation}\n",
    "$$"
   ]
  },
  {
   "cell_type": "markdown",
   "metadata": {},
   "source": [
    "The first term is the so-called direct term. It is frequently also called the  Hartree term, \n",
    "while the second is due to the Pauli principle and is called\n",
    "the exchange term or just the Fock term.\n",
    "The factor  $1/2$ is introduced because we now run over\n",
    "all pairs twice. \n",
    "\n",
    "\n",
    "\n",
    "\n",
    "The last equation allows us to  introduce some further definitions.  \n",
    "The single-particle wave functions $\\psi_{\\mu}(x)$, defined by the quantum numbers $\\mu$ and $x$\n",
    "are defined as the overlap"
   ]
  },
  {
   "cell_type": "markdown",
   "metadata": {},
   "source": [
    "$$\n",
    "\\psi_{\\alpha}(x)  = \\langle x | \\alpha \\rangle .\n",
    "$$"
   ]
  },
  {
   "cell_type": "markdown",
   "metadata": {},
   "source": [
    "We introduce the following shorthands for the above two integrals"
   ]
  },
  {
   "cell_type": "markdown",
   "metadata": {},
   "source": [
    "$$\n",
    "\\langle \\mu\\nu|\\hat{v}|\\mu\\nu\\rangle =  \\int \\psi_{\\mu}^*(x_i)\\psi_{\\nu}^*(x_j)\\hat{v}(r_{ij})\\psi_{\\mu}(x_i)\\psi_{\\nu}(x_j)\n",
    "    dx_idx_j,\n",
    "$$"
   ]
  },
  {
   "cell_type": "markdown",
   "metadata": {},
   "source": [
    "and"
   ]
  },
  {
   "cell_type": "markdown",
   "metadata": {},
   "source": [
    "$$\n",
    "\\langle \\mu\\nu|\\hat{v}|\\nu\\mu\\rangle = \\int \\psi_{\\mu}^*(x_i)\\psi_{\\nu}^*(x_j)\n",
    "  \\hat{v}(r_{ij})\\psi_{\\nu}(x_i)\\psi_{\\mu}(x_j)\n",
    "  dx_idx_j.\n",
    "$$"
   ]
  },
  {
   "cell_type": "markdown",
   "metadata": {},
   "source": [
    "## Derivation of Hartree-Fock equations in coordinate space\n",
    "\n",
    "Let us denote the ground state energy by $E_0$. According to the\n",
    "variational principle we have"
   ]
  },
  {
   "cell_type": "markdown",
   "metadata": {},
   "source": [
    "$$\n",
    "E_0 \\le E[\\Phi] = \\int \\Phi^*\\hat{H}\\Phi d\\mathbf{\\tau}\n",
    "$$"
   ]
  },
  {
   "cell_type": "markdown",
   "metadata": {},
   "source": [
    "where $\\Phi$ is a trial function which we assume to be normalized"
   ]
  },
  {
   "cell_type": "markdown",
   "metadata": {},
   "source": [
    "$$\n",
    "\\int \\Phi^*\\Phi d\\mathbf{\\tau} = 1,\n",
    "$$"
   ]
  },
  {
   "cell_type": "markdown",
   "metadata": {},
   "source": [
    "where we have used the shorthand $d\\mathbf{\\tau}=dx_1dx_2\\dots dx_A$.\n",
    "\n",
    "\n",
    "\n",
    "\n",
    "In the Hartree-Fock method the trial function is a Slater\n",
    "determinant which can be rewritten as"
   ]
  },
  {
   "cell_type": "markdown",
   "metadata": {},
   "source": [
    "$$\n",
    "\\Psi(x_1,x_2,\\dots,x_A,\\alpha,\\beta,\\dots,\\nu) = \\frac{1}{\\sqrt{A!}}\\sum_{P} (-)^PP\\psi_{\\alpha}(x_1)\n",
    "    \\psi_{\\beta}(x_2)\\dots\\psi_{\\nu}(x_A)=\\sqrt{A!}\\hat{A}\\Phi_H,\n",
    "$$"
   ]
  },
  {
   "cell_type": "markdown",
   "metadata": {},
   "source": [
    "where we have introduced the anti-symmetrization operator $\\hat{A}$ defined by the \n",
    "summation over all possible permutations *p* of two fermions.\n",
    "It is defined as"
   ]
  },
  {
   "cell_type": "markdown",
   "metadata": {},
   "source": [
    "$$\n",
    "\\hat{A} = \\frac{1}{A!}\\sum_{p} (-)^p\\hat{P},\n",
    "$$"
   ]
  },
  {
   "cell_type": "markdown",
   "metadata": {},
   "source": [
    "with the the Hartree-function given by the simple product of all possible single-particle function"
   ]
  },
  {
   "cell_type": "markdown",
   "metadata": {},
   "source": [
    "$$\n",
    "\\Phi_H(x_1,x_2,\\dots,x_A,\\alpha,\\beta,\\dots,\\nu) =\n",
    "  \\psi_{\\alpha}(x_1)\n",
    "    \\psi_{\\beta}(x_2)\\dots\\psi_{\\nu}(x_A).\n",
    "$$"
   ]
  },
  {
   "cell_type": "markdown",
   "metadata": {},
   "source": [
    "Our functional is written as"
   ]
  },
  {
   "cell_type": "markdown",
   "metadata": {},
   "source": [
    "$$\n",
    "E[\\Phi] = \\sum_{\\mu=1}^A \\int \\psi_{\\mu}^*(x_i)\\hat{h}_0(x_i)\\psi_{\\mu}(x_i) dx_i \n",
    "  + \\frac{1}{2}\\sum_{\\mu=1}^A\\sum_{\\nu=1}^A\n",
    "   \\left[ \\int \\psi_{\\mu}^*(x_i)\\psi_{\\nu}^*(x_j)\\hat{v}(r_{ij})\\psi_{\\mu}(x_i)\\psi_{\\nu}(x_j)dx_idx_j- \\int \\psi_{\\mu}^*(x_i)\\psi_{\\nu}^*(x_j)\n",
    " \\hat{v}(r_{ij})\\psi_{\\nu}(x_i)\\psi_{\\mu}(x_j)dx_idx_j\\right]\n",
    "$$"
   ]
  },
  {
   "cell_type": "markdown",
   "metadata": {},
   "source": [
    "The more compact version reads"
   ]
  },
  {
   "cell_type": "markdown",
   "metadata": {},
   "source": [
    "$$\n",
    "E[\\Phi] \n",
    "  = \\sum_{\\mu}^A \\langle \\mu | \\hat{h}_0 | \\mu\\rangle+ \\frac{1}{2}\\sum_{\\mu\\nu}^A\\left[\\langle \\mu\\nu |\\hat{v}|\\mu\\nu\\rangle-\\langle \\nu\\mu |\\hat{v}|\\mu\\nu\\rangle\\right].\n",
    "$$"
   ]
  },
  {
   "cell_type": "markdown",
   "metadata": {},
   "source": [
    "Since the interaction is invariant under the interchange of two particles it means for example that we have"
   ]
  },
  {
   "cell_type": "markdown",
   "metadata": {},
   "source": [
    "$$\n",
    "\\langle \\mu\\nu|\\hat{v}|\\mu\\nu\\rangle =  \\langle \\nu\\mu|\\hat{v}|\\nu\\mu\\rangle,\n",
    "$$"
   ]
  },
  {
   "cell_type": "markdown",
   "metadata": {},
   "source": [
    "or in the more general case"
   ]
  },
  {
   "cell_type": "markdown",
   "metadata": {},
   "source": [
    "$$\n",
    "\\langle \\mu\\nu|\\hat{v}|\\sigma\\tau\\rangle =  \\langle \\nu\\mu|\\hat{v}|\\tau\\sigma\\rangle.\n",
    "$$"
   ]
  },
  {
   "cell_type": "markdown",
   "metadata": {},
   "source": [
    "The direct and exchange matrix elements can be  brought together if we define the antisymmetrized matrix element"
   ]
  },
  {
   "cell_type": "markdown",
   "metadata": {},
   "source": [
    "$$\n",
    "\\langle \\mu\\nu|\\hat{v}|\\mu\\nu\\rangle_{AS}= \\langle \\mu\\nu|\\hat{v}|\\mu\\nu\\rangle-\\langle \\mu\\nu|\\hat{v}|\\nu\\mu\\rangle,\n",
    "$$"
   ]
  },
  {
   "cell_type": "markdown",
   "metadata": {},
   "source": [
    "or for a general matrix element"
   ]
  },
  {
   "cell_type": "markdown",
   "metadata": {},
   "source": [
    "$$\n",
    "\\langle \\mu\\nu|\\hat{v}|\\sigma\\tau\\rangle_{AS}= \\langle \\mu\\nu|\\hat{v}|\\sigma\\tau\\rangle-\\langle \\mu\\nu|\\hat{v}|\\tau\\sigma\\rangle.\n",
    "$$"
   ]
  },
  {
   "cell_type": "markdown",
   "metadata": {},
   "source": [
    "It has the symmetry property"
   ]
  },
  {
   "cell_type": "markdown",
   "metadata": {},
   "source": [
    "$$\n",
    "\\langle \\mu\\nu|\\hat{v}|\\sigma\\tau\\rangle_{AS}= -\\langle \\mu\\nu|\\hat{v}|\\tau\\sigma\\rangle_{AS}=-\\langle \\nu\\mu|\\hat{v}|\\sigma\\tau\\rangle_{AS}.\n",
    "$$"
   ]
  },
  {
   "cell_type": "markdown",
   "metadata": {},
   "source": [
    "The antisymmetric matrix element is also hermitian, implying"
   ]
  },
  {
   "cell_type": "markdown",
   "metadata": {},
   "source": [
    "$$\n",
    "\\langle \\mu\\nu|\\hat{v}|\\sigma\\tau\\rangle_{AS}= \\langle \\sigma\\tau|\\hat{v}|\\mu\\nu\\rangle_{AS}.\n",
    "$$"
   ]
  },
  {
   "cell_type": "markdown",
   "metadata": {},
   "source": [
    "With these notations we rewrite the Hartree-Fock functional as"
   ]
  },
  {
   "cell_type": "markdown",
   "metadata": {},
   "source": [
    "<!-- Equation labels as ordinary links -->\n",
    "<div id=\"H2Expectation2\"></div>\n",
    "\n",
    "$$\n",
    "\\begin{equation}\n",
    "  \\int \\Phi^*\\hat{H_I}\\Phi d\\mathbf{\\tau} \n",
    "  = \\frac{1}{2}\\sum_{\\mu=1}^A\\sum_{\\nu=1}^A \\langle \\mu\\nu|\\hat{v}|\\mu\\nu\\rangle_{AS}. \\label{H2Expectation2} \\tag{10}\n",
    "\\end{equation}\n",
    "$$"
   ]
  },
  {
   "cell_type": "markdown",
   "metadata": {},
   "source": [
    "Adding the contribution from the one-body operator $\\hat{H}_0$ to\n",
    "[(10)](#H2Expectation2) we obtain the energy functional"
   ]
  },
  {
   "cell_type": "markdown",
   "metadata": {},
   "source": [
    "<!-- Equation labels as ordinary links -->\n",
    "<div id=\"FunctionalEPhi\"></div>\n",
    "\n",
    "$$\n",
    "\\begin{equation}\n",
    "  E[\\Phi] \n",
    "  = \\sum_{\\mu=1}^A \\langle \\mu | h | \\mu \\rangle +\n",
    "  \\frac{1}{2}\\sum_{{\\mu}=1}^A\\sum_{{\\nu}=1}^A \\langle \\mu\\nu|\\hat{v}|\\mu\\nu\\rangle_{AS}. \\label{FunctionalEPhi} \\tag{11}\n",
    "\\end{equation}\n",
    "$$"
   ]
  },
  {
   "cell_type": "markdown",
   "metadata": {},
   "source": [
    "In our coordinate space derivations below we will spell out the Hartree-Fock equations in terms of their integrals.\n",
    "\n",
    "\n",
    "\n",
    "\n",
    "If we generalize the Euler-Lagrange equations to more variables \n",
    "and introduce $N^2$ Lagrange multipliers which we denote by \n",
    "$\\epsilon_{\\mu\\nu}$, we can write the variational equation for the functional of $E$"
   ]
  },
  {
   "cell_type": "markdown",
   "metadata": {},
   "source": [
    "$$\n",
    "\\delta E - \\sum_{\\mu\\nu}^A \\epsilon_{\\mu\\nu} \\delta\n",
    "  \\int \\psi_{\\mu}^* \\psi_{\\nu} = 0.\n",
    "$$"
   ]
  },
  {
   "cell_type": "markdown",
   "metadata": {},
   "source": [
    "For the orthogonal wave functions $\\psi_{i}$ this reduces to"
   ]
  },
  {
   "cell_type": "markdown",
   "metadata": {},
   "source": [
    "$$\n",
    "\\delta E - \\sum_{\\mu=1}^A \\epsilon_{\\mu} \\delta\n",
    "  \\int \\psi_{\\mu}^* \\psi_{\\mu} = 0.\n",
    "$$"
   ]
  },
  {
   "cell_type": "markdown",
   "metadata": {},
   "source": [
    "Variation with respect to the single-particle wave functions $\\psi_{\\mu}$ yields then"
   ]
  },
  {
   "cell_type": "markdown",
   "metadata": {},
   "source": [
    "6\n",
    "2\n",
    " \n",
    "<\n",
    "<\n",
    "<\n",
    "!\n",
    "!\n",
    "M\n",
    "A\n",
    "T\n",
    "H\n",
    "_\n",
    "B\n",
    "L\n",
    "O\n",
    "C\n",
    "K"
   ]
  },
  {
   "cell_type": "markdown",
   "metadata": {},
   "source": [
    "$$\n",
    "\\sum_{\\mu=1}^A \\int \\psi_{\\mu}^*\\hat{h_0}(x_i)\\delta\\psi_{\\mu}\n",
    "  dx_i \n",
    "  + \\frac{1}{2}\\sum_{{\\mu}=1}^A\\sum_{{\\nu}=1}^A \\left[ \\int\n",
    "  \\psi_{\\mu}^*\\psi_{\\nu}^*\\hat{v}(r_{ij})\\delta\\psi_{\\mu}\\psi_{\\nu} dx_idx_j- \\int\n",
    "  \\psi_{\\mu}^*\\psi_{\\nu}^*\\hat{v}(r_{ij})\\psi_{\\nu}\\delta\\psi_{\\mu}\n",
    "  dx_idx_j \\right]-  \\sum_{{\\mu}=1}^A E_{\\mu} \\int \\delta\\psi_{\\mu}^*\n",
    "  \\psi_{\\mu}dx_i\n",
    "  -  \\sum_{{\\mu}=1}^A E_{\\mu} \\int \\psi_{\\mu}^*\n",
    "  \\delta\\psi_{\\mu}dx_i = 0.\n",
    "$$"
   ]
  },
  {
   "cell_type": "markdown",
   "metadata": {},
   "source": [
    "Although the variations $\\delta\\psi$ and $\\delta\\psi^*$ are not\n",
    "independent, they may in fact be treated as such, so that the \n",
    "terms dependent on either $\\delta\\psi$ and $\\delta\\psi^*$ individually \n",
    "may be set equal to zero. To see this, simply \n",
    "replace the arbitrary variation $\\delta\\psi$ by $i\\delta\\psi$, so that\n",
    "$\\delta\\psi^*$ is replaced by $-i\\delta\\psi^*$, and combine the two\n",
    "equations. We thus arrive at the Hartree-Fock equations"
   ]
  },
  {
   "cell_type": "markdown",
   "metadata": {},
   "source": [
    "<!-- Equation labels as ordinary links -->\n",
    "<div id=\"eq:hartreefockcoordinatespace\"></div>\n",
    "\n",
    "$$\n",
    "\\begin{equation}\n",
    "\\left[ -\\frac{1}{2}\\nabla_i^2+ \\sum_{\\nu=1}^A\\int \\psi_{\\nu}^*(x_j)\\hat{v}(r_{ij})\\psi_{\\nu}(x_j)dx_j \\right]\\psi_{\\mu}(x_i) - \\left[ \\sum_{{\\nu}=1}^A \\int\\psi_{\\nu}^*(x_j)\\hat{v}(r_{ij})\\psi_{\\mu}(x_j) dx_j\\right] \\psi_{\\nu}(x_i) = \\epsilon_{\\mu} \\psi_{\\mu}(x_i).  \\label{eq:hartreefockcoordinatespace} \\tag{12}\n",
    "\\end{equation}\n",
    "$$"
   ]
  },
  {
   "cell_type": "markdown",
   "metadata": {},
   "source": [
    "Notice that the integration $\\int dx_j$ implies an\n",
    "integration over the spatial coordinates $\\mathbf{r_j}$ and a summation\n",
    "over the spin-coordinate of fermion $j$. We note that the factor of $1/2$ in front of the sum involving the two-body interaction, has been removed. This is due to the fact that we need to vary both $\\delta\\psi_{\\mu}^*$ and\n",
    "$\\delta\\psi_{\\nu}^*$. Using the symmetry properties of the two-body interaction and interchanging $\\mu$ and $\\nu$\n",
    "as summation indices, we obtain two identical terms. \n",
    "\n",
    "\n",
    "\n",
    "\n",
    "The two first terms in the last equation are the one-body kinetic energy and the\n",
    "electron-nucleus potential. The third or *direct* term is the averaged electronic repulsion of the other\n",
    "electrons. As written, the\n",
    "term includes the *self-interaction* of \n",
    "electrons when $\\mu=\\nu$. The self-interaction is cancelled in the fourth\n",
    "term, or the *exchange* term. The exchange term results from our\n",
    "inclusion of the Pauli principle and the assumed determinantal form of\n",
    "the wave-function. Equation [(12)](#eq:hartreefockcoordinatespace), in addition to the kinetic energy and the attraction from the atomic nucleus that confines the motion of a single electron,   represents now the motion of a single-particle modified by the two-body interaction. The additional contribution to the Schroedinger equation due to the two-body interaction, represents a mean field set up by all the other bystanding electrons, the latter given by the sum over all single-particle states occupied by $N$ electrons. \n",
    "\n",
    "The Hartree-Fock equation is an example of an integro-differential equation. These equations involve repeated calculations of integrals, in addition to the solution of a set of coupled differential equations. \n",
    "The Hartree-Fock equations can also be rewritten in terms of an eigenvalue problem. The solution of an eigenvalue problem represents often a more practical algorithm and the  solution of  coupled  integro-differential equations.\n",
    "This alternative derivation of the Hartree-Fock equations is given below.\n",
    "\n",
    "\n",
    "\n",
    "\n",
    "## Analysis of Hartree-Fock equations in coordinate space\n",
    "\n",
    "  A theoretically convenient form of the\n",
    "Hartree-Fock equation is to regard the direct and exchange operator\n",
    "defined through"
   ]
  },
  {
   "cell_type": "markdown",
   "metadata": {},
   "source": [
    "$$\n",
    "V_{\\mu}^{d}(x_i) = \\int \\psi_{\\mu}^*(x_j) \n",
    " \\hat{v}(r_{ij})\\psi_{\\mu}(x_j) dx_j\n",
    "$$"
   ]
  },
  {
   "cell_type": "markdown",
   "metadata": {},
   "source": [
    "and"
   ]
  },
  {
   "cell_type": "markdown",
   "metadata": {},
   "source": [
    "$$\n",
    "V_{\\mu}^{ex}(x_i) g(x_i) \n",
    "  = \\left(\\int \\psi_{\\mu}^*(x_j) \n",
    " \\hat{v}(r_{ij})g(x_j) dx_j\n",
    "  \\right)\\psi_{\\mu}(x_i),\n",
    "$$"
   ]
  },
  {
   "cell_type": "markdown",
   "metadata": {},
   "source": [
    "respectively. \n",
    "\n",
    "\n",
    "\n",
    "\n",
    "The function $g(x_i)$ is an arbitrary function,\n",
    "and by the substitution $g(x_i) = \\psi_{\\nu}(x_i)$\n",
    "we get"
   ]
  },
  {
   "cell_type": "markdown",
   "metadata": {},
   "source": [
    "$$\n",
    "V_{\\mu}^{ex}(x_i) \\psi_{\\nu}(x_i) \n",
    "  = \\left(\\int \\psi_{\\mu}^*(x_j) \n",
    " \\hat{v}(r_{ij})\\psi_{\\nu}(x_j)\n",
    "  dx_j\\right)\\psi_{\\mu}(x_i).\n",
    "$$"
   ]
  },
  {
   "cell_type": "markdown",
   "metadata": {},
   "source": [
    "We may then rewrite the Hartree-Fock equations as"
   ]
  },
  {
   "cell_type": "markdown",
   "metadata": {},
   "source": [
    "$$\n",
    "\\hat{h}^{HF}(x_i) \\psi_{\\nu}(x_i) = \\epsilon_{\\nu}\\psi_{\\nu}(x_i),\n",
    "$$"
   ]
  },
  {
   "cell_type": "markdown",
   "metadata": {},
   "source": [
    "with"
   ]
  },
  {
   "cell_type": "markdown",
   "metadata": {},
   "source": [
    "$$\n",
    "\\hat{h}^{HF}(x_i)= \\hat{h}_0(x_i) + \\sum_{\\mu=1}^AV_{\\mu}^{d}(x_i) -\n",
    "  \\sum_{\\mu=1}^AV_{\\mu}^{ex}(x_i),\n",
    "$$"
   ]
  },
  {
   "cell_type": "markdown",
   "metadata": {},
   "source": [
    "and where $\\hat{h}_0(i)$ is the one-body part. The latter is normally chosen as a part which yields solutions in closed form. The harmonic oscilltor is a classical problem thereof.\n",
    "We normally rewrite the last equation as"
   ]
  },
  {
   "cell_type": "markdown",
   "metadata": {},
   "source": [
    "$$\n",
    "\\hat{h}^{HF}(x_i)= \\hat{h}_0(x_i) + \\hat{u}^{HF}(x_i).\n",
    "$$"
   ]
  },
  {
   "cell_type": "markdown",
   "metadata": {},
   "source": [
    "## Hartree-Fock by varying the coefficients of a wave function expansion\n",
    "\n",
    "Another possibility is to expand the single-particle functions in a known basis  and vary the coefficients, \n",
    "that is, the new single-particle wave function is written as a linear expansion\n",
    "in terms of a fixed chosen orthogonal basis (for example the well-known harmonic oscillator functions or the hydrogen-like functions etc).\n",
    "We define our new Hartree-Fock single-particle basis by performing a unitary transformation \n",
    "on our previous basis (labelled with greek indices) as"
   ]
  },
  {
   "cell_type": "markdown",
   "metadata": {},
   "source": [
    "<!-- Equation labels as ordinary links -->\n",
    "<div id=\"eq:newbasis\"></div>\n",
    "\n",
    "$$\n",
    "\\begin{equation}\n",
    "\\psi_p^{HF}  = \\sum_{\\lambda} C_{p\\lambda}\\phi_{\\lambda}. \\label{eq:newbasis} \\tag{13}\n",
    "\\end{equation}\n",
    "$$"
   ]
  },
  {
   "cell_type": "markdown",
   "metadata": {},
   "source": [
    "In this case we vary the coefficients $C_{p\\lambda}$. If the basis has infinitely many solutions, we need\n",
    "to truncate the above sum.  We assume that the basis $\\phi_{\\lambda}$ is orthogonal. A unitary transformation keeps the orthogonality, as discussed in exercise 1 below.  \n",
    "\n",
    "\n",
    "\n",
    "\n",
    "It is normal to choose a single-particle basis defined as the eigenfunctions\n",
    "of parts of the full Hamiltonian. The typical situation consists of the solutions of the one-body part of the Hamiltonian, that is we have"
   ]
  },
  {
   "cell_type": "markdown",
   "metadata": {},
   "source": [
    "$$\n",
    "\\hat{h}_0\\phi_{\\lambda}=\\epsilon_{\\lambda}\\phi_{\\lambda}.\n",
    "$$"
   ]
  },
  {
   "cell_type": "markdown",
   "metadata": {},
   "source": [
    "The single-particle wave functions $\\phi_{\\lambda}({\\bf r})$, defined by the quantum numbers $\\lambda$ and ${\\bf r}$\n",
    "are defined as the overlap"
   ]
  },
  {
   "cell_type": "markdown",
   "metadata": {},
   "source": [
    "$$\n",
    "\\phi_{\\lambda}({\\bf r})  = \\langle {\\bf r} | \\lambda \\rangle .\n",
    "$$"
   ]
  },
  {
   "cell_type": "markdown",
   "metadata": {},
   "source": [
    "In our discussions hereafter we will use our definitions of single-particle states above and below the Fermi ($F$) level given by the labels\n",
    "$ijkl\\dots \\le F$ for so-called single-hole states and $abcd\\dots > F$ for so-called particle states.\n",
    "For general single-particle states we employ the labels $pqrs\\dots$. \n",
    "\n",
    "\n",
    "\n",
    "\n",
    "In Eq. [(11)](#FunctionalEPhi), restated here"
   ]
  },
  {
   "cell_type": "markdown",
   "metadata": {},
   "source": [
    "$$\n",
    "E[\\Phi] \n",
    "  = \\sum_{\\mu=1}^A \\langle \\mu | h | \\mu \\rangle +\n",
    "  \\frac{1}{2}\\sum_{{\\mu}=1}^A\\sum_{{\\nu}=1}^A \\langle \\mu\\nu|\\hat{v}|\\mu\\nu\\rangle_{AS},\n",
    "$$"
   ]
  },
  {
   "cell_type": "markdown",
   "metadata": {},
   "source": [
    "we found the expression for the energy functional in terms of the basis function $\\phi_{\\lambda}({\\bf r})$. We then  varied the above energy functional with respect to the basis functions $|\\mu \\rangle$. \n",
    "Now we are interested in defining a new basis defined in terms of\n",
    "a chosen basis as defined in Eq. [(13)](#eq:newbasis). We can then rewrite the energy functional as"
   ]
  },
  {
   "cell_type": "markdown",
   "metadata": {},
   "source": [
    "<!-- Equation labels as ordinary links -->\n",
    "<div id=\"FunctionalEPhi2\"></div>\n",
    "\n",
    "$$\n",
    "\\begin{equation}\n",
    "  E[\\Phi^{HF}] \n",
    "  = \\sum_{i=1}^A \\langle i | h | i \\rangle +\n",
    "  \\frac{1}{2}\\sum_{ij=1}^A\\langle ij|\\hat{v}|ij\\rangle_{AS}, \\label{FunctionalEPhi2} \\tag{14}\n",
    "\\end{equation}\n",
    "$$"
   ]
  },
  {
   "cell_type": "markdown",
   "metadata": {},
   "source": [
    "where $\\Phi^{HF}$ is the new Slater determinant defined by the new basis of Eq. [(13)](#eq:newbasis). \n",
    "\n",
    "\n",
    "\n",
    "\n",
    "\n",
    "Using Eq. [(13)](#eq:newbasis) we can rewrite Eq. [(14)](#FunctionalEPhi2) as"
   ]
  },
  {
   "cell_type": "markdown",
   "metadata": {},
   "source": [
    "<!-- Equation labels as ordinary links -->\n",
    "<div id=\"FunctionalEPhi3\"></div>\n",
    "\n",
    "$$\n",
    "\\begin{equation}\n",
    "  E[\\Psi] \n",
    "  = \\sum_{i=1}^A \\sum_{\\alpha\\beta} C^*_{i\\alpha}C_{i\\beta}\\langle \\alpha | h | \\beta \\rangle +\n",
    "  \\frac{1}{2}\\sum_{ij=1}^A\\sum_{{\\alpha\\beta\\gamma\\delta}} C^*_{i\\alpha}C^*_{j\\beta}C_{i\\gamma}C_{j\\delta}\\langle \\alpha\\beta|\\hat{v}|\\gamma\\delta\\rangle_{AS}. \\label{FunctionalEPhi3} \\tag{15}\n",
    "\\end{equation}\n",
    "$$"
   ]
  },
  {
   "cell_type": "markdown",
   "metadata": {},
   "source": [
    "We wish now to minimize the above functional. We introduce again a set of Lagrange multipliers, noting that\n",
    "since $\\langle i | j \\rangle = \\delta_{i,j}$ and $\\langle \\alpha | \\beta \\rangle = \\delta_{\\alpha,\\beta}$, \n",
    "the coefficients $C_{i\\gamma}$ obey the relation"
   ]
  },
  {
   "cell_type": "markdown",
   "metadata": {},
   "source": [
    "$$\n",
    "\\langle i | j \\rangle=\\delta_{i,j}=\\sum_{\\alpha\\beta} C^*_{i\\alpha}C_{i\\beta}\\langle \\alpha | \\beta \\rangle=\n",
    "\\sum_{\\alpha} C^*_{i\\alpha}C_{i\\alpha},\n",
    "$$"
   ]
  },
  {
   "cell_type": "markdown",
   "metadata": {},
   "source": [
    "which allows us to define a functional to be minimized that reads"
   ]
  },
  {
   "cell_type": "markdown",
   "metadata": {},
   "source": [
    "$$\n",
    "\\begin{equation}\n",
    "  F[\\Phi^{HF}]=E[\\Phi^{HF}] - \\sum_{i=1}^A\\epsilon_i\\sum_{\\alpha} C^*_{i\\alpha}C_{i\\alpha}.\n",
    "\\end{equation}\n",
    "$$"
   ]
  },
  {
   "cell_type": "markdown",
   "metadata": {},
   "source": [
    "Minimizing with respect to $C^*_{i\\alpha}$, remembering that the equations for $C^*_{i\\alpha}$ and $C_{i\\alpha}$\n",
    "can be written as two  independent equations, we obtain"
   ]
  },
  {
   "cell_type": "markdown",
   "metadata": {},
   "source": [
    "$$\n",
    "\\frac{d}{dC^*_{i\\alpha}}\\left[  E[\\Phi^{HF}] - \\sum_{j}\\epsilon_j\\sum_{\\alpha} C^*_{j\\alpha}C_{j\\alpha}\\right]=0,\n",
    "$$"
   ]
  },
  {
   "cell_type": "markdown",
   "metadata": {},
   "source": [
    "which yields for every single-particle state $i$ and index $\\alpha$ (recalling that the coefficients $C_{i\\alpha}$ are matrix elements of a unitary (or orthogonal for a real symmetric matrix) matrix)\n",
    "the following Hartree-Fock equations"
   ]
  },
  {
   "cell_type": "markdown",
   "metadata": {},
   "source": [
    "$$\n",
    "\\sum_{\\beta} C_{i\\beta}\\langle \\alpha | h | \\beta \\rangle+\n",
    "\\sum_{j=1}^A\\sum_{\\beta\\gamma\\delta} C^*_{j\\beta}C_{j\\delta}C_{i\\gamma}\\langle \\alpha\\beta|\\hat{v}|\\gamma\\delta\\rangle_{AS}=\\epsilon_i^{HF}C_{i\\alpha}.\n",
    "$$"
   ]
  },
  {
   "cell_type": "markdown",
   "metadata": {},
   "source": [
    "We can rewrite this equation as (changing dummy variables)"
   ]
  },
  {
   "cell_type": "markdown",
   "metadata": {},
   "source": [
    "$$\n",
    "\\sum_{\\beta} \\left\\{\\langle \\alpha | h | \\beta \\rangle+\n",
    "\\sum_{j}^A\\sum_{\\gamma\\delta} C^*_{j\\gamma}C_{j\\delta}\\langle \\alpha\\gamma|\\hat{v}|\\beta\\delta\\rangle_{AS}\\right\\}C_{i\\beta}=\\epsilon_i^{HF}C_{i\\alpha}.\n",
    "$$"
   ]
  },
  {
   "cell_type": "markdown",
   "metadata": {},
   "source": [
    "Note that the sums over greek indices run over the number of basis set functions (in principle an infinite number).\n",
    "\n",
    "\n",
    "\n",
    "\n",
    "\n",
    "Defining"
   ]
  },
  {
   "cell_type": "markdown",
   "metadata": {},
   "source": [
    "$$\n",
    "h_{\\alpha\\beta}^{HF}=\\langle \\alpha | h | \\beta \\rangle+\n",
    "\\sum_{j=1}^A\\sum_{\\gamma\\delta} C^*_{j\\gamma}C_{j\\delta}\\langle \\alpha\\gamma|\\hat{v}|\\beta\\delta\\rangle_{AS},\n",
    "$$"
   ]
  },
  {
   "cell_type": "markdown",
   "metadata": {},
   "source": [
    "we can rewrite the new equations as"
   ]
  },
  {
   "cell_type": "markdown",
   "metadata": {},
   "source": [
    "<!-- Equation labels as ordinary links -->\n",
    "<div id=\"eq:newhf\"></div>\n",
    "\n",
    "$$\n",
    "\\begin{equation}\n",
    "\\sum_{\\gamma}h_{\\alpha\\beta}^{HF}C_{i\\beta}=\\epsilon_i^{HF}C_{i\\alpha}. \\label{eq:newhf} \\tag{16}\n",
    "\\end{equation}\n",
    "$$"
   ]
  },
  {
   "cell_type": "markdown",
   "metadata": {},
   "source": [
    "The latter is nothing but a standard eigenvalue problem. Compared with Eq. [(12)](#eq:hartreefockcoordinatespace),\n",
    "we see that we do not need to compute any integrals in an iterative procedure for solving the equations.\n",
    "It suffices to tabulate the matrix elements $\\langle \\alpha | h | \\beta \\rangle$ and $\\langle \\alpha\\gamma|\\hat{v}|\\beta\\delta\\rangle_{AS}$ once and for all. Successive iterations require thus only a look-up in tables over one-body and two-body matrix elements. These details will be discussed below when we solve the Hartree-Fock equations numerical. \n",
    "\n",
    "\n",
    "\n",
    "## Hartree-Fock algorithm\n",
    "\n",
    "Our Hartree-Fock matrix  is thus"
   ]
  },
  {
   "cell_type": "markdown",
   "metadata": {},
   "source": [
    "$$\n",
    "\\hat{h}_{\\alpha\\beta}^{HF}=\\langle \\alpha | \\hat{h}_0 | \\beta \\rangle+\n",
    "\\sum_{j=1}^A\\sum_{\\gamma\\delta} C^*_{j\\gamma}C_{j\\delta}\\langle \\alpha\\gamma|\\hat{v}|\\beta\\delta\\rangle_{AS}.\n",
    "$$"
   ]
  },
  {
   "cell_type": "markdown",
   "metadata": {},
   "source": [
    "The Hartree-Fock equations are solved in an iterative waym starting with a guess for the coefficients $C_{j\\gamma}=\\delta_{j,\\gamma}$ and solving the equations by diagonalization till the new single-particle energies\n",
    "$\\epsilon_i^{\\mathrm{HF}}$ do not change anymore by a prefixed quantity. \n",
    "\n",
    "\n",
    "\n",
    "\n",
    "Normally we assume that the single-particle basis $|\\beta\\rangle$ forms an eigenbasis for the operator\n",
    "$\\hat{h}_0$, meaning that the Hartree-Fock matrix becomes"
   ]
  },
  {
   "cell_type": "markdown",
   "metadata": {},
   "source": [
    "$$\n",
    "\\hat{h}_{\\alpha\\beta}^{HF}=\\epsilon_{\\alpha}\\delta_{\\alpha,\\beta}+\n",
    "\\sum_{j=1}^A\\sum_{\\gamma\\delta} C^*_{j\\gamma}C_{j\\delta}\\langle \\alpha\\gamma|\\hat{v}|\\beta\\delta\\rangle_{AS}.\n",
    "$$"
   ]
  },
  {
   "cell_type": "markdown",
   "metadata": {},
   "source": [
    "The Hartree-Fock eigenvalue problem"
   ]
  },
  {
   "cell_type": "markdown",
   "metadata": {},
   "source": [
    "$$\n",
    "\\sum_{\\beta}\\hat{h}_{\\alpha\\beta}^{HF}C_{i\\beta}=\\epsilon_i^{\\mathrm{HF}}C_{i\\alpha},\n",
    "$$"
   ]
  },
  {
   "cell_type": "markdown",
   "metadata": {},
   "source": [
    "can be written out in a more compact form as"
   ]
  },
  {
   "cell_type": "markdown",
   "metadata": {},
   "source": [
    "$$\n",
    "\\hat{h}^{HF}\\hat{C}=\\epsilon^{\\mathrm{HF}}\\hat{C}.\n",
    "$$"
   ]
  },
  {
   "cell_type": "markdown",
   "metadata": {},
   "source": [
    "The Hartree-Fock equations are, in their simplest form, solved in an iterative way, starting with a guess for the\n",
    "coefficients $C_{i\\alpha}$. We label the coefficients as $C_{i\\alpha}^{(n)}$, where the subscript $n$ stands for iteration $n$.\n",
    "To set up the algorithm we can proceed as follows:\n",
    "\n",
    " * We start with a guess $C_{i\\alpha}^{(0)}=\\delta_{i,\\alpha}$. Alternatively, we could have used random starting values as long as the vectors are normalized. Another possibility is to give states below the Fermi level a larger weight.\n",
    "\n",
    " * The Hartree-Fock matrix simplifies then to (assuming that the coefficients $C_{i\\alpha} $  are real)"
   ]
  },
  {
   "cell_type": "markdown",
   "metadata": {},
   "source": [
    "$$\n",
    "\\hat{h}_{\\alpha\\beta}^{HF}=\\epsilon_{\\alpha}\\delta_{\\alpha,\\beta}+\n",
    "\\sum_{j = 1}^A\\sum_{\\gamma\\delta} C_{j\\gamma}^{(0)}C_{j\\delta}^{(0)}\\langle \\alpha\\gamma|\\hat{v}|\\beta\\delta\\rangle_{AS}.\n",
    "$$"
   ]
  },
  {
   "cell_type": "markdown",
   "metadata": {},
   "source": [
    "Solving the Hartree-Fock eigenvalue problem yields then new eigenvectors $C_{i\\alpha}^{(1)}$ and eigenvalues\n",
    "$\\epsilon_i^{HF(1)}$. \n",
    " * With the new eigenvalues we can set up a new Hartree-Fock potential"
   ]
  },
  {
   "cell_type": "markdown",
   "metadata": {},
   "source": [
    "$$\n",
    "\\sum_{j = 1}^A\\sum_{\\gamma\\delta} C_{j\\gamma}^{(1)}C_{j\\delta}^{(1)}\\langle \\alpha\\gamma|\\hat{v}|\\beta\\delta\\rangle_{AS}.\n",
    "$$"
   ]
  },
  {
   "cell_type": "markdown",
   "metadata": {},
   "source": [
    "The diagonalization with the new Hartree-Fock potential yields new eigenvectors and eigenvalues.\n",
    "This process is continued till for example"
   ]
  },
  {
   "cell_type": "markdown",
   "metadata": {},
   "source": [
    "$$\n",
    "\\frac{\\sum_{p} |\\epsilon_i^{(n)}-\\epsilon_i^{(n-1)}|}{m} \\le \\lambda,\n",
    "$$"
   ]
  },
  {
   "cell_type": "markdown",
   "metadata": {},
   "source": [
    "where $\\lambda$ is a user prefixed quantity ($\\lambda \\sim 10^{-8}$ or smaller) and $p$ runs over all calculated single-particle\n",
    "energies and $m$ is the number of single-particle states.\n",
    "\n",
    "* TODO: add code with Hartree-Fock for nuclear system\n",
    "\n",
    "## Analysis of Hartree-Fock equations and Koopman's theorem\n",
    "\n",
    "We can rewrite the ground state energy by adding and subtracting $\\hat{u}^{HF}(x_i)$"
   ]
  },
  {
   "cell_type": "markdown",
   "metadata": {},
   "source": [
    "$$\n",
    "E_0^{HF} =\\langle \\Phi_0 | \\hat{H} | \\Phi_0\\rangle = \n",
    "\\sum_{i\\le F}^A \\langle i | \\hat{h}_0 +\\hat{u}^{HF}| j\\rangle+ \\frac{1}{2}\\sum_{i\\le F}^A\\sum_{j \\le F}^A\\left[\\langle ij |\\hat{v}|ij \\rangle-\\langle ij|\\hat{v}|ji\\rangle\\right]-\\sum_{i\\le F}^A \\langle i |\\hat{u}^{HF}| i\\rangle,\n",
    "$$"
   ]
  },
  {
   "cell_type": "markdown",
   "metadata": {},
   "source": [
    "which results in"
   ]
  },
  {
   "cell_type": "markdown",
   "metadata": {},
   "source": [
    "$$\n",
    "E_0^{HF}\n",
    "  = \\sum_{i\\le F}^A \\varepsilon_i^{HF} + \\frac{1}{2}\\sum_{i\\le F}^A\\sum_{j \\le F}^A\\left[\\langle ij |\\hat{v}|ij \\rangle-\\langle ij|\\hat{v}|ji\\rangle\\right]-\\sum_{i\\le F}^A \\langle i |\\hat{u}^{HF}| i\\rangle.\n",
    "$$"
   ]
  },
  {
   "cell_type": "markdown",
   "metadata": {},
   "source": [
    "Our single-particle states $ijk\\dots$ are now single-particle states obtained from the solution of the Hartree-Fock equations.\n",
    "\n",
    "\n",
    "\n",
    "Using our definition of the Hartree-Fock single-particle energies we obtain then the following expression for the total ground-state energy"
   ]
  },
  {
   "cell_type": "markdown",
   "metadata": {},
   "source": [
    "$$\n",
    "E_0^{HF}\n",
    "  = \\sum_{i\\le F}^A \\varepsilon_i - \\frac{1}{2}\\sum_{i\\le F}^A\\sum_{j \\le F}^A\\left[\\langle ij |\\hat{v}|ij \\rangle-\\langle ij|\\hat{v}|ji\\rangle\\right].\n",
    "$$"
   ]
  },
  {
   "cell_type": "markdown",
   "metadata": {},
   "source": [
    "This form will be used in our discussion of Koopman's theorem.\n",
    "\n",
    "\n",
    "\n",
    "In the   atomic physics case we have"
   ]
  },
  {
   "cell_type": "markdown",
   "metadata": {},
   "source": [
    "$$\n",
    "E[\\Phi^{\\mathrm{HF}}(N)] \n",
    "  = \\sum_{i=1}^H \\langle i | \\hat{h}_0 | i \\rangle +\n",
    "  \\frac{1}{2}\\sum_{ij=1}^N\\langle ij|\\hat{v}|ij\\rangle_{AS},\n",
    "$$"
   ]
  },
  {
   "cell_type": "markdown",
   "metadata": {},
   "source": [
    "where $\\Phi^{\\mathrm{HF}}(N)$ is the new Slater determinant defined by the new basis of Eq. [(13)](#eq:newbasis)\n",
    "for $N$ electrons (same $Z$).  If we assume that the single-particle wave functions in the new basis do not change \n",
    "when we remove one electron or add one electron, we can then define the corresponding energy for the $N-1$ systems as"
   ]
  },
  {
   "cell_type": "markdown",
   "metadata": {},
   "source": [
    "$$\n",
    "E[\\Phi^{\\mathrm{HF}}(N-1)] \n",
    "  = \\sum_{i=1; i\\ne k}^N \\langle i | \\hat{h}_0 | i \\rangle +\n",
    "  \\frac{1}{2}\\sum_{ij=1;i,j\\ne k}^N\\langle ij|\\hat{v}|ij\\rangle_{AS},\n",
    "$$"
   ]
  },
  {
   "cell_type": "markdown",
   "metadata": {},
   "source": [
    "where we have removed a single-particle state $k\\le F$, that is a state below the Fermi level.  \n",
    "\n",
    "\n",
    "\n",
    "Calculating the difference"
   ]
  },
  {
   "cell_type": "markdown",
   "metadata": {},
   "source": [
    "$$\n",
    "E[\\Phi^{\\mathrm{HF}}(N)]-   E[\\Phi^{\\mathrm{HF}}(N-1)] = \\langle k | \\hat{h}_0 | k \\rangle +\n",
    "  \\frac{1}{2}\\sum_{i=1;i\\ne k}^N\\langle ik|\\hat{v}|ik\\rangle_{AS} + \\frac{1}{2}\\sum_{j=1;j\\ne k}^N\\langle kj|\\hat{v}|kj\\rangle_{AS},\n",
    "$$"
   ]
  },
  {
   "cell_type": "markdown",
   "metadata": {},
   "source": [
    "we obtain"
   ]
  },
  {
   "cell_type": "markdown",
   "metadata": {},
   "source": [
    "$$\n",
    "E[\\Phi^{\\mathrm{HF}}(N)]-   E[\\Phi^{\\mathrm{HF}}(N-1)] = \\langle k | \\hat{h}_0 | k \\rangle +\\sum_{j=1}^N\\langle kj|\\hat{v}|kj\\rangle_{AS}\n",
    "$$"
   ]
  },
  {
   "cell_type": "markdown",
   "metadata": {},
   "source": [
    "which is just our definition of the Hartree-Fock single-particle energy"
   ]
  },
  {
   "cell_type": "markdown",
   "metadata": {},
   "source": [
    "$$\n",
    "E[\\Phi^{\\mathrm{HF}}(N)]-   E[\\Phi^{\\mathrm{HF}}(N-1)] = \\epsilon_k^{\\mathrm{HF}}\n",
    "$$"
   ]
  },
  {
   "cell_type": "markdown",
   "metadata": {},
   "source": [
    "Similarly, we can now compute the difference (we label the single-particle states above the Fermi level as $abcd > F$)"
   ]
  },
  {
   "cell_type": "markdown",
   "metadata": {},
   "source": [
    "$$\n",
    "E[\\Phi^{\\mathrm{HF}}(N+1)]-   E[\\Phi^{\\mathrm{HF}}(N)]= \\epsilon_a^{\\mathrm{HF}}.\n",
    "$$"
   ]
  },
  {
   "cell_type": "markdown",
   "metadata": {},
   "source": [
    "These two equations can thus be used to the electron affinity or ionization energies, respectively. \n",
    "Koopman's theorem states that for example the ionization energy of a closed-shell system is given by the energy of the highest occupied single-particle state.  If we assume that changing the number of electrons from $N$ to $N+1$ does not change the Hartree-Fock single-particle energies and eigenfunctions, then Koopman's theorem simply states that the ionization energy of an atom is given by the single-particle energy of the last bound state. In a similar way, we can also define the electron affinities. \n",
    "\n",
    "\n",
    "\n",
    "\n",
    "As an example, consider a simple model for atomic sodium, Na. Neutral sodium has eleven electrons, \n",
    "with the weakest bound one being confined the $3s$ single-particle quantum numbers. The energy needed to remove an electron from neutral sodium is rather small, 5.1391 eV, a feature which pertains to all alkali metals.\n",
    "Having performed a  Hartree-Fock calculation for neutral sodium would then allows us to compute the\n",
    "ionization energy by using the single-particle energy for the $3s$ states, namely $\\epsilon_{3s}^{\\mathrm{HF}}$. \n",
    "\n",
    "From these considerations, we see that Hartree-Fock theory allows us to make a connection between experimental \n",
    "observables (here ionization and affinity energies) and the underlying interactions between particles.  \n",
    "In this sense, we are now linking the dynamics and structure of a many-body system with the laws of motion which govern the system. Our approach is a reductionistic one, meaning that we want to understand the laws of motion \n",
    "in terms of the particles or degrees of freedom which we believe are the fundamental ones. Our Slater determinant, being constructed as the product of various single-particle functions, follows this philosophy.\n",
    "\n",
    "\n",
    "\n",
    "\n",
    "With similar arguments as in atomic physics, we can now use Hartree-Fock theory to make a link\n",
    "between nuclear forces and separation energies. Changing to nuclear system, we define"
   ]
  },
  {
   "cell_type": "markdown",
   "metadata": {},
   "source": [
    "$$\n",
    "E[\\Phi^{\\mathrm{HF}}(A)] \n",
    "  = \\sum_{i=1}^A \\langle i | \\hat{h}_0 | i \\rangle +\n",
    "  \\frac{1}{2}\\sum_{ij=1}^A\\langle ij|\\hat{v}|ij\\rangle_{AS},\n",
    "$$"
   ]
  },
  {
   "cell_type": "markdown",
   "metadata": {},
   "source": [
    "where $\\Phi^{\\mathrm{HF}}(A)$ is the new Slater determinant defined by the new basis of Eq. [(13)](#eq:newbasis)\n",
    "for $A$ nucleons, where $A=N+Z$, with $N$ now being the number of neutrons and $Z$ th enumber of protons.  If we assume again that the single-particle wave functions in the new basis do not change from a nucleus with $A$ nucleons to a nucleus with $A-1$  nucleons, we can then define the corresponding energy for the $A-1$ systems as"
   ]
  },
  {
   "cell_type": "markdown",
   "metadata": {},
   "source": [
    "$$\n",
    "E[\\Phi^{\\mathrm{HF}}(A-1)] \n",
    "  = \\sum_{i=1; i\\ne k}^A \\langle i | \\hat{h}_0 | i \\rangle +\n",
    "  \\frac{1}{2}\\sum_{ij=1;i,j\\ne k}^A\\langle ij|\\hat{v}|ij\\rangle_{AS},\n",
    "$$"
   ]
  },
  {
   "cell_type": "markdown",
   "metadata": {},
   "source": [
    "where we have removed a single-particle state $k\\le F$, that is a state below the Fermi level.  \n",
    "\n",
    "\n",
    "\n",
    "\n",
    "Calculating the difference"
   ]
  },
  {
   "cell_type": "markdown",
   "metadata": {},
   "source": [
    "$$\n",
    "E[\\Phi^{\\mathrm{HF}}(A)]-   E[\\Phi^{\\mathrm{HF}}(A-1)] \n",
    "  = \\langle k | \\hat{h}_0 | k \\rangle +\n",
    "  \\frac{1}{2}\\sum_{i=1;i\\ne k}^A\\langle ik|\\hat{v}|ik\\rangle_{AS} + \\frac{1}{2}\\sum_{j=1;j\\ne k}^A\\langle kj|\\hat{v}|kj\\rangle_{AS},\n",
    "$$"
   ]
  },
  {
   "cell_type": "markdown",
   "metadata": {},
   "source": [
    "which becomes"
   ]
  },
  {
   "cell_type": "markdown",
   "metadata": {},
   "source": [
    "$$\n",
    "E[\\Phi^{\\mathrm{HF}}(A)]-   E[\\Phi^{\\mathrm{HF}}(A-1)] \n",
    "  = \\langle k | \\hat{h}_0 | k \\rangle +\\sum_{j=1}^A\\langle kj|\\hat{v}|kj\\rangle_{AS}\n",
    "$$"
   ]
  },
  {
   "cell_type": "markdown",
   "metadata": {},
   "source": [
    "which is just our definition of the Hartree-Fock single-particle energy"
   ]
  },
  {
   "cell_type": "markdown",
   "metadata": {},
   "source": [
    "$$\n",
    "E[\\Phi^{\\mathrm{HF}}(A)]-   E[\\Phi^{\\mathrm{HF}}(A-1)] \n",
    "  = \\epsilon_k^{\\mathrm{HF}}\n",
    "$$"
   ]
  },
  {
   "cell_type": "markdown",
   "metadata": {},
   "source": [
    "Similarly, we can now compute the difference (recall that the single-particle states $abcd > F$)"
   ]
  },
  {
   "cell_type": "markdown",
   "metadata": {},
   "source": [
    "$$\n",
    "E[\\Phi^{\\mathrm{HF}}(A+1)]-   E[\\Phi^{\\mathrm{HF}}(A)]= \\epsilon_a^{\\mathrm{HF}}.\n",
    "$$"
   ]
  },
  {
   "cell_type": "markdown",
   "metadata": {},
   "source": [
    "If we then recall that the binding energy differences"
   ]
  },
  {
   "cell_type": "markdown",
   "metadata": {},
   "source": [
    "$$\n",
    "BE(A)-BE(A-1) \\hspace{0.5cm} \\mathrm{and} \\hspace{0.5cm} BE(A+1)-BE(A),\n",
    "$$"
   ]
  },
  {
   "cell_type": "markdown",
   "metadata": {},
   "source": [
    "define the separation energies, we see that the Hartree-Fock single-particle energies can be used to\n",
    "define separation energies. We have thus our first link between nuclear forces (included in the potential energy term) and an observable quantity defined by differences in binding energies. \n",
    "\n",
    "\n",
    "\n",
    "\n",
    "We have thus the following interpretations (if the single-particle fields do not change)"
   ]
  },
  {
   "cell_type": "markdown",
   "metadata": {},
   "source": [
    "$$\n",
    "BE(A)-BE(A-1)\\approx  E[\\Phi^{\\mathrm{HF}}(A)]-   E[\\Phi^{\\mathrm{HF}}(A-1)] \n",
    "  = \\epsilon_k^{\\mathrm{HF}},\n",
    "$$"
   ]
  },
  {
   "cell_type": "markdown",
   "metadata": {},
   "source": [
    "and"
   ]
  },
  {
   "cell_type": "markdown",
   "metadata": {},
   "source": [
    "$$\n",
    "BE(A+1)-BE(A)\\approx  E[\\Phi^{\\mathrm{HF}}(A+1)]-   E[\\Phi^{\\mathrm{HF}}(A)] =  \\epsilon_a^{\\mathrm{HF}}.\n",
    "$$"
   ]
  },
  {
   "cell_type": "markdown",
   "metadata": {},
   "source": [
    "If  we use ${}^{16}\\mbox{O}$ as our closed-shell nucleus, we could then interpret the separation energy"
   ]
  },
  {
   "cell_type": "markdown",
   "metadata": {},
   "source": [
    "$$\n",
    "BE(^{16}\\mathrm{O})-BE(^{15}\\mathrm{O})\\approx \\epsilon_{0p^{\\nu}_{1/2}}^{\\mathrm{HF}},\n",
    "$$"
   ]
  },
  {
   "cell_type": "markdown",
   "metadata": {},
   "source": [
    "and"
   ]
  },
  {
   "cell_type": "markdown",
   "metadata": {},
   "source": [
    "$$\n",
    "BE(^{16}\\mathrm{O})-BE(^{15}\\mathrm{N})\\approx \\epsilon_{0p^{\\pi}_{1/2}}^{\\mathrm{HF}}.\n",
    "$$"
   ]
  },
  {
   "cell_type": "markdown",
   "metadata": {},
   "source": [
    "Similalry, we could interpret"
   ]
  },
  {
   "cell_type": "markdown",
   "metadata": {},
   "source": [
    "$$\n",
    "BE(^{17}\\mathrm{O})-BE(^{16}\\mathrm{O})\\approx \\epsilon_{0d^{\\nu}_{5/2}}^{\\mathrm{HF}},\n",
    "$$"
   ]
  },
  {
   "cell_type": "markdown",
   "metadata": {},
   "source": [
    "and"
   ]
  },
  {
   "cell_type": "markdown",
   "metadata": {},
   "source": [
    "$$\n",
    "BE(^{17}\\mathrm{F})-BE(^{16}\\mathrm{O})\\approx\\epsilon_{0d^{\\pi}_{5/2}}^{\\mathrm{HF}}.\n",
    "$$"
   ]
  },
  {
   "cell_type": "markdown",
   "metadata": {},
   "source": [
    "We can continue like this for all $A\\pm 1$ nuclei where $A$ is a good closed-shell (or subshell closure)\n",
    "nucleus. Examples are ${}^{22}\\mbox{O}$, ${}^{24}\\mbox{O}$, ${}^{40}\\mbox{Ca}$, ${}^{48}\\mbox{Ca}$, ${}^{52}\\mbox{Ca}$, ${}^{54}\\mbox{Ca}$, ${}^{56}\\mbox{Ni}$, \n",
    "${}^{68}\\mbox{Ni}$, ${}^{78}\\mbox{Ni}$, ${}^{90}\\mbox{Zr}$, ${}^{88}\\mbox{Sr}$, ${}^{100}\\mbox{Sn}$, ${}^{132}\\mbox{Sn}$ and ${}^{208}\\mbox{Pb}$, to mention some possile cases.\n",
    "\n",
    "\n",
    "\n",
    "\n",
    "We can thus make our first interpretation of the separation energies in terms of the simplest\n",
    "possible many-body theory. \n",
    "If we also recall that the so-called energy gap for neutrons (or protons) is defined as"
   ]
  },
  {
   "cell_type": "markdown",
   "metadata": {},
   "source": [
    "$$\n",
    "\\Delta S_n= 2BE(N,Z)-BE(N-1,Z)-BE(N+1,Z),\n",
    "$$"
   ]
  },
  {
   "cell_type": "markdown",
   "metadata": {},
   "source": [
    "for neutrons and the corresponding gap for protons"
   ]
  },
  {
   "cell_type": "markdown",
   "metadata": {},
   "source": [
    "$$\n",
    "\\Delta S_p= 2BE(N,Z)-BE(N,Z-1)-BE(N,Z+1),\n",
    "$$"
   ]
  },
  {
   "cell_type": "markdown",
   "metadata": {},
   "source": [
    "we can define the neutron and proton energy gaps for ${}^{16}\\mbox{O}$ as"
   ]
  },
  {
   "cell_type": "markdown",
   "metadata": {},
   "source": [
    "$$\n",
    "\\Delta S_{\\nu}=\\epsilon_{0d^{\\nu}_{5/2}}^{\\mathrm{HF}}-\\epsilon_{0p^{\\nu}_{1/2}}^{\\mathrm{HF}},\n",
    "$$"
   ]
  },
  {
   "cell_type": "markdown",
   "metadata": {},
   "source": [
    "and"
   ]
  },
  {
   "cell_type": "markdown",
   "metadata": {},
   "source": [
    "$$\n",
    "\\Delta S_{\\pi}=\\epsilon_{0d^{\\pi}_{5/2}}^{\\mathrm{HF}}-\\epsilon_{0p^{\\pi}_{1/2}}^{\\mathrm{HF}}.\n",
    "$$"
   ]
  },
  {
   "cell_type": "markdown",
   "metadata": {},
   "source": [
    "<!-- --- begin exercise --- -->\n",
    "\n",
    "## Exercise 1: Derivation of Hartree-Fock equations\n",
    "\n",
    "Consider a Slater determinant built up of single-particle orbitals $\\psi_{\\lambda}$, \n",
    "with $\\lambda = 1,2,\\dots,N$.\n",
    "\n",
    "The unitary transformation"
   ]
  },
  {
   "cell_type": "markdown",
   "metadata": {},
   "source": [
    "$$\n",
    "\\psi_a  = \\sum_{\\lambda} C_{a\\lambda}\\phi_{\\lambda},\n",
    "$$"
   ]
  },
  {
   "cell_type": "markdown",
   "metadata": {},
   "source": [
    "brings us into the new basis.  \n",
    "The new basis has quantum numbers $a=1,2,\\dots,N$.\n",
    "\n",
    "\n",
    "**a)**\n",
    "Show that the new basis is orthonormal.\n",
    "\n",
    "**b)**\n",
    "Show that the new Slater determinant constructed from the new single-particle wave functions can be\n",
    "written as the determinant based on the previous basis and the determinant of the matrix $C$.\n",
    "\n",
    "**c)**\n",
    "Show that the old and the new Slater determinants are equal up to a complex constant with absolute value unity.\n",
    "\n",
    "<!-- --- begin hint in exercise --- -->\n",
    "\n",
    "**Hint.**\n",
    "Use the fact that $C$ is a unitary matrix.\n",
    "\n",
    "<!-- --- end hint in exercise --- -->\n",
    "\n",
    "\n",
    "\n",
    "\n",
    "<!-- --- end exercise --- -->\n",
    "\n",
    "\n",
    "\n",
    "\n",
    "<!-- --- begin exercise --- -->\n",
    "\n",
    "## Exercise 2: Derivation of Hartree-Fock equations\n",
    "\n",
    "Consider the  Slater  determinant"
   ]
  },
  {
   "cell_type": "markdown",
   "metadata": {},
   "source": [
    "$$\n",
    "\\Phi_{0}=\\frac{1}{\\sqrt{n!}}\\sum_{p}(-)^{p}P\n",
    "\\prod_{i=1}^{n}\\psi_{\\alpha_{i}}(x_{i}).\n",
    "$$"
   ]
  },
  {
   "cell_type": "markdown",
   "metadata": {},
   "source": [
    "A small variation in this function is given by"
   ]
  },
  {
   "cell_type": "markdown",
   "metadata": {},
   "source": [
    "$$\n",
    "\\delta\\Phi_{0}=\\frac{1}{\\sqrt{n!}}\\sum_{p}(-)^{p}P\n",
    "\\psi_{\\alpha_{1}}(x_{1})\\psi_{\\alpha_{2}}(x_{2})\\dots\n",
    "\\psi_{\\alpha_{i-1}}(x_{i-1})(\\delta\\psi_{\\alpha_{i}}(x_{i}))\n",
    "\\psi_{\\alpha_{i+1}}(x_{i+1})\\dots\\psi_{\\alpha_{n}}(x_{n}).\n",
    "$$"
   ]
  },
  {
   "cell_type": "markdown",
   "metadata": {},
   "source": [
    "**a)**\n",
    "Show that"
   ]
  },
  {
   "cell_type": "markdown",
   "metadata": {},
   "source": [
    "$$\n",
    "\\langle \\delta\\Phi_{0}|\\sum_{i=1}^{n}\\left\\{t(x_{i})+u(x_{i})\n",
    "\\right\\}+\\frac{1}{2}\n",
    "\\sum_{i\\neq j=1}^{n}v(x_{i},x_{j})|\\Phi_{0}\\rangle=\\sum_{i=1}^{n}\\langle \\delta\\psi_{\\alpha_{i}}|\\hat{t}+\\hat{u}\n",
    "|\\phi_{\\alpha_{i}}\\rangle\n",
    "+\\sum_{i\\neq j=1}^{n}\\left\\{\\langle\\delta\\psi_{\\alpha_{i}}\n",
    "\\psi_{\\alpha_{j}}|\\hat{v}|\\psi_{\\alpha_{i}}\\psi_{\\alpha_{j}}\\rangle-\n",
    "\\langle\\delta\\psi_{\\alpha_{i}}\\psi_{\\alpha_{j}}|\\hat{v}\n",
    "|\\psi_{\\alpha_{j}}\\psi_{\\alpha_{i}}\\rangle\\right\\}\n",
    "$$"
   ]
  },
  {
   "cell_type": "markdown",
   "metadata": {},
   "source": [
    "<!-- --- end exercise --- -->\n",
    "\n",
    "\n",
    "\n",
    "\n",
    "<!-- --- begin exercise --- -->\n",
    "\n",
    "## Exercise 3: Hartree-Fock calculations in atomic physics\n",
    "\n",
    "In this exercise we will develop two simple models for studying the \n",
    "helium atom (with two electrons) and the beryllium atom with four electrons.\n",
    "The reason why we chose these systems is simply due to the fact that we can use\n",
    "hydrogen-like single-particle state functions. These functions allow for simple evaluations of the two-body integrals needed in a Hartree-Fock calculation. \n",
    "In most cases, these integrals have a simple closed form solution, as indicated in the table below.\n",
    "\n",
    "After having introduced the  Born-Oppenheimer approximation which effectively freezes out the nucleonic degrees\n",
    "of freedom, the Hamiltonian for $N$ electrons takes the following form"
   ]
  },
  {
   "cell_type": "markdown",
   "metadata": {},
   "source": [
    "$$\n",
    "\\hat{H} = \\sum_{i=1}^{N} t(x_i) \n",
    "  - \\sum_{i=1}^{N} k\\frac{Ze^2}{r_i} + \\sum_{i<j}^{N} \\frac{ke^2}{r_{ij}},\n",
    "$$"
   ]
  },
  {
   "cell_type": "markdown",
   "metadata": {},
   "source": [
    "with $k=1.44$ eVnm. Througout this work we will use atomic units, this means\n",
    "that $\\hbar=c=e=m_e=1$. The constant $k$ becomes also equal 1. \n",
    "The resulting energies have to be multiplied by $2\\times 13.6$ eV\n",
    "in order to obtain energies in eletronvolts.\n",
    "\n",
    " We can rewrite our Hamiltonians as"
   ]
  },
  {
   "cell_type": "markdown",
   "metadata": {},
   "source": [
    "$$\n",
    "\\hat{H} = \\hat{H_0} + \\hat{H_I} \n",
    "    = \\sum_{i=1}^{N}\\hat{h}_0(x_i) + \\sum_{i < j}^{N}\\frac{1}{r_{ij}},\n",
    "$$"
   ]
  },
  {
   "cell_type": "markdown",
   "metadata": {},
   "source": [
    "where  we have defined $r_{ij}=| {\\bf r}_i-{\\bf r}_j|$ and\n",
    "$\\hat{h}_0(x_i) =  \\hat{t}(x_i) - \\frac{Z}{r_i}$\n",
    "The variable $x$ contains both the spatial coordinates and the spin values.\n",
    "The first term of the previous equation, $H_0$, is the sum of the $N$ *one-body* Hamiltonians $\\hat{h}_0$. Each individual\n",
    "Hamiltonian $\\hat{h}_0$ contains the kinetic energy operator of an\n",
    "electron and its potential energy due to the attraction of the\n",
    "nucleus. The second term, $H_I$, is the sum of the $N(N-1)/2$\n",
    "two-body interactions between each pair of electrons. Note that the double sum carries a restriction $i<j$.\n",
    "\n",
    "As basis functions for our calculations we will use hydrogen-like single-particle functions.  This means the onebody operator is diagonal in this basis for states $i,j$ with quantum numbers $nlm_lsm_s$ with  \n",
    "energies"
   ]
  },
  {
   "cell_type": "markdown",
   "metadata": {},
   "source": [
    "$$\n",
    "\\langle i|\\hat{h}_0| j\\rangle =  -Z^2/2n^2\\delta_{i,j}.\n",
    "$$"
   ]
  },
  {
   "cell_type": "markdown",
   "metadata": {},
   "source": [
    "The quantum number $n$ refers to the number of nodes \n",
    "of the wave function.  Observe that this expectation value is independent of spin.\n",
    "\n",
    "We will in all calculations here restrict ourselves to only so-called $s$ -waves,\n",
    "that is the orbital momentum $l$ is zero. We will also limit the quantum number $n$ to $n\\le 3$.  It means that every $ns$ state can accomodate two electrons due to the spin degeneracy. \n",
    "In the calculations you \n",
    "will need the Coulomb interaction with matrix elements\n",
    "involving single-particle wave functions with $l=0$ only, the so-called $s$-waves.\n",
    "We need only the radial part since the \n",
    "spherical harmonics for the $s$-waves are rather simple. We omit single-particle states with $l> 0$.\n",
    "Our radial part of the wave functions are"
   ]
  },
  {
   "cell_type": "markdown",
   "metadata": {},
   "source": [
    "$$\n",
    "R_{n0}(r)=\\left(\\frac{2Z}{n}\\right)^{3/2}\\sqrt{\\frac{(n-1)!}{2n\\times n!}}L_{n-1}^1(\\frac{2Zr}{n})\\exp{(-\\frac{Zr}{n})},\n",
    "$$"
   ]
  },
  {
   "cell_type": "markdown",
   "metadata": {},
   "source": [
    "where $L_{n-1}^1(r)$ are the so-called Laguerre polynomials.\n",
    "These wave functions can then be used to compute the direct part of the\n",
    "Coulomb interaction"
   ]
  },
  {
   "cell_type": "markdown",
   "metadata": {},
   "source": [
    "$$\n",
    "\\langle \\alpha\\beta| V| \\gamma\\delta\\rangle = \\int r_1^2dr_1 \\int r_2^2dr_2R_{n_{\\alpha}0}^*(r_1) R_{n_{\\beta}0}^*(r_2) \n",
    "  \\frac{1}{| {\\bf r}_1-{\\bf r}_2|}R_{n_{\\gamma}0}(r_1)R_{n_{\\delta}0}(r_2)\n",
    "$$"
   ]
  },
  {
   "cell_type": "markdown",
   "metadata": {},
   "source": [
    "Observe that this is only the radial integral and that the labels $\\alpha\\beta\\gamma\\delta$ refer only to the quantum numbers $nlm_l$, with $m_l$ the projection of the orbital momentum $l$. \n",
    "A similar expression can be found for the exchange part. Since we have restricted ourselves to only $s$-waves, these integrals are straightforward but tedious to calculate. As an addendum to this project we list all closed-form expressions for the relevant matrix elements. Note well that these matrix elements do not include spin. When setting up the final antisymmetrized matrix elements you need to consider the spin degrees of freedom as well. Please pay in particular special attention to the exchange part and the pertinent spin values of the single-particle states.\n",
    "\n",
    "\n",
    "We will also, for both helium and beryllium assume that the many-particle states we construct have always the same total spin projection $M_S=0$. This means that if we excite one or two particles from the ground state, the spins of the various single-particle states should always sum up to zero.\n",
    "\n",
    "\n",
    "**a)**\n",
    "We start with the helium atom and define our single-particle Hilbert space to consist of the single-particle orbits $1s$, $2s$ and $3s$, with their corresponding spin degeneracies.\n",
    "\n",
    "Set up the ansatz for the ground state $|c\\rangle = |\\Phi_0\\rangle$ in second \n",
    "quantization and define a table of single-particle states. Construct thereafter\n",
    "all possible one-particle-one-hole excitations  $|\\Phi_i^a\\rangle$ where $i$ refer to levels below the Fermi level (define this level) and $a$ refers to particle states. Define particles and holes. The Slater determinants have to be written in terms of the respective creation and annihilation operators.\n",
    "The states you construct should all have total spin projection $M_S=0$. \n",
    "Construct also all possible two-particle-two-hole states $|\\Phi_{ij}^{ab}\\rangle$  in a second quantization representation.\n",
    "\n",
    "**b)**\n",
    "Define the Hamiltonian in a second-quantized form and use this to\n",
    "compute the expectation value of the ground state (defining the so-called reference energy and later our Hartree-Fock functional) of the helium atom. \n",
    "Show that it is given by"
   ]
  },
  {
   "cell_type": "markdown",
   "metadata": {},
   "source": [
    "$$\n",
    "E[\\Phi_0] = \\langle c | \\hat{H}| c \\rangle \n",
    "  = \\sum_{i} \\langle i | \\hat{h}_0 | i\\rangle+ \\frac{1}{2}\\sum_{ij}\\left[\\langle ij |\\frac{1}{r}|ij\\rangle-\\langle ij |\\frac{1}{r}|ji\\rangle\\right].\n",
    "$$"
   ]
  },
  {
   "cell_type": "markdown",
   "metadata": {},
   "source": [
    "Define properly the sums keeping in mind that the states $ij$ refer to all\n",
    "quantum numbers $nlm_lsm_s$.\n",
    "Use the values for the various matrix elements listed at the end of the project to find the value of $E$\n",
    "as function of $Z$ and compute $E$ as function of $Z$.\n",
    "\n",
    "**c)**\n",
    "Hereafter we will limit ourselves to a system which now contains only one-particle-one-hole\n",
    "excitations beyond the chosen state $|c\\rangle$.\n",
    "Using the possible Slater determinants from exercise a) for the helium atom,   \n",
    "find the expressions  (without inserting the explicit values for the matrix elements first) for"
   ]
  },
  {
   "cell_type": "markdown",
   "metadata": {},
   "source": [
    "$$\n",
    "\\langle c | \\hat{H}| \\Phi_i^a \\rangle,\n",
    "$$"
   ]
  },
  {
   "cell_type": "markdown",
   "metadata": {},
   "source": [
    "and"
   ]
  },
  {
   "cell_type": "markdown",
   "metadata": {},
   "source": [
    "$$\n",
    "\\langle \\Phi_i^a | \\hat{H}| \\Phi_j^b \\rangle.\n",
    "$$"
   ]
  },
  {
   "cell_type": "markdown",
   "metadata": {},
   "source": [
    "Represent these expressions in a diagrammatic form, both for the onebody part and the two-body part of the Hamiltonian. \n",
    "\n",
    "Insert then the explicit values for the various matrix elements and \n",
    "set up the final Hamiltonian matrix and diagonalize it using for example\n",
    "Octave, Matlab, Python, C++ or Fortran as programming tools.\n",
    "\n",
    "Compare your results from those of exercise b) and comment your results. \n",
    "The exact energy with our Hamiltonian is $-2.9037$ atomic units for helium. This value is also close to the experimental energy.\n",
    "\n",
    "**d)**\n",
    "We repeat exercises b) and c) but now for the beryllium atom.\n",
    "Define the ansatz for $|c\\rangle$ and limit yourself again to one-particle-one-hole excitations.   Compute the reference energy \n",
    "$\\langle c | \\hat{H}| c \\rangle $ as function of $Z$. Thereafter you will need to set up the appropriate Hamiltonian matrix\n",
    "which involves also one-particle-one-hole excitations. Diagonalize this matrix\n",
    "and compare your eigenvalues with  $\\langle c | \\hat{H}| c \\rangle$ as function of $Z$ and comment your results. \n",
    "The exact energy with our Hamiltonian is $-14.6674$ atomic units for beryllium. This value is again close to the experimental energy.\\newline\\newline\\newline\n",
    "With a given energy functional, we can perform at least two types of variational strategies\n",
    "1. Vary the Slater determinant by changing the spatial part of the single-particle\n",
    "\n",
    "wave functions themselves. \n",
    "1. Expand the single-particle functions in a known basis  and vary the coefficients, \n",
    "\n",
    "that is, the new function single-particle wave function $|p\\rangle$ is written as a linear expansion in terms of a fixed basis $\\phi$ (harmonic oscillator, Laguerre polynomials etc)"
   ]
  },
  {
   "cell_type": "markdown",
   "metadata": {},
   "source": [
    "$$\n",
    "\\psi_p  = \\sum_{\\lambda} C_{p\\lambda}\\phi_{\\lambda},\n",
    "$$"
   ]
  },
  {
   "cell_type": "markdown",
   "metadata": {},
   "source": [
    "Both cases lead to a new Slater determinant which is related to the previous via  a unitary transformation.\n",
    "Below we will set up the Hartree-Fock equations using the second option.  \n",
    "We assume that our basis is still formed by the hydrogen-like wave functions. \n",
    "We consider a Slater determinant built up of single-particle orbitals $\\phi_{\\lambda}$ where the indices $\\lambda$ refer to specific single-particle states.  As an example, you could think of the ground state ansatz for the Beryllium atom. \n",
    "\n",
    "The unitary transformation\n",
    "\\[\n",
    "\\psi_p  = \\sum_{\\lambda} C_{p\\lambda}\\phi_{\\lambda},\n",
    "\\]\n",
    "brings us into the new basis $\\psi$.  The new basis is orthonormal and $C$ is a unitary matrix.\n",
    "\n",
    "**e)**\n",
    "Minimizing with respect to $C^*_{p\\alpha}$, remembering that $C^*_{p\\alpha}$ and $C_{p\\alpha}$ (and that the indices contain all single-particle quantum numbers including spin)\n",
    "are independent and defining"
   ]
  },
  {
   "cell_type": "markdown",
   "metadata": {},
   "source": [
    "$$\n",
    "h_{\\alpha\\gamma}^{HF}=\\langle \\alpha | h | \\gamma \\rangle+\n",
    "\\sum_{p}\\sum_{\\beta\\delta} C^*_{p\\beta}C_{p\\delta}\\langle \\alpha\\beta|V|\\gamma\\delta\\rangle_{AS},\n",
    "$$"
   ]
  },
  {
   "cell_type": "markdown",
   "metadata": {},
   "source": [
    "show that you can write the Hartree-Fock  equations as"
   ]
  },
  {
   "cell_type": "markdown",
   "metadata": {},
   "source": [
    "$$\n",
    "\\sum_{\\gamma}h_{\\alpha\\gamma}^{HF}C_{p\\gamma}=\\epsilon_p^{\\mathrm{HF}}C_{p\\alpha}.\n",
    "$$"
   ]
  },
  {
   "cell_type": "markdown",
   "metadata": {},
   "source": [
    "Explain the meaning of the different terms and define the Hartree-Fock \n",
    "operator in second quantization. Write down its diagrammatic representation as well.  The greek letters refer to the wave functions in the original basis (in our case the hydrogen-like wave functions) while roman letters refer to the new basis.\n",
    "\n",
    "**f)**\n",
    "The Hartree-Fock equations with a variation of the coefficients $C_{p\\alpha}$\n",
    "lead to an eigenvalue problem whose eigenvectors are the coefficients\n",
    "$C_{p\\alpha}$ and eigenvalues are the new single-particle energies. \n",
    "Use the single-particle orbits $1s-3s$ and set up the Hartree-Fock matrix for both the helium atom and the beryllium atom. Find after the first diagonalization the new single-particle energies and the new ground state energy.\n",
    "Compare these results with  those you obtained under the minimization of the ground states as functions of $Z$ and the full diagonalization. When setting up the Hartree-Fock matrix \n",
    "in the first iteration, our guess for the coefficients $C_{p\\beta}$ etc. is $C_{p\\beta}=1$ for $p=\\beta$ and zero else. \n",
    "The final stage is to \n",
    "set up an iterative scheme where you use the new wave functions\n",
    "determined via the coefficients $C_{p\\alpha}$ to solve iteratively the Hartree-Fock equations till a given self-consistency is reached. A typical way of doing this is to compare the single-particle energies from the previous iteration with those obtained from the new diagonalization. If the total difference is smaller than a prefixed value, the iterative process is stopped. \n",
    "\n",
    "Compare these results with the those you obtained under the minimization of the ground states as functions of $Z$ and the full diagonalization. Discuss your results.\n",
    "\n",
    "\n",
    "<!-- --- begin solution of exercise --- -->\n",
    "**Solution.**\n",
    "The following Python program set ups a simple Hartree-Fock program for solving the above problem, using as input the integrals listed at the end here."
   ]
  },
  {
   "cell_type": "code",
   "execution_count": 1,
   "metadata": {
    "collapsed": false
   },
   "outputs": [],
   "source": [
    "\"\"\"\n",
    "Program for solving Hartree Fock iteratively.\n",
    "1. Import radial integral results\n",
    "2. Set up HF matrix using C = I as initial guess\n",
    "3. Solve eigenvalue problem using numpy.linalg\n",
    "4. Use resulting eigenvectors to assemble new HF matrix\n",
    "5. Repeat steps 3 and 4 until convergence is met.\n",
    "6. Calculate ground state energy from resulting C.\n",
    "\"\"\"\n",
    "\n",
    "from __future__ import division\n",
    "from sympy import *\n",
    "from numpy import *\n",
    "import pickle, sys\n",
    "\n",
    "Z = Symbol(\"Z\")\n",
    "\n",
    "class HF:\n",
    "    \"\"\"\n",
    "    Class for solving the Hartree Fock equations iteratively.\n",
    "    \"\"\"\n",
    "\n",
    "    def __init__(self, N, basis, Z_value, first_C='identity'):\n",
    "        \"\"\"\n",
    "        N is the number of particles in the system and basis\n",
    "        is the single-particle basis for the system.\n",
    "        \"\"\"\n",
    "        # Read in the radial_integrals from pickled object\n",
    "        with open(\"radial_integrals.p\", \"rb\") as infile:\n",
    "            self.radial_integrals = pickle.load(infile)\n",
    "        \n",
    "        self.N = N # number of particles in the system\n",
    "        self.basis = basis # single-particle basis for the system\n",
    "        self.Z_value = Z_value # atomic number of the atom\n",
    "        self.n = len(basis) # number of single-particle basis states\n",
    "        self.ek = array((0,0,0,0,0,0)) # new single-particle energies\n",
    "        self.E = 0 # energy\n",
    "        # Set up the first coefficient matrix to be used\n",
    "        if first_C == 'identity':\n",
    "            self.C = identity(self.n)\n",
    "        elif first_C == 'zero':\n",
    "            self.C = zeros((self.n, self.n))\n",
    "        elif first_C == 'rand':\n",
    "            self.C = random.rand(self.n, self.n)\n",
    "        else:\n",
    "            print \"first_C argument not understood\"\n",
    "            print \"Legal values are: 'identity', 'zero', 'rand'\"\n",
    "            sys.exit(1)\n",
    "\n",
    "        self.h_HF = zeros((self.n, self.n))\n",
    "        self.assemble_HF_matrix() # set up HF matrix for C = I\n",
    "\n",
    "    def h_0(self, p, q):\n",
    "        \"\"\"\n",
    "        Takes the integer values of states and returns the \n",
    "        asymmetrized twobody matrix element <pq||rs>.\n",
    "        \"\"\"\n",
    "        n1, s1 = self.basis[p]\n",
    "        n2, s2 = self.basis[q]\n",
    "\n",
    "        if n1 != n2 or s1 != s2:\n",
    "            return 0\n",
    "        else:\n",
    "            return -Z**2/(2*n1**2)\n",
    "\n",
    "    def rad(self, n1, n2, n3, n4):\n",
    "        \"\"\"\n",
    "        Returns the radial integral <n1, n2|v|n3, n4>.\n",
    "        \"\"\"\n",
    "        return self.radial_integrals[n1-1, n2-1, n3-1, n4-1]\n",
    "\n",
    "    def h_1(self, p, q, r, s):\n",
    "        \"\"\"\n",
    "        Takes the integer values of four basis-states and returns\n",
    "        the asymmetrized twobody matrix element <pq||rs>.\n",
    "        \"\"\"\n",
    "        n1, s1 = self.basis[p]\n",
    "        n2, s2 = self.basis[q]\n",
    "        n3, s3 = self.basis[r]\n",
    "        n4, s4 = self.basis[s]\n",
    "\n",
    "        if s1 == s2 == s3 == s4:\n",
    "            return self.rad(n1, n2, n3, n4) - self.rad(n1, n2, n4, n3)\n",
    "        if s1 == s3 and s2 == s4:\n",
    "            return self.rad(n1, n2, n3, n4)\n",
    "        if s1 == s4 and s2 == s3:\n",
    "            return -self.rad(n1, n2, n4, n3)\n",
    "        else:\n",
    "            return 0\n",
    "\n",
    "    def assemble_HF_matrix(self):\n",
    "        \"\"\"\n",
    "        Assemble the HF matric from the coefficient matrix.\n",
    "        \"\"\"\n",
    "        n, N = self.n, self.N\n",
    "        C = self.C\n",
    "\n",
    "        for a in range(n):\n",
    "            for g in range(n):\n",
    "                s = self.h_0(a,g)\n",
    "                for p in range(N):\n",
    "                    for b in range(n):\n",
    "                        for d in range(n):\n",
    "                            s += C[p,b]*C[p,d]*self.h_1(a,b,g,d)\n",
    "\n",
    "                self.h_HF[a,g] = s.subs(Z, self.Z_value)\n",
    "\n",
    "    def reorder_coefficients(self):\n",
    "        ek, C = self.ek, self.C\n",
    "\n",
    "        # Sort eigenvalues and coefficient matrix using numpy.argsort\n",
    "        indices = argsort(ek)        \n",
    "        ek = ek[indices]\n",
    "        C = C[:, indices]\n",
    "\n",
    "        self.ek, self.C = ek, C.T\n",
    "\n",
    "    def calc_energy(self):\n",
    "        \"\"\"\n",
    "        Calculates the ground state energy from the \n",
    "        current coefficient matric.\n",
    "        \"\"\"\n",
    "        n, N = self.n, self.N\n",
    "        C = self.C\n",
    "\n",
    "        e = 0\n",
    "        for p in range(N):\n",
    "         for a in range(n):\n",
    "           for b in range(n):\n",
    "             e += C[p,a]*C[p,b]*self.h_0(a,b)\n",
    "             for q in range(N):\n",
    "              for c in range(n):\n",
    "               for d in range(n):\n",
    "                e += 0.5*C[p,a]*C[q,b]*C[p,c]*C[q,d]*self.h_1(a,b,c,d)\n",
    "\n",
    "        self.E = e.subs(Z, Z_value).evalf()\n",
    "        return self.E\n",
    "\n",
    "    def solve(self, tol=1e-6, max_iters=40):\n",
    "        iterations = 0\n",
    "        n, N = self.n, self.N\n",
    "        Ep = 0\n",
    "        ekp = array((0,0,0,0,0,0))\n",
    "\n",
    "        while iterations < max_iters:\n",
    "            iterations +=1\n",
    "\n",
    "            # Find eigenvalues and eigenvector of HF matrix\n",
    "            self.ek, self.C = linalg.eig(self.h_HF)\n",
    "            \n",
    "            # Reorder eigenvalues and eigenvector\n",
    "            self.reorder_coefficients()\n",
    "\n",
    "            # Assemble the new HF matrix\n",
    "            self.assemble_HF_matrix()\n",
    "            \n",
    "            # Test tolerance of lowest eigenvalue\n",
    "            print self.calc_energy()\n",
    "            error = sum(abs(ekp - self.ek[0]))\n",
    "            if error < tol:\n",
    "                print \"Solver converged after %d iterations.\" % (iterations)\n",
    "                return\n",
    "\n",
    "            Ep = self.E\n",
    "            ekp = self.ek[0]\n",
    "\n",
    "        print \"Solver failed to converge in %d iterations.\" % (iterations)\n",
    "\n",
    "\n",
    "N = 4\n",
    "Z_value = 4\n",
    "basis = [(1,1), (1,-1), (2,1), (2,-1), (3,1), (3,-1)]\n",
    "\n",
    "print \"Solving with initial guess C=I.\"\n",
    "solver = HF(N, basis, Z_value, first_C='identity')\n",
    "solver.solve(max_iters=100)\n",
    "\n",
    "print \"\\n\\n\\n Solving with initial guess C=0.\"\n",
    "solver = HF(N, basis, Z_value, first_C='zero')\n",
    "solver.solve(max_iters=100)\n",
    "\n",
    "print \"\\n\\n\\n Solving with random initial guess.\"\n",
    "solver = HF(N, basis, Z_value, first_C='rand')\n",
    "solver.solve(max_iters=100)"
   ]
  },
  {
   "cell_type": "markdown",
   "metadata": {},
   "source": [
    "<!-- --- end solution of exercise --- -->\n",
    "\n",
    "\n",
    "We conclude by listing the matrix elements for the radial integrals to be used for the direct part and the exchange part. Note again that these integrals do not include spin. The nomenclature is $1=1s$, $2=2s$, and $3=3s$, with no\n",
    "spin degrees of freedom. \n",
    "\n",
    "<table border=\"1\">\n",
    "<thead>\n",
    "<tr><th align=\"center\">                 Element                 </th> <th align=\"center\"> </th> <th align=\"center\"> Expression as function of charge $Z$ </th> </tr>\n",
    "</thead>\n",
    "<tbody>\n",
    "<tr><td align=\"center\">   $\\langle 11\\vert \\hat{v} \\vert 11\\rangle$    </td> <td align=\"center\">   =    </td> <td align=\"center\">   (5*Z)/8                                   </td> </tr>\n",
    "<tr><td align=\"center\">   $\\langle 11\\vert \\hat{v} \\vert 12\\rangle$    </td> <td align=\"center\">   =    </td> <td align=\"center\">   (4096*Sqrt[2]*Z)/64827                    </td> </tr>\n",
    "<tr><td align=\"center\">   $\\langle 11\\vert \\hat{v} \\vert 13\\rangle$    </td> <td align=\"center\">   =    </td> <td align=\"center\">   (1269*Sqrt[3]*Z)/50000                    </td> </tr>\n",
    "<tr><td align=\"center\">   $\\langle 11\\vert \\hat{v} \\vert 21\\rangle$    </td> <td align=\"center\">   =    </td> <td align=\"center\">   (4096*Sqrt[2]*Z)/64827                    </td> </tr>\n",
    "<tr><td align=\"center\">   $\\langle 11\\vert \\hat{v} \\vert 22\\rangle$    </td> <td align=\"center\">   =    </td> <td align=\"center\">   (16*Z)/729                                </td> </tr>\n",
    "<tr><td align=\"center\">   $\\langle 11\\vert \\hat{v} \\vert 23\\rangle$    </td> <td align=\"center\">   =    </td> <td align=\"center\">   (110592*Sqrt[6]*Z)/24137569               </td> </tr>\n",
    "<tr><td align=\"center\">   $\\langle 11\\vert \\hat{v} \\vert 31\\rangle$    </td> <td align=\"center\">   =    </td> <td align=\"center\">   (1269*Sqrt[3]*Z)/50000                    </td> </tr>\n",
    "<tr><td align=\"center\">   $\\langle 11\\vert \\hat{v} \\vert 32\\rangle$    </td> <td align=\"center\">   =    </td> <td align=\"center\">   (110592*Sqrt[6]*Z)/24137569               </td> </tr>\n",
    "<tr><td align=\"center\">   $\\langle 11\\vert \\hat{v} \\vert 33\\rangle$    </td> <td align=\"center\">   =    </td> <td align=\"center\">   (189*Z)/32768                             </td> </tr>\n",
    "<tr><td align=\"center\">   $\\langle 12\\vert \\hat{v} \\vert 11\\rangle$    </td> <td align=\"center\">   =    </td> <td align=\"center\">   (4096*Sqrt[2]*Z)/64827                    </td> </tr>\n",
    "<tr><td align=\"center\">   $\\langle 12\\vert \\hat{v} \\vert 12\\rangle$    </td> <td align=\"center\">   =    </td> <td align=\"center\">   (17*Z)/81                                 </td> </tr>\n",
    "<tr><td align=\"center\">   $\\langle 12\\vert \\hat{v} \\vert 13\\rangle$    </td> <td align=\"center\">   =    </td> <td align=\"center\">   (1555918848*Sqrt[6]*Z)/75429903125        </td> </tr>\n",
    "<tr><td align=\"center\">   $\\langle 12\\vert \\hat{v} \\vert 21\\rangle$    </td> <td align=\"center\">   =    </td> <td align=\"center\">   (16*Z)/729                                </td> </tr>\n",
    "<tr><td align=\"center\">   $\\langle 12\\vert \\hat{v} \\vert 22\\rangle$    </td> <td align=\"center\">   =    </td> <td align=\"center\">   (512*Sqrt[2]*Z)/84375                     </td> </tr>\n",
    "<tr><td align=\"center\">   $\\langle 12\\vert \\hat{v} \\vert 23\\rangle$    </td> <td align=\"center\">   =    </td> <td align=\"center\">   (2160*Sqrt[3]*Z)/823543                   </td> </tr>\n",
    "<tr><td align=\"center\">   $\\langle 12\\vert \\hat{v} \\vert 31\\rangle$    </td> <td align=\"center\">   =    </td> <td align=\"center\">   (110592*Sqrt[6]*Z)/24137569               </td> </tr>\n",
    "<tr><td align=\"center\">   $\\langle 12\\vert \\hat{v} \\vert 32\\rangle$    </td> <td align=\"center\">   =    </td> <td align=\"center\">   (29943*Sqrt[3]*Z)/13176688                </td> </tr>\n",
    "<tr><td align=\"center\">   $\\langle 12\\vert \\hat{v} \\vert 33\\rangle$    </td> <td align=\"center\">   =    </td> <td align=\"center\">   (1216512*Sqrt[2]*Z)/815730721             </td> </tr>\n",
    "<tr><td align=\"center\">   $\\langle 13\\vert \\hat{v} \\vert 11\\rangle$    </td> <td align=\"center\">   =    </td> <td align=\"center\">   (1269*Sqrt[3]*Z)/50000                    </td> </tr>\n",
    "<tr><td align=\"center\">   $\\langle 13\\vert \\hat{v} \\vert 12\\rangle$    </td> <td align=\"center\">   =    </td> <td align=\"center\">   (1555918848*Sqrt[6]*Z)/75429903125        </td> </tr>\n",
    "<tr><td align=\"center\">   $\\langle 13\\vert \\hat{v} \\vert 13\\rangle$    </td> <td align=\"center\">   =    </td> <td align=\"center\">   (815*Z)/8192                              </td> </tr>\n",
    "<tr><td align=\"center\">   $\\langle 13\\vert \\hat{v} \\vert 21\\rangle$    </td> <td align=\"center\">   =    </td> <td align=\"center\">   (110592*Sqrt[6]*Z)/24137569               </td> </tr>\n",
    "<tr><td align=\"center\">   $\\langle 13\\vert \\hat{v} \\vert 22\\rangle$    </td> <td align=\"center\">   =    </td> <td align=\"center\">   (2160*Sqrt[3]*Z)/823543                   </td> </tr>\n",
    "<tr><td align=\"center\">   $\\langle 13\\vert \\hat{v} \\vert 23\\rangle$    </td> <td align=\"center\">   =    </td> <td align=\"center\">   (37826560*Sqrt[2]*Z)/22024729467          </td> </tr>\n",
    "<tr><td align=\"center\">   $\\langle 13\\vert \\hat{v} \\vert 31\\rangle$    </td> <td align=\"center\">   =    </td> <td align=\"center\">   (189*Z)/32768                             </td> </tr>\n",
    "<tr><td align=\"center\">   $\\langle 13\\vert \\hat{v} \\vert 32\\rangle$    </td> <td align=\"center\">   =    </td> <td align=\"center\">   (1216512*Sqrt[2]*Z)/815730721             </td> </tr>\n",
    "<tr><td align=\"center\">   $\\langle 13\\vert \\hat{v} \\vert 33\\rangle$    </td> <td align=\"center\">   =    </td> <td align=\"center\">   (617*Z)/(314928*Sqrt[3])                  </td> </tr>\n",
    "<tr><td align=\"center\">   $\\langle 21\\vert \\hat{v} \\vert 11\\rangle$    </td> <td align=\"center\">   =    </td> <td align=\"center\">   (4096*Sqrt[2]*Z)/64827                    </td> </tr>\n",
    "<tr><td align=\"center\">   $\\langle 21\\vert \\hat{v} \\vert 12\\rangle$    </td> <td align=\"center\">   =    </td> <td align=\"center\">   (16*Z)/729                                </td> </tr>\n",
    "<tr><td align=\"center\">   $\\langle 21\\vert \\hat{v} \\vert 13\\rangle$    </td> <td align=\"center\">   =    </td> <td align=\"center\">   (110592*Sqrt[6]*Z)/24137569               </td> </tr>\n",
    "<tr><td align=\"center\">   $\\langle 21\\vert \\hat{v} \\vert 21\\rangle$    </td> <td align=\"center\">   =    </td> <td align=\"center\">   (17*Z)/81                                 </td> </tr>\n",
    "<tr><td align=\"center\">   $\\langle 21\\vert \\hat{v} \\vert 22\\rangle$    </td> <td align=\"center\">   =    </td> <td align=\"center\">   (512*Sqrt[2]*Z)/84375                     </td> </tr>\n",
    "<tr><td align=\"center\">   $\\langle 21\\vert \\hat{v} \\vert 23\\rangle$    </td> <td align=\"center\">   =    </td> <td align=\"center\">   (29943*Sqrt[3]*Z)/13176688                </td> </tr>\n",
    "<tr><td align=\"center\">   $\\langle 21\\vert \\hat{v} \\vert 31\\rangle$    </td> <td align=\"center\">   =    </td> <td align=\"center\">   (1555918848*Sqrt[6]*Z)/75429903125        </td> </tr>\n",
    "<tr><td align=\"center\">   $\\langle 21\\vert \\hat{v} \\vert 32\\rangle$    </td> <td align=\"center\">   =    </td> <td align=\"center\">   (2160*Sqrt[3]*Z)/823543                   </td> </tr>\n",
    "<tr><td align=\"center\">   $\\langle 21\\vert \\hat{v} \\vert 33\\rangle$    </td> <td align=\"center\">   =    </td> <td align=\"center\">   (1216512*Sqrt[2]*Z)/815730721             </td> </tr>\n",
    "<tr><td align=\"center\">   $\\langle 22\\vert \\hat{v} \\vert 11\\rangle$    </td> <td align=\"center\">   =    </td> <td align=\"center\">   (16*Z)/729                                </td> </tr>\n",
    "<tr><td align=\"center\">   $\\langle 22\\vert \\hat{v} \\vert 12\\rangle$    </td> <td align=\"center\">   =    </td> <td align=\"center\">   (512*Sqrt[2]*Z)/84375                     </td> </tr>\n",
    "<tr><td align=\"center\">   $\\langle 22\\vert \\hat{v} \\vert 13\\rangle$    </td> <td align=\"center\">   =    </td> <td align=\"center\">   (2160*Sqrt[3]*Z)/823543                   </td> </tr>\n",
    "<tr><td align=\"center\">   $\\langle 22\\vert \\hat{v} \\vert 21\\rangle$    </td> <td align=\"center\">   =    </td> <td align=\"center\">   (512*Sqrt[2]*Z)/84375                     </td> </tr>\n",
    "<tr><td align=\"center\">   $\\langle 22\\vert \\hat{v} \\vert 22\\rangle$    </td> <td align=\"center\">   =    </td> <td align=\"center\">   (77*Z)/512                                </td> </tr>\n",
    "<tr><td align=\"center\">   $\\langle 22\\vert \\hat{v} \\vert 23\\rangle$    </td> <td align=\"center\">   =    </td> <td align=\"center\">   (5870679552*Sqrt[6]*Z)/669871503125       </td> </tr>\n",
    "<tr><td align=\"center\">   $\\langle 22\\vert \\hat{v} \\vert 31\\rangle$    </td> <td align=\"center\">   =    </td> <td align=\"center\">   (2160*Sqrt[3]*Z)/823543                   </td> </tr>\n",
    "<tr><td align=\"center\">   $\\langle 22\\vert \\hat{v} \\vert 32\\rangle$    </td> <td align=\"center\">   =    </td> <td align=\"center\">   (5870679552*Sqrt[6]*Z)/669871503125       </td> </tr>\n",
    "<tr><td align=\"center\">   $\\langle 22\\vert \\hat{v} \\vert 33\\rangle$    </td> <td align=\"center\">   =    </td> <td align=\"center\">   (73008*Z)/9765625                         </td> </tr>\n",
    "<tr><td align=\"center\">   $\\langle 23\\vert \\hat{v} \\vert 11\\rangle$    </td> <td align=\"center\">   =    </td> <td align=\"center\">   (110592*Sqrt[6]*Z)/24137569               </td> </tr>\n",
    "<tr><td align=\"center\">   $\\langle 23\\vert \\hat{v} \\vert 12\\rangle$    </td> <td align=\"center\">   =    </td> <td align=\"center\">   (2160*Sqrt[3]*Z)/823543                   </td> </tr>\n",
    "<tr><td align=\"center\">   $\\langle 23\\vert \\hat{v} \\vert 13\\rangle$    </td> <td align=\"center\">   =    </td> <td align=\"center\">   (37826560*Sqrt[2]*Z)/22024729467          </td> </tr>\n",
    "<tr><td align=\"center\">   $\\langle 23\\vert \\hat{v} \\vert 21\\rangle$    </td> <td align=\"center\">   =    </td> <td align=\"center\">   (29943*Sqrt[3]*Z)/13176688                </td> </tr>\n",
    "<tr><td align=\"center\">   $\\langle 23\\vert \\hat{v} \\vert 22\\rangle$    </td> <td align=\"center\">   =    </td> <td align=\"center\">   (5870679552*Sqrt[6]*Z)/669871503125       </td> </tr>\n",
    "<tr><td align=\"center\">   $\\langle 23\\vert \\hat{v} \\vert 23\\rangle$    </td> <td align=\"center\">   =    </td> <td align=\"center\">   (32857*Z)/390625                          </td> </tr>\n",
    "<tr><td align=\"center\">   $\\langle 23\\vert \\hat{v} \\vert 31\\rangle$    </td> <td align=\"center\">   =    </td> <td align=\"center\">   (1216512*Sqrt[2]*Z)/815730721             </td> </tr>\n",
    "<tr><td align=\"center\">   $\\langle 23\\vert \\hat{v} \\vert 32\\rangle$    </td> <td align=\"center\">   =    </td> <td align=\"center\">   (73008*Z)/9765625                         </td> </tr>\n",
    "<tr><td align=\"center\">   $\\langle 23\\vert \\hat{v} \\vert 33\\rangle$    </td> <td align=\"center\">   =    </td> <td align=\"center\">   (6890942464*Sqrt[2/3]*Z)/1210689028125    </td> </tr>\n",
    "<tr><td align=\"center\">   $\\langle 31\\vert \\hat{v} \\vert 11\\rangle$    </td> <td align=\"center\">   =    </td> <td align=\"center\">   (1269*Sqrt[3]*Z)/50000                    </td> </tr>\n",
    "<tr><td align=\"center\">   $\\langle 31\\vert \\hat{v} \\vert 12\\rangle$    </td> <td align=\"center\">   =    </td> <td align=\"center\">   (110592*Sqrt[6]*Z)/24137569               </td> </tr>\n",
    "<tr><td align=\"center\">   $\\langle 31\\vert \\hat{v} \\vert 13\\rangle$    </td> <td align=\"center\">   =    </td> <td align=\"center\">   (189*Z)/32768                             </td> </tr>\n",
    "<tr><td align=\"center\">   $\\langle 31\\vert \\hat{v} \\vert 21\\rangle$    </td> <td align=\"center\">   =    </td> <td align=\"center\">   (1555918848*Sqrt[6]*Z)/75429903125        </td> </tr>\n",
    "<tr><td align=\"center\">   $\\langle 31\\vert \\hat{v} \\vert 22\\rangle$    </td> <td align=\"center\">   =    </td> <td align=\"center\">   (2160*Sqrt[3]*Z)/823543                   </td> </tr>\n",
    "<tr><td align=\"center\">   $\\langle 31\\vert \\hat{v} \\vert 23\\rangle$    </td> <td align=\"center\">   =    </td> <td align=\"center\">   (1216512*Sqrt[2]*Z)/815730721             </td> </tr>\n",
    "<tr><td align=\"center\">   $\\langle 31\\vert \\hat{v} \\vert 31\\rangle$    </td> <td align=\"center\">   =    </td> <td align=\"center\">   (815*Z)/8192                              </td> </tr>\n",
    "<tr><td align=\"center\">   $\\langle 31\\vert \\hat{v} \\vert 32\\rangle$    </td> <td align=\"center\">   =    </td> <td align=\"center\">   (37826560*Sqrt[2]*Z)/22024729467          </td> </tr>\n",
    "<tr><td align=\"center\">   $\\langle 31\\vert \\hat{v} \\vert 33\\rangle$    </td> <td align=\"center\">   =    </td> <td align=\"center\">   (617*Z)/(314928*Sqrt[3])                  </td> </tr>\n",
    "<tr><td align=\"center\">   $\\langle 32\\vert \\hat{v} \\vert 11\\rangle$    </td> <td align=\"center\">   =    </td> <td align=\"center\">   (110592*Sqrt[6]*Z)/24137569               </td> </tr>\n",
    "<tr><td align=\"center\">   $\\langle 32\\vert \\hat{v} \\vert 12\\rangle$    </td> <td align=\"center\">   =    </td> <td align=\"center\">   (29943*Sqrt[3]*Z)/13176688                </td> </tr>\n",
    "<tr><td align=\"center\">   $\\langle 32\\vert \\hat{v} \\vert 13\\rangle$    </td> <td align=\"center\">   =    </td> <td align=\"center\">   (1216512*Sqrt[2]*Z)/815730721             </td> </tr>\n",
    "<tr><td align=\"center\">   $\\langle 32\\vert \\hat{v} \\vert 21\\rangle$    </td> <td align=\"center\">   =    </td> <td align=\"center\">   (2160*Sqrt[3]*Z)/823543                   </td> </tr>\n",
    "<tr><td align=\"center\">   $\\langle 32\\vert \\hat{v} \\vert 22\\rangle$    </td> <td align=\"center\">   =    </td> <td align=\"center\">   (5870679552*Sqrt[6]*Z)/669871503125       </td> </tr>\n",
    "<tr><td align=\"center\">   $\\langle 32\\vert \\hat{v} \\vert 23\\rangle$    </td> <td align=\"center\">   =    </td> <td align=\"center\">   (73008*Z)/9765625                         </td> </tr>\n",
    "<tr><td align=\"center\">   $\\langle 32\\vert \\hat{v} \\vert 31\\rangle$    </td> <td align=\"center\">   =    </td> <td align=\"center\">   (37826560*Sqrt[2]*Z)/22024729467          </td> </tr>\n",
    "<tr><td align=\"center\">   $\\langle 32\\vert \\hat{v} \\vert 32\\rangle$    </td> <td align=\"center\">   =    </td> <td align=\"center\">   (32857*Z)/390625                          </td> </tr>\n",
    "<tr><td align=\"center\">   $\\langle 32\\vert \\hat{v} \\vert 33\\rangle$    </td> <td align=\"center\">   =    </td> <td align=\"center\">   (6890942464*Sqrt[2/3]*Z)/1210689028125    </td> </tr>\n",
    "<tr><td align=\"center\">   $\\langle 33\\vert \\hat{v} \\vert 11\\rangle$    </td> <td align=\"center\">   =    </td> <td align=\"center\">   (189*Z)/32768                             </td> </tr>\n",
    "<tr><td align=\"center\">   $\\langle 33\\vert \\hat{v} \\vert 12\\rangle$    </td> <td align=\"center\">   =    </td> <td align=\"center\">   (1216512*Sqrt[2]*Z)/815730721             </td> </tr>\n",
    "<tr><td align=\"center\">   $\\langle 33\\vert \\hat{v} \\vert 13\\rangle$    </td> <td align=\"center\">   =    </td> <td align=\"center\">   (617*Z)/(314928*Sqrt[3])                  </td> </tr>\n",
    "<tr><td align=\"center\">   $\\langle 33\\vert \\hat{v} \\vert 21\\rangle$    </td> <td align=\"center\">   =    </td> <td align=\"center\">   (1216512*Sqrt[2]*Z)/815730721             </td> </tr>\n",
    "<tr><td align=\"center\">   $\\langle 33\\vert \\hat{v} \\vert 22\\rangle$    </td> <td align=\"center\">   =    </td> <td align=\"center\">   (73008*Z)/9765625                         </td> </tr>\n",
    "<tr><td align=\"center\">   $\\langle 33\\vert \\hat{v} \\vert 23\\rangle$    </td> <td align=\"center\">   =    </td> <td align=\"center\">   (6890942464*Sqrt[2/3]*Z)/1210689028125    </td> </tr>\n",
    "<tr><td align=\"center\">   $\\langle 33\\vert \\hat{v} \\vert 31\\rangle$    </td> <td align=\"center\">   =    </td> <td align=\"center\">   (617*Z)/(314928*Sqrt[3])                  </td> </tr>\n",
    "<tr><td align=\"center\">   $\\langle 33\\vert \\hat{v} \\vert 32\\rangle$    </td> <td align=\"center\">   =    </td> <td align=\"center\">   (6890942464*Sqrt[2/3]*Z)/1210689028125    </td> </tr>\n",
    "<tr><td align=\"center\">   $\\langle 33\\vert \\hat{v} \\vert 33\\rangle$    </td> <td align=\"center\">   =    </td> <td align=\"center\">   (17*Z)/256                                </td> </tr>\n",
    "</tbody>\n",
    "</table>\n",
    "<!-- --- end exercise --- -->"
   ]
  }
 ],
 "metadata": {},
 "nbformat": 4,
 "nbformat_minor": 0
}
